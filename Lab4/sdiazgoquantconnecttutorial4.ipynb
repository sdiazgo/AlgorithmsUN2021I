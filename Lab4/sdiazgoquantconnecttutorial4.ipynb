{
  "nbformat": 4,
  "nbformat_minor": 0,
  "metadata": {
    "colab": {
      "name": "sdiazgoquantconnecttutorial4.ipynb",
      "provenance": [],
      "collapsed_sections": []
    },
    "kernelspec": {
      "name": "python3",
      "display_name": "Python 3"
    },
    "language_info": {
      "name": "python"
    }
  },
  "cells": [
    {
      "cell_type": "markdown",
      "metadata": {
        "id": "HjdW3kgI4dX6"
      },
      "source": [
        "#**Introduction to Financial Python**\n",
        "##NumPy and Basic Pandas"
      ]
    },
    {
      "cell_type": "markdown",
      "metadata": {
        "id": "1SjxZEbc4n-s"
      },
      "source": [
        "##**Introduction**"
      ]
    },
    {
      "cell_type": "markdown",
      "metadata": {
        "id": "cwMcJ8dg4rwO"
      },
      "source": [
        "Now that we have introduced the fundamentals of Python, it's time to learn about NumPy and Pandas. "
      ]
    },
    {
      "cell_type": "markdown",
      "metadata": {
        "id": "KBmzHt3H4sPZ"
      },
      "source": [
        "##**NumPy**"
      ]
    },
    {
      "cell_type": "markdown",
      "metadata": {
        "id": "uzTcs8if4u5F"
      },
      "source": [
        "NumPy is the core library for scientific computing in Python. It provides a high-performance multidimensional array object, and tools for working with these arrays. It also has strong integration with Pandas, which is another powerful tool for manipulating financial data. "
      ]
    },
    {
      "cell_type": "markdown",
      "metadata": {
        "id": "DK2h8pJa4xmB"
      },
      "source": [
        "Python packages like NumPy and Pandas contain classes and methods which we can use by importing the package: "
      ]
    },
    {
      "cell_type": "code",
      "metadata": {
        "id": "lLy3n_014ckX"
      },
      "source": [
        "import numpy as np"
      ],
      "execution_count": 1,
      "outputs": []
    },
    {
      "cell_type": "markdown",
      "metadata": {
        "id": "bVLflvpq40U3"
      },
      "source": [
        "###**Basic NumPy Arrays**"
      ]
    },
    {
      "cell_type": "markdown",
      "metadata": {
        "id": "0Nfbumaa47tx"
      },
      "source": [
        "A NumPy array is a grid of values, all of the same type, and is indexed by a tuple of nonnegative integers. Here we make an array by passing a list of Apple stock prices: "
      ]
    },
    {
      "cell_type": "code",
      "metadata": {
        "colab": {
          "base_uri": "https://localhost:8080/"
        },
        "id": "uXRvzq9W449V",
        "outputId": "8dcf65a9-bb28-4f11-e642-dec083aee0f8"
      },
      "source": [
        "price_list = [143.73, 145.83, 143.68, 144.02, 143.5, 142.62]\n",
        "price_array = np.array(price_list)\n",
        "print(price_array, type(price_array))"
      ],
      "execution_count": 2,
      "outputs": [
        {
          "output_type": "stream",
          "text": [
            "[143.73 145.83 143.68 144.02 143.5  142.62] <class 'numpy.ndarray'>\n"
          ],
          "name": "stdout"
        }
      ]
    },
    {
      "cell_type": "markdown",
      "metadata": {
        "id": "EKhzOYpF5B_z"
      },
      "source": [
        "Notice that the type of array is \"ndarray\" which is a multi-dimensional array. If we pass np.array() a list of lists, it will create a 2-dimensional array."
      ]
    },
    {
      "cell_type": "code",
      "metadata": {
        "colab": {
          "base_uri": "https://localhost:8080/"
        },
        "id": "GF4RjHq85CV_",
        "outputId": "3b74eb7b-dfcf-406b-866b-aabcb11b8312"
      },
      "source": [
        "Ar = np.array([[1,3], [2,4]])\n",
        "print(Ar, type(Ar))"
      ],
      "execution_count": 3,
      "outputs": [
        {
          "output_type": "stream",
          "text": [
            "[[1 3]\n",
            " [2 4]] <class 'numpy.ndarray'>\n"
          ],
          "name": "stdout"
        }
      ]
    },
    {
      "cell_type": "markdown",
      "metadata": {
        "id": "ejQxpn945GIa"
      },
      "source": [
        "We get the dimensions of an ndarray using the .shape attribute: "
      ]
    },
    {
      "cell_type": "code",
      "metadata": {
        "colab": {
          "base_uri": "https://localhost:8080/"
        },
        "id": "39s3eZ0M4_n1",
        "outputId": "9bf141b3-b005-4792-bcc0-df8573249bf8"
      },
      "source": [
        "print(Ar.shape)"
      ],
      "execution_count": 4,
      "outputs": [
        {
          "output_type": "stream",
          "text": [
            "(2, 2)\n"
          ],
          "name": "stdout"
        }
      ]
    },
    {
      "cell_type": "markdown",
      "metadata": {
        "id": "u69uS9eN5Kxy"
      },
      "source": [
        "If we create an 2-dimensional array (i.e. matrix), each row can be accessed by index: "
      ]
    },
    {
      "cell_type": "code",
      "metadata": {
        "colab": {
          "base_uri": "https://localhost:8080/"
        },
        "id": "NpE12q5z5KQM",
        "outputId": "63adca2a-d3f3-4a60-96d7-4b41eea097f7"
      },
      "source": [
        "print(Ar[0])"
      ],
      "execution_count": 5,
      "outputs": [
        {
          "output_type": "stream",
          "text": [
            "[1 3]\n"
          ],
          "name": "stdout"
        }
      ]
    },
    {
      "cell_type": "code",
      "metadata": {
        "colab": {
          "base_uri": "https://localhost:8080/"
        },
        "id": "Q8Sq1lEB5QV0",
        "outputId": "aacff163-24bc-4bac-e9d1-59fbc5f45918"
      },
      "source": [
        "print(Ar[1])"
      ],
      "execution_count": 6,
      "outputs": [
        {
          "output_type": "stream",
          "text": [
            "[2 4]\n"
          ],
          "name": "stdout"
        }
      ]
    },
    {
      "cell_type": "markdown",
      "metadata": {
        "id": "vDmkmRZX5Tse"
      },
      "source": [
        "If we want to access the matrix by column instead: "
      ]
    },
    {
      "cell_type": "code",
      "metadata": {
        "colab": {
          "base_uri": "https://localhost:8080/"
        },
        "id": "gaFWIBAO5TH7",
        "outputId": "67d17a56-ff8b-43c3-def2-aab7039cfc22"
      },
      "source": [
        "print('First column:', Ar[:,0])"
      ],
      "execution_count": 7,
      "outputs": [
        {
          "output_type": "stream",
          "text": [
            "First column: [1 2]\n"
          ],
          "name": "stdout"
        }
      ]
    },
    {
      "cell_type": "code",
      "metadata": {
        "colab": {
          "base_uri": "https://localhost:8080/"
        },
        "id": "K0OHsbmk5aGY",
        "outputId": "bdac2ed6-30b2-440f-ef56-210806f54aaf"
      },
      "source": [
        "print('Second column:', Ar[:,1])"
      ],
      "execution_count": 8,
      "outputs": [
        {
          "output_type": "stream",
          "text": [
            "Second column: [3 4]\n"
          ],
          "name": "stdout"
        }
      ]
    },
    {
      "cell_type": "markdown",
      "metadata": {
        "id": "6Uu2FQws5Zxv"
      },
      "source": [
        "###**Array Functions**"
      ]
    },
    {
      "cell_type": "markdown",
      "metadata": {
        "id": "V5xDXgVE5joy"
      },
      "source": [
        "Some functions built in NumPy that allow us to perform calculations on arrays. For example, we can apply the natural logarithm to each element of an array: "
      ]
    },
    {
      "cell_type": "code",
      "metadata": {
        "colab": {
          "base_uri": "https://localhost:8080/"
        },
        "id": "3MCbxwfe5k1P",
        "outputId": "66ca6d24-b1a9-4f81-ef78-3d6ba5df94f1"
      },
      "source": [
        "np.log(price_array)"
      ],
      "execution_count": 9,
      "outputs": [
        {
          "output_type": "execute_result",
          "data": {
            "text/plain": [
              "array([4.96793654, 4.98244156, 4.9675886 , 4.96995218, 4.96633504,\n",
              "       4.96018375])"
            ]
          },
          "metadata": {
            "tags": []
          },
          "execution_count": 9
        }
      ]
    },
    {
      "cell_type": "markdown",
      "metadata": {
        "id": "b8GbuOuI5ok9"
      },
      "source": [
        "Other functions return a single value: "
      ]
    },
    {
      "cell_type": "code",
      "metadata": {
        "colab": {
          "base_uri": "https://localhost:8080/"
        },
        "id": "wdqNbl685mr-",
        "outputId": "9d5527b5-938c-445f-a4b2-0a8ff270f957"
      },
      "source": [
        "np.mean(price_array)"
      ],
      "execution_count": 10,
      "outputs": [
        {
          "output_type": "execute_result",
          "data": {
            "text/plain": [
              "143.89666666666668"
            ]
          },
          "metadata": {
            "tags": []
          },
          "execution_count": 10
        }
      ]
    },
    {
      "cell_type": "code",
      "metadata": {
        "colab": {
          "base_uri": "https://localhost:8080/"
        },
        "id": "mUK7pyD05qSj",
        "outputId": "ec2cca6e-146f-4c1f-cbe6-cfb942b0e809"
      },
      "source": [
        "print(np.std(price_array))"
      ],
      "execution_count": 11,
      "outputs": [
        {
          "output_type": "stream",
          "text": [
            "0.9673790478515796\n"
          ],
          "name": "stdout"
        }
      ]
    },
    {
      "cell_type": "code",
      "metadata": {
        "colab": {
          "base_uri": "https://localhost:8080/"
        },
        "id": "ShxPFJ265rxV",
        "outputId": "a56ee744-0b30-4ac7-8341-8ccac79a8174"
      },
      "source": [
        "print(np.sum(price_array))"
      ],
      "execution_count": 12,
      "outputs": [
        {
          "output_type": "stream",
          "text": [
            "863.38\n"
          ],
          "name": "stdout"
        }
      ]
    },
    {
      "cell_type": "code",
      "metadata": {
        "colab": {
          "base_uri": "https://localhost:8080/"
        },
        "id": "DcXHw6W45weU",
        "outputId": "db6db03d-3f86-4663-fb0a-93d2486aedbc"
      },
      "source": [
        "print(np.max(price_array))"
      ],
      "execution_count": 13,
      "outputs": [
        {
          "output_type": "stream",
          "text": [
            "145.83\n"
          ],
          "name": "stdout"
        }
      ]
    },
    {
      "cell_type": "markdown",
      "metadata": {
        "id": "fAlqg45C51bw"
      },
      "source": [
        "The functions above return the mean, standard deviation, total and maximum value of an array. "
      ]
    },
    {
      "cell_type": "markdown",
      "metadata": {
        "id": "WyADegAA52Cz"
      },
      "source": [
        "##**Pandas**"
      ]
    },
    {
      "cell_type": "markdown",
      "metadata": {
        "id": "xOP6N2U055t8"
      },
      "source": [
        "Pandas is one of the most powerful tools for dealing with financial data. First we need to import Pandas: "
      ]
    },
    {
      "cell_type": "code",
      "metadata": {
        "id": "bQYMO4a15zhr"
      },
      "source": [
        "import pandas as pd"
      ],
      "execution_count": 14,
      "outputs": []
    },
    {
      "cell_type": "markdown",
      "metadata": {
        "id": "WzAmBO4H5-nb"
      },
      "source": [
        "###**Series**"
      ]
    },
    {
      "cell_type": "markdown",
      "metadata": {
        "id": "TTT7yIkk6Awo"
      },
      "source": [
        "Series is a one-dimensional labeled array capable of holding any data type (integers, strings, float, Python object, etc.) "
      ]
    },
    {
      "cell_type": "markdown",
      "metadata": {
        "id": "CQaZd62m6Djt"
      },
      "source": [
        "We create a Series by calling pd.Series(data), where data can be a dictionary, an array or just a scalar value. "
      ]
    },
    {
      "cell_type": "code",
      "metadata": {
        "colab": {
          "base_uri": "https://localhost:8080/"
        },
        "id": "-nKvCuxz6G7Q",
        "outputId": "5c3982b7-b394-4fad-dfb4-766925f2d4da"
      },
      "source": [
        "price = [143.73, 145.83, 143.68, 144.02, 143.5, 142.62]\n",
        "s = pd.Series(price)\n",
        "print(s)"
      ],
      "execution_count": 15,
      "outputs": [
        {
          "output_type": "stream",
          "text": [
            "0    143.73\n",
            "1    145.83\n",
            "2    143.68\n",
            "3    144.02\n",
            "4    143.50\n",
            "5    142.62\n",
            "dtype: float64\n"
          ],
          "name": "stdout"
        }
      ]
    },
    {
      "cell_type": "markdown",
      "metadata": {
        "id": "SqJIt_Oq6KWr"
      },
      "source": [
        "We can customize the indices of a new Series: "
      ]
    },
    {
      "cell_type": "code",
      "metadata": {
        "colab": {
          "base_uri": "https://localhost:8080/"
        },
        "id": "VBTQYO6O6II7",
        "outputId": "d8708a39-2106-465c-be80-34f83dacba1f"
      },
      "source": [
        "s = pd.Series(price, index = ['a', 'b', 'c', 'd', 'e', 'f'])\n",
        "print(s)"
      ],
      "execution_count": 16,
      "outputs": [
        {
          "output_type": "stream",
          "text": [
            "a    143.73\n",
            "b    145.83\n",
            "c    143.68\n",
            "d    144.02\n",
            "e    143.50\n",
            "f    142.62\n",
            "dtype: float64\n"
          ],
          "name": "stdout"
        }
      ]
    },
    {
      "cell_type": "markdown",
      "metadata": {
        "id": "nMRCcqX46O5u"
      },
      "source": [
        "Or we can change the indices of an existing Series: "
      ]
    },
    {
      "cell_type": "code",
      "metadata": {
        "colab": {
          "base_uri": "https://localhost:8080/"
        },
        "id": "jeNLr9gT6MzT",
        "outputId": "580d8768-1369-45dd-b248-e899ceb19e58"
      },
      "source": [
        "s.index = [6,5,4,3,2,1]\n",
        "print(s)"
      ],
      "execution_count": 17,
      "outputs": [
        {
          "output_type": "stream",
          "text": [
            "6    143.73\n",
            "5    145.83\n",
            "4    143.68\n",
            "3    144.02\n",
            "2    143.50\n",
            "1    142.62\n",
            "dtype: float64\n"
          ],
          "name": "stdout"
        }
      ]
    },
    {
      "cell_type": "markdown",
      "metadata": {
        "id": "BkQ216Rn6V0V"
      },
      "source": [
        "Series is like a list since it can be sliced by index: "
      ]
    },
    {
      "cell_type": "code",
      "metadata": {
        "colab": {
          "base_uri": "https://localhost:8080/"
        },
        "id": "UA9YNUvN6RP7",
        "outputId": "aba38244-27d1-440d-d83e-300036554fe9"
      },
      "source": [
        "print(s[1:])\n",
        "print(s[:-2])"
      ],
      "execution_count": 18,
      "outputs": [
        {
          "output_type": "stream",
          "text": [
            "5    145.83\n",
            "4    143.68\n",
            "3    144.02\n",
            "2    143.50\n",
            "1    142.62\n",
            "dtype: float64\n",
            "6    143.73\n",
            "5    145.83\n",
            "4    143.68\n",
            "3    144.02\n",
            "dtype: float64\n"
          ],
          "name": "stdout"
        }
      ]
    },
    {
      "cell_type": "markdown",
      "metadata": {
        "id": "oRtdEZr56b4k"
      },
      "source": [
        "Series is also like a dictionary whose values can be set or fetched by index label: "
      ]
    },
    {
      "cell_type": "code",
      "metadata": {
        "colab": {
          "base_uri": "https://localhost:8080/"
        },
        "id": "H_Lt_D3P6ZD7",
        "outputId": "200e0537-aa16-42a7-d253-349cc273f645"
      },
      "source": [
        "print(s[4])\n",
        "s[4] = 0\n",
        "print(s)"
      ],
      "execution_count": 19,
      "outputs": [
        {
          "output_type": "stream",
          "text": [
            "143.68\n",
            "6    143.73\n",
            "5    145.83\n",
            "4      0.00\n",
            "3    144.02\n",
            "2    143.50\n",
            "1    142.62\n",
            "dtype: float64\n"
          ],
          "name": "stdout"
        }
      ]
    },
    {
      "cell_type": "markdown",
      "metadata": {
        "id": "bQtdMgfe6hTJ"
      },
      "source": [
        "Series can also have a name attribute, which will be used when we make up a Pandas DataFrame using several series. "
      ]
    },
    {
      "cell_type": "code",
      "metadata": {
        "colab": {
          "base_uri": "https://localhost:8080/"
        },
        "id": "ky0Jq5Aw6fTz",
        "outputId": "77f5821c-8250-4c7e-fad6-04d4769eb2ef"
      },
      "source": [
        "s = pd.Series(price, name = 'Apple Prices')\n",
        "print(s)\n",
        "print(s.name)"
      ],
      "execution_count": 20,
      "outputs": [
        {
          "output_type": "stream",
          "text": [
            "0    143.73\n",
            "1    145.83\n",
            "2    143.68\n",
            "3    144.02\n",
            "4    143.50\n",
            "5    142.62\n",
            "Name: Apple Prices, dtype: float64\n",
            "Apple Prices\n"
          ],
          "name": "stdout"
        }
      ]
    },
    {
      "cell_type": "markdown",
      "metadata": {
        "id": "nfr9S_Sx6lsM"
      },
      "source": [
        "We can get the statistical summaries of a Series: "
      ]
    },
    {
      "cell_type": "code",
      "metadata": {
        "colab": {
          "base_uri": "https://localhost:8080/"
        },
        "id": "Ez4MSK4w6kq7",
        "outputId": "fd2856cc-3e1a-43dc-f392-8513ade9f04c"
      },
      "source": [
        "print(s.describe())"
      ],
      "execution_count": 21,
      "outputs": [
        {
          "output_type": "stream",
          "text": [
            "count      6.000000\n",
            "mean     143.896667\n",
            "std        1.059711\n",
            "min      142.620000\n",
            "25%      143.545000\n",
            "50%      143.705000\n",
            "75%      143.947500\n",
            "max      145.830000\n",
            "Name: Apple Prices, dtype: float64\n"
          ],
          "name": "stdout"
        }
      ]
    },
    {
      "cell_type": "markdown",
      "metadata": {
        "id": "N2HDy-je6r0T"
      },
      "source": [
        "###**Time Index**"
      ]
    },
    {
      "cell_type": "markdown",
      "metadata": {
        "id": "pS4wts0X6vfM"
      },
      "source": [
        "Pandas has a built-in function specifically for creating date indices: pd.date_range(). We use it to create a new index for our Series: "
      ]
    },
    {
      "cell_type": "code",
      "metadata": {
        "colab": {
          "base_uri": "https://localhost:8080/"
        },
        "id": "2eRbav6r6pFU",
        "outputId": "bfa8b3ef-7bc8-4426-f333-c802bba9b6f6"
      },
      "source": [
        "time_index = pd.date_range('2017-01-01', periods = len(s), freq = 'D')\n",
        "print(time_index)\n",
        "s.index = time_index\n",
        "print(s)"
      ],
      "execution_count": 22,
      "outputs": [
        {
          "output_type": "stream",
          "text": [
            "DatetimeIndex(['2017-01-01', '2017-01-02', '2017-01-03', '2017-01-04',\n",
            "               '2017-01-05', '2017-01-06'],\n",
            "              dtype='datetime64[ns]', freq='D')\n",
            "2017-01-01    143.73\n",
            "2017-01-02    145.83\n",
            "2017-01-03    143.68\n",
            "2017-01-04    144.02\n",
            "2017-01-05    143.50\n",
            "2017-01-06    142.62\n",
            "Freq: D, Name: Apple Prices, dtype: float64\n"
          ],
          "name": "stdout"
        }
      ]
    },
    {
      "cell_type": "markdown",
      "metadata": {
        "id": "-r-q6zMD623a"
      },
      "source": [
        "Series are usually accessed using the iloc[] and loc[] methods. iloc[] is used to access elements by integer index, and loc[] is used to access the index of the series. "
      ]
    },
    {
      "cell_type": "markdown",
      "metadata": {
        "id": "P1D4muvW651F"
      },
      "source": [
        "iloc[] is necessary when the index of a series are integers, take our previous defined series as example: "
      ]
    },
    {
      "cell_type": "code",
      "metadata": {
        "colab": {
          "base_uri": "https://localhost:8080/"
        },
        "id": "m2Y9prKf66-J",
        "outputId": "3f0b54b2-0101-4bd6-ae30-bfb36a8ae05c"
      },
      "source": [
        "s.index = [6,5,4,3,2,1]\n",
        "print(s)\n",
        "print(s[1])"
      ],
      "execution_count": 23,
      "outputs": [
        {
          "output_type": "stream",
          "text": [
            "6    143.73\n",
            "5    145.83\n",
            "4    143.68\n",
            "3    144.02\n",
            "2    143.50\n",
            "1    142.62\n",
            "Name: Apple Prices, dtype: float64\n",
            "142.62\n"
          ],
          "name": "stdout"
        }
      ]
    },
    {
      "cell_type": "markdown",
      "metadata": {
        "id": "ERkR68xp7AHj"
      },
      "source": [
        "If we intended to take the second element of the series, we would make a mistake here, because the index are integers. In order to access to the element we want, we use iloc[] here: "
      ]
    },
    {
      "cell_type": "code",
      "metadata": {
        "colab": {
          "base_uri": "https://localhost:8080/"
        },
        "id": "oVHyhoeZ6_Z0",
        "outputId": "c27b0261-8739-4dfb-f1d6-d6961c086e4f"
      },
      "source": [
        "print(s.iloc[1])"
      ],
      "execution_count": 24,
      "outputs": [
        {
          "output_type": "stream",
          "text": [
            "145.83\n"
          ],
          "name": "stdout"
        }
      ]
    },
    {
      "cell_type": "markdown",
      "metadata": {
        "id": "08AW0Yy57FJb"
      },
      "source": [
        "While working with time series data, we often use time as the index. Pandas provides us with various methods to access the data by time index."
      ]
    },
    {
      "cell_type": "code",
      "metadata": {
        "colab": {
          "base_uri": "https://localhost:8080/"
        },
        "id": "VZHEYSyf7Evs",
        "outputId": "8f5fa181-91ba-4e95-daad-48355329946a"
      },
      "source": [
        "s.index = time_index\n",
        "print(s['2017-01-03'])"
      ],
      "execution_count": 25,
      "outputs": [
        {
          "output_type": "stream",
          "text": [
            "143.68\n"
          ],
          "name": "stdout"
        }
      ]
    },
    {
      "cell_type": "markdown",
      "metadata": {
        "id": "_nz0yaaR7NFW"
      },
      "source": [
        "We can even access to a range of dates:"
      ]
    },
    {
      "cell_type": "code",
      "metadata": {
        "colab": {
          "base_uri": "https://localhost:8080/"
        },
        "id": "TnYe9MKd7J_b",
        "outputId": "2834a175-866b-4c63-976c-01ad766854c7"
      },
      "source": [
        "print(s['2017-01-02':'2017-01-05'])"
      ],
      "execution_count": 26,
      "outputs": [
        {
          "output_type": "stream",
          "text": [
            "2017-01-02    145.83\n",
            "2017-01-03    143.68\n",
            "2017-01-04    144.02\n",
            "2017-01-05    143.50\n",
            "Freq: D, Name: Apple Prices, dtype: float64\n"
          ],
          "name": "stdout"
        }
      ]
    },
    {
      "cell_type": "markdown",
      "metadata": {
        "id": "IBNlvsvq7SQY"
      },
      "source": [
        "Series[] provides us a very flexible way to index data. We can add any condition in the square brackets: "
      ]
    },
    {
      "cell_type": "code",
      "metadata": {
        "id": "9sdyzBxG7O_j",
        "colab": {
          "base_uri": "https://localhost:8080/"
        },
        "outputId": "c98a3db6-f632-4358-f83b-d30729d1acbb"
      },
      "source": [
        "print(s[s < np.mean(s)])\n",
        "print(s[(s > np.mean(s)) & (s < np.mean(s) + 1.64*np.std(s))])"
      ],
      "execution_count": 27,
      "outputs": [
        {
          "output_type": "stream",
          "text": [
            "2017-01-01    143.73\n",
            "2017-01-03    143.68\n",
            "2017-01-05    143.50\n",
            "2017-01-06    142.62\n",
            "Name: Apple Prices, dtype: float64\n",
            "2017-01-04    144.02\n",
            "Freq: D, Name: Apple Prices, dtype: float64\n"
          ],
          "name": "stdout"
        }
      ]
    },
    {
      "cell_type": "markdown",
      "metadata": {
        "id": "hWNIMSiy7WZL"
      },
      "source": [
        "As demonstrated, we can use logical operators like & (and), | (or) and ~ (not) to group multiple conditions. "
      ]
    },
    {
      "cell_type": "markdown",
      "metadata": {
        "id": "il5ATxlk7YLr"
      },
      "source": [
        "##**Summary**"
      ]
    },
    {
      "cell_type": "markdown",
      "metadata": {
        "id": "4w6Bfgnm7aXq"
      },
      "source": [
        "Here we have introduced NumPy and Pandas for scientific computing in Python. In the next chapter, we will dive into Pandas to learn resampling and manipulating Pandas DataFrame, which are commonly used in financial data analysis. "
      ]
    }
  ]
}