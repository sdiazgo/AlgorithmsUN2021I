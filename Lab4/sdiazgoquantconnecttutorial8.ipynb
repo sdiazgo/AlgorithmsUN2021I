{
  "nbformat": 4,
  "nbformat_minor": 0,
  "metadata": {
    "kernelspec": {
      "display_name": "Python 3",
      "language": "python",
      "name": "python3"
    },
    "language_info": {
      "codemirror_mode": {
        "name": "ipython",
        "version": 3
      },
      "file_extension": ".py",
      "mimetype": "text/x-python",
      "name": "python",
      "nbconvert_exporter": "python",
      "pygments_lexer": "ipython3",
      "version": "3.6.8"
    },
    "colab": {
      "name": "sdiazgoquantconnecttutorial8.ipynb",
      "provenance": []
    }
  },
  "cells": [
    {
      "cell_type": "markdown",
      "metadata": {
        "id": "R2E85JkribkJ"
      },
      "source": [
        "![QuantConnect Logo](https://cdn.quantconnect.com/web/i/icon.png)\n",
        "<hr>"
      ]
    },
    {
      "cell_type": "markdown",
      "metadata": {
        "id": "IzbvATQ1ibkN"
      },
      "source": [
        "# **Introduction to Financial Python**\n",
        "## Confidence Interval and Hypothesis Testing"
      ]
    },
    {
      "cell_type": "markdown",
      "metadata": {
        "id": "jeNYy9wqibkO"
      },
      "source": [
        "## **Introduction**"
      ]
    },
    {
      "cell_type": "markdown",
      "metadata": {
        "id": "zAJOA2CbibkP"
      },
      "source": [
        "In the last chapter we discussed random variables and random distributions. Now we are going to use the distributions we learned to test our hypothesis and also to model the financial data. When building a trading strategy, it's essential to do some research. However, you won't be able to test your idea using all the data, because it's infinity. You can only use a sample to do your experiment. That's why we need to understand the difference between population and sample, and then use confidence interval to test our hypothesis.\n",
        "\n",
        "As we mentioned before, both mean and standard deviation are point estimation, and they can be deceiving because sample means are different from population means. Financial data is generated every day now and in the future, thus even though we can use all the data available, it's still just a sample. This is why we need to use confidence interval to attempt to determine how accurate our sample mean estimation is."
      ]
    },
    {
      "cell_type": "markdown",
      "metadata": {
        "id": "c_kI6AmpibkP"
      },
      "source": [
        "## **Confidence Interval**"
      ]
    },
    {
      "cell_type": "markdown",
      "metadata": {
        "id": "8gmZTdzkibkQ"
      },
      "source": [
        "### **Sample Error**"
      ]
    },
    {
      "cell_type": "markdown",
      "metadata": {
        "id": "9nesy1dMibkR"
      },
      "source": [
        "Let's use the daily return on S&P 500 index from Aug 2010 to present is our population. If we take the recent 10 daily returns to calculate the mean, will it be the same as the population mean? How about increasing the sample size to 1000?"
      ]
    },
    {
      "cell_type": "code",
      "metadata": {
        "id": "c2JLkeDqibkR",
        "outputId": "af9845e4-8838-4ced-e092-f314d723ebf5"
      },
      "source": [
        "import matplotlib.pyplot as plt\n",
        "import numpy as np\n",
        "import pandas as pd\n",
        "\n",
        "qb = QuantBook()\n",
        "spy = qb.AddEquity(\"SPY\").Symbol\n",
        "\n",
        "#get SPY data from August 2010 to the present\n",
        "start_date = datetime(2010, 8, 1, 0, 0, 0)\n",
        "end_date = qb.Time\n",
        "spy_table = qb.History(spy, start_date, end_date, Resolution.Daily)\n",
        "\n",
        "spy_total = spy_table[['open','close']]\n",
        "#calculate log returns\n",
        "spy_log_return = np.log(spy_total.close).diff().dropna()\n",
        "print('Population mean:', np.mean(spy_log_return))"
      ],
      "execution_count": null,
      "outputs": [
        {
          "output_type": "stream",
          "text": [
            "Population mean: 0.0005516176334504788\n"
          ],
          "name": "stdout"
        }
      ]
    },
    {
      "cell_type": "code",
      "metadata": {
        "id": "utcR9VoFibkT",
        "outputId": "3fea033b-08a7-410e-90cc-b2e3217532ea"
      },
      "source": [
        "print('Population standard deviation:',np.std(spy_log_return))"
      ],
      "execution_count": null,
      "outputs": [
        {
          "output_type": "stream",
          "text": [
            "Population standard deviation: 0.010781222229683867\n"
          ],
          "name": "stdout"
        }
      ]
    },
    {
      "cell_type": "markdown",
      "metadata": {
        "id": "peQuH1sdibkU"
      },
      "source": [
        "Now let's check the recent 10 days sample and recent 1000 days sample:"
      ]
    },
    {
      "cell_type": "code",
      "metadata": {
        "id": "Lv7b0iVGibkV",
        "outputId": "08e95970-3ded-45bf-9ce9-343e5a9f5356"
      },
      "source": [
        "print('10 days sample returns:', np.mean(spy_log_return.tail(10)))"
      ],
      "execution_count": null,
      "outputs": [
        {
          "output_type": "stream",
          "text": [
            "10 days sample returns: 0.0026323295386376346\n"
          ],
          "name": "stdout"
        }
      ]
    },
    {
      "cell_type": "code",
      "metadata": {
        "id": "bR622YzBibkW",
        "outputId": "852ef894-10df-492d-a9ec-3f2babae44ad"
      },
      "source": [
        "print('10 days sample standard deviation:', np.std(spy_log_return.tail(10)))"
      ],
      "execution_count": null,
      "outputs": [
        {
          "output_type": "stream",
          "text": [
            "10 days sample standard deviation: 0.00715468949906526\n"
          ],
          "name": "stdout"
        }
      ]
    },
    {
      "cell_type": "code",
      "metadata": {
        "id": "M5glTYAyibkW",
        "outputId": "e305dab4-4eb2-4395-9dcd-8fa75bce9cc5"
      },
      "source": [
        "print('1000 days sample returns:', np.mean(spy_log_return.tail(1000)))"
      ],
      "execution_count": null,
      "outputs": [
        {
          "output_type": "stream",
          "text": [
            "1000 days sample returns: 0.0006074586083081054\n"
          ],
          "name": "stdout"
        }
      ]
    },
    {
      "cell_type": "code",
      "metadata": {
        "id": "gXkHRZflibkX",
        "outputId": "43c48b9d-f6d9-4493-d200-bb8f98e3584a"
      },
      "source": [
        "print('1000 days sample standard deviation:', np.std(spy_log_return.tail(1000)))"
      ],
      "execution_count": null,
      "outputs": [
        {
          "output_type": "stream",
          "text": [
            "1000 days sample standard deviation: 0.012935993964839899\n"
          ],
          "name": "stdout"
        }
      ]
    },
    {
      "cell_type": "markdown",
      "metadata": {
        "id": "jS7l8cHaibkY"
      },
      "source": [
        "As we expected, the two samples has different means and variances."
      ]
    },
    {
      "cell_type": "markdown",
      "metadata": {
        "id": "ptieoLbTibkY"
      },
      "source": [
        "### **Confidence Interval**"
      ]
    },
    {
      "cell_type": "markdown",
      "metadata": {
        "id": "nz6zLH2gibkY"
      },
      "source": [
        "In order to estimate the range of population mean, we define standard error of the mean as follows:\n",
        "\n",
        "$SE = \\frac{\\sigma}{\\sqrt{n}}$\n",
        "\n",
        "Where $\\sigma$ is the sample standard deviation and $n$ is the sample size.\n",
        "\n",
        "Generally, if we want to estimate an interval of the population so that 95% of the time the interval will contain the population mean, the interval is calculated as:\n",
        "\n",
        "$\\mu - 1.96*SE, \\mu + 1.96*SE)$\n",
        "\n",
        "Where $\\mu$ is the sample mean and SE is the standard error.\n",
        "\n",
        "This interval is called confidence interval. We usually use 1.96 to calculate a 95% confidence interval because we assume that the sample mean follows normal distribution. We will cover this in detail later. Let's try to calculate the confidence interval using the samples above:"
      ]
    },
    {
      "cell_type": "code",
      "metadata": {
        "id": "tuzB81fTibkZ",
        "outputId": "7cc9f3c3-58a7-4f13-ab90-1311efb65881"
      },
      "source": [
        "#apply the formula above to calculate confidence interval\n",
        "bottom_1 = np.mean(spy_log_return.tail(10))-1.96*np.std(spy_log_return.tail(10))/(np.sqrt(len((spy_log_return.tail(10)))))\n",
        "upper_1 = np.mean(spy_log_return.tail(10))+1.96*np.std(spy_log_return.tail(10))/(np.sqrt(len((spy_log_return.tail(10)))))\n",
        "bottom_2 = np.mean(spy_log_return.tail(1000))-1.96*np.std(spy_log_return.tail(1000))/(np.sqrt(len((spy_log_return.tail(1000)))))\n",
        "upper_2 = np.mean(spy_log_return.tail(1000))+1.96*np.std(spy_log_return.tail(1000))/(np.sqrt(len((spy_log_return.tail(1000)))))\n",
        "#print the outcomes\n",
        "print('10 days 95% confidence inverval:', (bottom_1,upper_1))"
      ],
      "execution_count": null,
      "outputs": [
        {
          "output_type": "stream",
          "text": [
            "10 days 95% confidence inverval: (-0.0018021929559560966, 0.007066852033231366)\n"
          ],
          "name": "stdout"
        }
      ]
    },
    {
      "cell_type": "code",
      "metadata": {
        "id": "D4H58DwPibkZ",
        "outputId": "a65f3c71-2894-46cc-dfa9-13273143a9fe"
      },
      "source": [
        "print('1000 days 95% confidence inverval:', (bottom_2,upper_2))"
      ],
      "execution_count": null,
      "outputs": [
        {
          "output_type": "stream",
          "text": [
            "1000 days 95% confidence inverval: (-0.00019432260434278396, 0.0014092398209589949)\n"
          ],
          "name": "stdout"
        }
      ]
    },
    {
      "cell_type": "markdown",
      "metadata": {
        "id": "VW3B5HnPibkZ"
      },
      "source": [
        "As we can see, the 95% confidence interval became much narrower if we increase the sample size from 10 to 1000. Imagine that if N goes positive infinite, then we have $\\lim_{n\\rightarrow \\infty}\\frac{\\sigma}{\\sqrt{n}} = 0$. The confidence interval would become a certain value, which is the sample mean!"
      ]
    },
    {
      "cell_type": "markdown",
      "metadata": {
        "id": "Y6tQtH5Wibka"
      },
      "source": [
        "### **Confidence Interval of Normal Distribution**"
      ]
    },
    {
      "cell_type": "markdown",
      "metadata": {
        "id": "mgr0wNVbibka"
      },
      "source": [
        "Normal Distribution is so commonly used that we should be able to remember some critical values of it. Specifically, we usually use 90%, 95% and 99% as the confidence level of a confidence interval. The critical values for these three confidence levels are 1.64, 1.96, and 2.32 respectively. in other words:\n",
        "\n",
        "$\\%90 upperabnd = \\mu + 1.64*SE$\n",
        "\n",
        "$\\%90 lowerband = \\mu + 1.64*SE$\n",
        "\n",
        "The same for other confidence intervals. It's also important to remember the famous 'Three sigma rule' or '68-95-99.7' rule associated with normal distribution. This is used to remember the confidence level of the intervals with a width of two, four and six standard deviation. Mathematically:\n",
        "\n",
        "$P(\\mu - \\sigma \\leq X \\leq \\mu+\\sigma)\\approx 0.6827$\n",
        "\n",
        "$P(\\mu - 2\\sigma \\leq X \\leq \\mu+2\\sigma)\\approx 0.9545$\n",
        "\n",
        "$P(\\mu - 3\\sigma \\leq X \\leq \\mu+3\\sigma)\\approx 0.9973$\n",
        "\n",
        "This can also be remembered by using the chart:"
      ]
    },
    {
      "cell_type": "markdown",
      "metadata": {
        "id": "qVJ-Jf98ibka"
      },
      "source": [
        "![Tutorial08-empirical-rule.png](data:image/png;base64,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)"
      ]
    },
    {
      "cell_type": "markdown",
      "metadata": {
        "id": "YhCaEZQyibka"
      },
      "source": [
        "### **Central Limit Theory**"
      ]
    },
    {
      "cell_type": "markdown",
      "metadata": {
        "id": "AlFBbShVibka"
      },
      "source": [
        "As we mentioned, if we use the sample to estimate the confidence interval of the population, the 95% confidence interval is:\n",
        "\n",
        "$(\\mu - 1.96*SE, \\mu + 1.96*SE)$\n",
        "\n",
        "Now you may have some sense to the number 1.96. It's the 95% critical value of a normal distribution. Does this means we assume the mean of sample follows a normal distribution? The answer is yes. This assumption is supported by central limit theorem. This theorem tells us that given a sufficiently large sample size from a population with a finite level of variance, the mean of all samples from the same population will be approximately equal to the mean of the population, and the means of the samples will be approximately normal distributed. This is the foundation of population mean confidence interval estimation."
      ]
    },
    {
      "cell_type": "markdown",
      "metadata": {
        "id": "-klBTvg5ibkb"
      },
      "source": [
        "## **Hypothesis testing**"
      ]
    },
    {
      "cell_type": "markdown",
      "metadata": {
        "id": "-xtHw3Nxibkb"
      },
      "source": [
        "Now we can talk about hypothesis testing. Hypothesis test is essentially test your inference based on a sample. Let's use our dataset, the daily return of S&P 500 us our population. Assume that we don't know the mean of this population. I guess that the mean of this population is 0. Is my guess correct? I need to test this hypothesis with my sample. Let's start from observing our sample:"
      ]
    },
    {
      "cell_type": "code",
      "metadata": {
        "id": "5TvU0gaCibkb",
        "outputId": "e4801c7a-a956-4f59-8cc3-ffd797fadb10"
      },
      "source": [
        "mean_1000 = np.mean(spy_log_return.tail(1000))\n",
        "std_1000 = np.std(spy_log_return.tail(1000))\n",
        "mean_10 = np.mean(spy_log_return.tail(10))\n",
        "std_10 = np.std(spy_log_return.tail(10))\n",
        "s = pd.Series([mean_10,std_10,mean_1000,std_1000],index = ['mean_10', 'std_10','mean_1000','std_1000'])\n",
        "print(s)"
      ],
      "execution_count": null,
      "outputs": [
        {
          "output_type": "stream",
          "text": [
            "mean_10      0.002632\n",
            "std_10       0.007155\n",
            "mean_1000    0.000607\n",
            "std_1000     0.012936\n",
            "dtype: float64\n"
          ],
          "name": "stdout"
        }
      ]
    },
    {
      "cell_type": "markdown",
      "metadata": {
        "id": "e3FoB_dzibkb"
      },
      "source": [
        "We know how to calculate the confidence interval now. If I were right, i.e. the population mean is 0, then the 90% confidence interval of the sample with 1000 observations should be: "
      ]
    },
    {
      "cell_type": "code",
      "metadata": {
        "id": "ajJ8ykkMibkb",
        "outputId": "54dcaeca-a4eb-4eb2-d979-39f3a9eab253"
      },
      "source": [
        "bottom = 0 - 1.64*std_1000/np.sqrt(1000)\n",
        "upper = 0 + 1.64*std_1000/np.sqrt(1000)\n",
        "print((bottom, upper))"
      ],
      "execution_count": null,
      "outputs": [
        {
          "output_type": "stream",
          "text": [
            "(-0.0006708781575242135, 0.0006708781575242135)\n"
          ],
          "name": "stdout"
        }
      ]
    },
    {
      "cell_type": "markdown",
      "metadata": {
        "id": "WLBFbBTqibkc"
      },
      "source": [
        "Our mean of the sample is out of the 90% confidence interval. This means on a 90% confidence level, we can claim that the mean of our population is not 0. In other word, we rejected the hypothesis that the daily return on S&P500 from aug 2010 is zero. Can we claim that with 95% confidence level? "
      ]
    },
    {
      "cell_type": "code",
      "metadata": {
        "id": "oOzBW8e-ibkc",
        "outputId": "bb66344a-0a1a-492a-b6a8-ce33d8abf865"
      },
      "source": [
        "bottom = 0 - 1.96*std_1000/np.sqrt(1000)\n",
        "upper = 0 + 1.96*std_1000/np.sqrt(1000)\n",
        "print((bottom, upper))"
      ],
      "execution_count": null,
      "outputs": [
        {
          "output_type": "stream",
          "text": [
            "(-0.0008017812126508894, 0.0008017812126508894)\n"
          ],
          "name": "stdout"
        }
      ]
    },
    {
      "cell_type": "markdown",
      "metadata": {
        "id": "xBQyH7Hqibkc"
      },
      "source": [
        "This time the sample mean is within the confidence interval. Thus we can't reject my hypothesis. In other words, we can't claim with 95% confidence level that the mean return is positive. Even though we can claim it with 90% confidence level. We have actually already finished a hypothesis testing above! In general, we have null hypothesis $H_0$ and alternative hypothesis. They are usually in the following forms:\n",
        "\n",
        "$H_0:\\bar{\\mu} = 0\\$\n",
        "\n",
        "$H_0:\\bar{\\mu} \\neq 0\\$\n",
        "\n",
        "If the tested value is outside the confidence interval, we reject the null hypothesis, or accept the alternative hypothesis; If the tested value is within the confidence interval, we can't reject the null hypothesis. Although the hypothesis testing method we used above is straightforward, it's not so convenient to implement. Instead, we reverse the process to calculate the critical value, or Z-score. Z-score is defined as:\n",
        "\n",
        "$Z = \\frac{X - \\mu}{\\frac{\\sigma}{\\sqrt{n}}}$\n",
        "\n",
        "Let's calculate the Z score from our sample: "
      ]
    },
    {
      "cell_type": "code",
      "metadata": {
        "id": "NEIYe78Libkd",
        "outputId": "2a6af661-1225-424d-b408-e84b52eab469"
      },
      "source": [
        "print(np.sqrt(1000)*(mean_1000 - 0)/std_1000)"
      ],
      "execution_count": null,
      "outputs": [
        {
          "output_type": "stream",
          "text": [
            "1.4849672872071953\n"
          ],
          "name": "stdout"
        }
      ]
    },
    {
      "cell_type": "markdown",
      "metadata": {
        "id": "PaZCR54Zibkd"
      },
      "source": [
        "We know that the critical value for the 90% confidence level is 1.64 and that for the 95% confidence level is 95%. The higher the Z score is, the further the tested value is from the hypothesized value(which is 0 in this example). Thus with 90% confidence level, we are far away enough from zero and we reject the null hypothesis. However with 95% confidence level, we are not far away enough from zero, so we can't reject the null hypothesis. One reason of doing in this way is that we can know how wide our confidence interval is. In our example, the z-score is 1.8488. We can know the width is the confidence interval referring to a normal distribution table. Of course we can do this in Python:"
      ]
    },
    {
      "cell_type": "code",
      "metadata": {
        "id": "mZIxoToMibkd",
        "outputId": "3d415779-7dbe-4171-8c97-c89e83d69f62"
      },
      "source": [
        "import scipy.stats as st\n",
        "print((1 - st.norm.cdf(1.9488)))"
      ],
      "execution_count": null,
      "outputs": [
        {
          "output_type": "stream",
          "text": [
            "0.02565965688799665\n"
          ],
          "name": "stdout"
        }
      ]
    },
    {
      "cell_type": "markdown",
      "metadata": {
        "id": "hOFZLGd2ibkd"
      },
      "source": [
        "It's worth noting that st.norm.cdf will return the probability that a value take from the distribution is less than our tested value. In other words, 1 - st.norm.cdf(1.9488) will return the probability that the value is greater than our tested value, which is 0.025659 in this example. This calculated number is called p-value. If our confidence level our confidence interval is 95%, then we have 2.5% on the left side and 2.5% on the right side. This is called two-tail test. If our null hypothesis is μ=0, we are conducting two-tail test because the tested sample mean can be either positive enough or negative enough to reject the null hypothesis. We can see it from the chart:"
      ]
    },
    {
      "cell_type": "markdown",
      "metadata": {
        "id": "I6vSd6Lkibke"
      },
      "source": [
        "![Tutorial08-confidence-interval.jpg](data:image/jpeg;base64,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)"
      ]
    },
    {
      "cell_type": "markdown",
      "metadata": {
        "id": "x7iRiawFibke"
      },
      "source": [
        "If we use 95% confidence interval, we need a p-value less than 0.025 to reject the null hypothesis. However, now our p-value is 0.025659, which is greater than 0.025, thus we can't reject the null hypothesis. It's obviously less than 0.05, so we can still reject the null hypothesis with 90% confidence level. Now let's test the hypothesis that population mean = 0 again with a large sample, which has 1200 observations:"
      ]
    },
    {
      "cell_type": "code",
      "metadata": {
        "id": "isLZkkGTibke",
        "outputId": "8abe2a6f-bc82-415d-edb8-77a5819be4db"
      },
      "source": [
        "mean_1200 = np.mean(spy_log_return.tail(1200))\n",
        "std_1200 = np.std(spy_log_return.tail(1200))\n",
        "z_score = np.sqrt(1200)*(mean_1200 - 0)/std_1200\n",
        "print('z-score = ',z_score)"
      ],
      "execution_count": null,
      "outputs": [
        {
          "output_type": "stream",
          "text": [
            "z-score =  1.844287314157845\n"
          ],
          "name": "stdout"
        }
      ]
    },
    {
      "cell_type": "code",
      "metadata": {
        "id": "CQFU5Rc7ibke",
        "outputId": "203307d7-771e-42dc-b1d7-03bee5ef0f64"
      },
      "source": [
        "p_value = (1 - st.norm.cdf(z_score))\n",
        "print('p_value = ',p_value)"
      ],
      "execution_count": null,
      "outputs": [
        {
          "output_type": "stream",
          "text": [
            "p_value =  0.032570639644587174\n"
          ],
          "name": "stdout"
        }
      ]
    },
    {
      "cell_type": "markdown",
      "metadata": {
        "id": "ew7JLNsHibkf"
      },
      "source": [
        "Using the a larger sample, now we can reject the null hypothesis with a higher confidence interval! our p-value is 0.0105, and it's a two-tail test, so our confidence level of the interval is 1-(0.0105*2) = 0.979. We can say at most with 97.9% confidence interval, we can claim that the population mean is not zero. We already know that the population mean is not 0. As our sample size increasing, the accurate rate of our hypothesis goes up."
      ]
    },
    {
      "cell_type": "markdown",
      "metadata": {
        "id": "-rCx0yDCibkf"
      },
      "source": [
        "## **Summary**"
      ]
    },
    {
      "cell_type": "markdown",
      "metadata": {
        "id": "MO5fJ0T0ibkf"
      },
      "source": [
        "In this chapter we introduced confidence interval, especially that for the normal distribution, and hypothesis test. Now we know how to test our idea rigorously. Normal distribution and it's confidence interval can be applied to many quantitative finance theories, we will see it frequently in our following tutorials."
      ]
    },
    {
      "cell_type": "code",
      "metadata": {
        "id": "_UXrk4XNibkf"
      },
      "source": [
        ""
      ],
      "execution_count": null,
      "outputs": []
    }
  ]
}