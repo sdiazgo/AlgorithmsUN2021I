{
  "nbformat": 4,
  "nbformat_minor": 0,
  "metadata": {
    "colab": {
      "name": "sdiazgoquantconnecttutorial6.ipynb",
      "provenance": [],
      "collapsed_sections": []
    },
    "kernelspec": {
      "name": "python3",
      "display_name": "Python 3"
    },
    "language_info": {
      "name": "python"
    }
  },
  "cells": [
    {
      "cell_type": "markdown",
      "metadata": {
        "id": "pY0kJ7jEJ5V7"
      },
      "source": [
        "#**Introduction to Financial Python**\n",
        "##Rate of Return, Mean and Variance"
      ]
    },
    {
      "cell_type": "markdown",
      "metadata": {
        "id": "42StdSsvJ94P"
      },
      "source": [
        "##**Introduction**"
      ]
    },
    {
      "cell_type": "markdown",
      "metadata": {
        "id": "QiUefqV3J_mA"
      },
      "source": [
        "In this chapter we are going to introduce some basic concepts in quantitative finance. We start with rate of return, mean and variance. You may think it's simple to calculate these values, however, there are number of different methods to calculate them. It's important to choose the appropriate calculation methods case by case. "
      ]
    },
    {
      "cell_type": "markdown",
      "metadata": {
        "id": "HKuY0MLKKC-C"
      },
      "source": [
        "##**Rate of Return**"
      ]
    },
    {
      "cell_type": "markdown",
      "metadata": {
        "id": "YT3ego75KFmM"
      },
      "source": [
        "###**Single-period Return**"
      ]
    },
    {
      "cell_type": "markdown",
      "metadata": {
        "id": "3N7mXl-_KNAN"
      },
      "source": [
        "The single-period rate of return can be calculated as following: \n",
        "\n",
        "$r = \\frac{p_{t}}{p_{0}} - 1 = \\frac{p_{t} - p_{0}}{p_{0}}$\n",
        "\n",
        "Where $r$ is the rate of return, $p_{t}$ is the asset price at time $t$, and $p_{0}$ is the asset price at time 0. "
      ]
    },
    {
      "cell_type": "code",
      "metadata": {
        "colab": {
          "base_uri": "https://localhost:8080/"
        },
        "id": "Nqf0OuXeB39C",
        "outputId": "3430f450-84c7-40ce-b908-86a889fb223b"
      },
      "source": [
        "import numpy as np\n",
        "rate_return = 102.0/100 - 1\n",
        "print(rate_return)"
      ],
      "execution_count": 1,
      "outputs": [
        {
          "output_type": "stream",
          "text": [
            "0.020000000000000018\n"
          ],
          "name": "stdout"
        }
      ]
    },
    {
      "cell_type": "markdown",
      "metadata": {
        "id": "umkB7-nvLgqf"
      },
      "source": [
        "Let's say we bought a stock at \\$100, and half a year later it will grow to \\$102. A year later the price will come to \\$104. How to calculate our total return? Well, we can either deem it as a single-period: "
      ]
    },
    {
      "cell_type": "markdown",
      "metadata": {
        "id": "kbTdvzYkLhfI"
      },
      "source": [
        "$r = \\frac{104}{100} -1 = 0.04$\n",
        "\n",
        "or as a two-stage period: \n",
        "\n",
        "$r = (1 + r_{1}) * (1 + r_{2}) - 1 = \\frac{102}{100} * \\frac{104}{102} - 1 = 0.04$\n",
        "\n",
        "Here we make calculations twice a year. It's called semi-annual compounding. How about quarterly compounding? Let's assume the stock prices at the end of each quarter are $p_{1}, p_{2}, p_{3}, p_{4}$ respectively. \n",
        "\n",
        "$r = (1 + r_{1}) * (1 + r_{2}) * (1 + r_{3}) * (1 + r_{4}) - 1$"
      ]
    },
    {
      "cell_type": "markdown",
      "metadata": {
        "id": "SuX9wY7uM4s7"
      },
      "source": [
        "The rate of return we calculate here is called cumulative return or overall return. It measures the total return of this asset over a period of time. "
      ]
    },
    {
      "cell_type": "markdown",
      "metadata": {
        "id": "qak1tvgSM7nS"
      },
      "source": [
        "Now consider the following situation: we have two strategies: strategy A and strategy B. We backtested strategy A for 1 years and the cumulative return is 20%, while we backtested strategy B for 3 months(one quarter) and the cumulative return is 6%. Which strategy has a high rate of return? Our commonly used method is to convert all the returns into compounding annual return, regardless of the investing horizon of each strategy. We can compare the returns of strategies with different time horizon now. Since there are four quarters in a year,the annual return of strategy B is\n",
        "\n",
        "$(1 + 0.06)^{4} = 1 + r$\n",
        "\n",
        "$r = 0.262$\n",
        "\n",
        "Strategy B has an higher compounding annual return when we compare 26% with 20%. "
      ]
    },
    {
      "cell_type": "markdown",
      "metadata": {
        "id": "H5OfGcrjNYMQ"
      },
      "source": [
        "##**Logarithm Return**"
      ]
    },
    {
      "cell_type": "markdown",
      "metadata": {
        "id": "Z5c3YPaRNa68"
      },
      "source": [
        "In the above example, strategy A has 6% return over three months. Nominally, the annual return would be 4*6% = 24%. This nominal annual interest rate is called the stated annual interest rate. It is calculated as the periodic interest rate times the number of periods per year. It works according to the simple interest and does not take into account the compounding periods, while the effective annual interest rate is 26% as we calculated above and it does account for intra-year compounding. The effective annual interest rate is an essential tool that allows the evaluation of the real return on investment. If we assume the number of compounding periods in one year is n, the formula to convert the stated annual interest rate to the effective annual interest rate is\n",
        "\n",
        "$r_{effective} = (1 + \\frac{r_{nominal}}{n})^{n} - 1$"
      ]
    },
    {
      "cell_type": "markdown",
      "metadata": {
        "id": "Y-5ObNBMN3tO"
      },
      "source": [
        "Now imagine the price of asset is changing every second or even every millisecond, the period of compounding n approaches infinite. This is called continuous compounding. The calculation formula is given below: \n",
        "\n",
        "$\\lim_{n \\to \\infty }(1+\\frac{r}{n})^n = e^r$\n",
        "\n",
        "From the above limitation equation, we know that if we assume continuous compounding:\n",
        "\n",
        "$e^{r_{nominal}} = 1 + r_{effective} = \\frac{p_t}{p_0}$\n",
        "\n",
        "Then we take $ln$ on both side of the equation:\n",
        "\n",
        "$r_{nominal} = ln\\frac{p_t}{p_0} = lnp_t - lnp_0$\n",
        "\n",
        "Here we got the logarithmic return, or continuously compounded return. This return is the nominal return with the interest compounding every millisecond. To see how it is close to effective interest rate, recall the equation above: \n",
        "\n",
        "$e^{r_{nominal}} = 1 + r_{effective}$\n",
        "\n",
        "then we have:\n",
        "\n",
        "$r_{effective} = e^{r_{nominal}} - 1 \\approx r_{nominal}$\n",
        "\n",
        "where the second equality holds due to Taylor Expansion and the interest rate being small. This is frequently used when calculating returns, because once we take the logarithm of asset prices, we can calculate the logarithm return by simply doing a subtraction. Here we use Apple stock prices as an example: "
      ]
    },
    {
      "cell_type": "code",
      "metadata": {
        "colab": {
          "base_uri": "https://localhost:8080/"
        },
        "id": "mgvStfuOLd54",
        "outputId": "faa33ddf-3c29-447b-8f39-e2ffdcda2d02"
      },
      "source": [
        "!pip install quandl\n",
        "import quandl\n",
        "import numpy as np\n",
        "import quandl\n",
        "quandl.ApiConfig.api_key = 'o-cy4Nq8s6xiNYy3u1rX'\n",
        "#get quandl data\n",
        "aapl_table = quandl.get('WIKI/AAPL')\n",
        "aapl = aapl_table.loc['2017-3',['Open','Close']]\n",
        "#take log return\n",
        "aapl['log_price'] = np.log(aapl.Close)\n",
        "aapl['log_return'] = aapl['log_price'].diff()\n",
        "print(aapl)"
      ],
      "execution_count": 2,
      "outputs": [
        {
          "output_type": "stream",
          "text": [
            "Collecting quandl\n",
            "  Downloading https://files.pythonhosted.org/packages/8b/2b/feefb36015beaecc5c0f9f2533e815b409621d9fa7b50b2aac621796f828/Quandl-3.6.1-py2.py3-none-any.whl\n",
            "Requirement already satisfied: python-dateutil in /usr/local/lib/python3.7/dist-packages (from quandl) (2.8.1)\n",
            "Requirement already satisfied: pandas>=0.14 in /usr/local/lib/python3.7/dist-packages (from quandl) (1.1.5)\n",
            "Requirement already satisfied: requests>=2.7.0 in /usr/local/lib/python3.7/dist-packages (from quandl) (2.23.0)\n",
            "Requirement already satisfied: more-itertools in /usr/local/lib/python3.7/dist-packages (from quandl) (8.7.0)\n",
            "Requirement already satisfied: numpy>=1.8 in /usr/local/lib/python3.7/dist-packages (from quandl) (1.19.5)\n",
            "Collecting inflection>=0.3.1\n",
            "  Downloading https://files.pythonhosted.org/packages/59/91/aa6bde563e0085a02a435aa99b49ef75b0a4b062635e606dab23ce18d720/inflection-0.5.1-py2.py3-none-any.whl\n",
            "Requirement already satisfied: six in /usr/local/lib/python3.7/dist-packages (from quandl) (1.15.0)\n",
            "Requirement already satisfied: pytz>=2017.2 in /usr/local/lib/python3.7/dist-packages (from pandas>=0.14->quandl) (2018.9)\n",
            "Requirement already satisfied: certifi>=2017.4.17 in /usr/local/lib/python3.7/dist-packages (from requests>=2.7.0->quandl) (2020.12.5)\n",
            "Requirement already satisfied: idna<3,>=2.5 in /usr/local/lib/python3.7/dist-packages (from requests>=2.7.0->quandl) (2.10)\n",
            "Requirement already satisfied: urllib3!=1.25.0,!=1.25.1,<1.26,>=1.21.1 in /usr/local/lib/python3.7/dist-packages (from requests>=2.7.0->quandl) (1.24.3)\n",
            "Requirement already satisfied: chardet<4,>=3.0.2 in /usr/local/lib/python3.7/dist-packages (from requests>=2.7.0->quandl) (3.0.4)\n",
            "Installing collected packages: inflection, quandl\n",
            "Successfully installed inflection-0.5.1 quandl-3.6.1\n",
            "               Open   Close  log_price  log_return\n",
            "Date                                              \n",
            "2017-03-01  137.890  139.79   4.940141         NaN\n",
            "2017-03-02  140.000  138.96   4.934186   -0.005955\n",
            "2017-03-03  138.780  139.78   4.940070    0.005884\n",
            "2017-03-06  139.365  139.34   4.936917   -0.003153\n",
            "2017-03-07  139.060  139.52   4.938208    0.001291\n",
            "2017-03-08  138.950  139.00   4.934474   -0.003734\n",
            "2017-03-09  138.740  138.68   4.932169   -0.002305\n",
            "2017-03-10  139.250  139.14   4.935481    0.003311\n",
            "2017-03-13  138.850  139.20   4.935912    0.000431\n",
            "2017-03-14  139.300  138.99   4.934402   -0.001510\n",
            "2017-03-15  139.410  140.46   4.944923    0.010521\n",
            "2017-03-16  140.720  140.69   4.946559    0.001636\n",
            "2017-03-17  141.000  139.99   4.941571   -0.004988\n",
            "2017-03-20  140.400  141.46   4.952017    0.010446\n",
            "2017-03-21  142.110  139.84   4.940499   -0.011518\n",
            "2017-03-22  139.845  141.42   4.951734    0.011235\n",
            "2017-03-23  141.260  140.92   4.948192   -0.003542\n",
            "2017-03-24  141.500  140.64   4.946203   -0.001989\n",
            "2017-03-27  139.390  140.88   4.947908    0.001705\n",
            "2017-03-28  140.910  143.80   4.968423    0.020515\n",
            "2017-03-29  143.680  144.12   4.970646    0.002223\n",
            "2017-03-30  144.190  143.93   4.969327   -0.001319\n",
            "2017-03-31  143.720  143.66   4.967449   -0.001878\n"
          ],
          "name": "stdout"
        }
      ]
    },
    {
      "cell_type": "markdown",
      "metadata": {
        "id": "rIlJXi-1PJfe"
      },
      "source": [
        "Here we calculated the daily logarithmic return of Apple stock. Given that we know the daily logarithm return of in this month, we can calculate the monthly return by simply sum all the daily returns up. "
      ]
    },
    {
      "cell_type": "code",
      "metadata": {
        "colab": {
          "base_uri": "https://localhost:8080/"
        },
        "id": "7VFxesRyPD_W",
        "outputId": "66939a9d-42ef-4424-b3ac-a368fe72afe7"
      },
      "source": [
        "month_return = aapl.log_return.sum()\n",
        "print(month_return)"
      ],
      "execution_count": 3,
      "outputs": [
        {
          "output_type": "stream",
          "text": [
            "0.0273081001636184\n"
          ],
          "name": "stdout"
        }
      ]
    },
    {
      "cell_type": "markdown",
      "metadata": {
        "id": "Ry6oqPubPU0x"
      },
      "source": [
        "It may sounds incorrect to sum up the daily returns, but we can prove that it's mathematically correct. Let's assume the stock prices in a period of time are represented by $[p_0, p_1, p_2, p_3.....p_n]$. Then the cumulative rate of return is given by:\n",
        "\n",
        "$1 + r_{effective} \\approx 1+r_{nominal} = ln\\frac{p_t}{p_0} = ln\\frac{p_t}{p_{t-1}} + ln\\frac{p_{t-1}}{p_{t-2}}+......+ln\\frac{p_1}{p_0}$"
      ]
    },
    {
      "cell_type": "markdown",
      "metadata": {
        "id": "jUwtSoSkPgzZ"
      },
      "source": [
        "According to the equation above, we can simple sum up each logarithmic return in a period to get the cumulative return. The convenience of this method is also one of the reasons why we use logarithmic return in quantitative finance. "
      ]
    },
    {
      "cell_type": "markdown",
      "metadata": {
        "id": "TFjmcpl0Ph1h"
      },
      "source": [
        "##**Mean**"
      ]
    },
    {
      "cell_type": "markdown",
      "metadata": {
        "id": "uuKrczt_PlTS"
      },
      "source": [
        "###**Arithmetic Mean**"
      ]
    },
    {
      "cell_type": "markdown",
      "metadata": {
        "id": "uJGczANnPnpl"
      },
      "source": [
        "Mean is a measure of the central tendency of a data series. It capture the key character of the distribution of the data series. When we talk about mean, by default it refers to arithmetic mean. It's defined as the sum of the values divided by the number of observations:\n",
        "\n",
        "$\\mu = \\frac{\\sum_{i = 1}^{n}x_i}{n}$\n",
        "\n",
        "Where $(x_1,x_2,x_3.....x_n)$ is our data series."
      ]
    },
    {
      "cell_type": "markdown",
      "metadata": {
        "id": "i3_lt5ToP1WM"
      },
      "source": [
        "In python we can use NumPy.mean() to do the calculation: "
      ]
    },
    {
      "cell_type": "code",
      "metadata": {
        "colab": {
          "base_uri": "https://localhost:8080/"
        },
        "id": "H-6iv1ZfPNDf",
        "outputId": "22d838a3-f748-4496-9b6e-6838b1fd93c2"
      },
      "source": [
        "print(np.mean(aapl.log_price))"
      ],
      "execution_count": 4,
      "outputs": [
        {
          "output_type": "stream",
          "text": [
            "4.94597446550658\n"
          ],
          "name": "stdout"
        }
      ]
    },
    {
      "cell_type": "markdown",
      "metadata": {
        "id": "CFoHughnQAfL"
      },
      "source": [
        "###**Geometric Mean**"
      ]
    },
    {
      "cell_type": "markdown",
      "metadata": {
        "id": "8zflODkIQCie"
      },
      "source": [
        " The geometric mean is an average that is useful for data series of positive numbers that are better interpreted according to their product, such as growth rate. It's calculated by:\n",
        "\n",
        " $\\bar{x} = \\sqrt[n]{x_1x_2x_3...x_n}$\n",
        "\n",
        " Let's calculate the geometric mean of a series of single-period return:\n",
        "\n",
        " $1+\\bar{r} = \\sqrt[t]{\\frac{p_t}{p_{t-1}}*\\frac{p_{t-1}}{p_{t-2}}*...*\\frac{p_2}{p_1}*\\frac{p_1}{p_0}}$\n",
        "\n",
        " $(1+\\bar{r}) = \\sqrt[t]{\\frac{p_t}{p_0}}$\n",
        "\n",
        " Now the equation becomes the form which we are familiar with: \n",
        "\n",
        " $(1+\\bar{r})^t = \\frac{p_t}{p_0}$\n",
        "\n",
        " This is why we said it make sense when applied to growth rates. "
      ]
    },
    {
      "cell_type": "markdown",
      "metadata": {
        "id": "xdRQBgvwQji2"
      },
      "source": [
        "##**Variance and Standard Deviation**"
      ]
    },
    {
      "cell_type": "markdown",
      "metadata": {
        "id": "yJAQAHnqQn3G"
      },
      "source": [
        "###**Variance**"
      ]
    },
    {
      "cell_type": "markdown",
      "metadata": {
        "id": "Ji2gVzrMQtYI"
      },
      "source": [
        "Variance is a measure of dispersion. In finance, most of the time variance is a synonym for risk. The higher the variance of an asset price is, the higher risk the asset bears. Variance is usually represented by σ2, and it's calculated by\n",
        "\n",
        "$\\sigma^2 = \\frac{\\sum_{i = 1}^{n}(x_i- \\mu)^2}{n}$"
      ]
    },
    {
      "cell_type": "markdown",
      "metadata": {
        "id": "JSSiqZNDQ3qW"
      },
      "source": [
        "In python we can use NumPy.var to calculate it: "
      ]
    },
    {
      "cell_type": "code",
      "metadata": {
        "colab": {
          "base_uri": "https://localhost:8080/"
        },
        "id": "_99tFFhjQpIv",
        "outputId": "d4aee173-9ea8-48fb-feff-577da1704d91"
      },
      "source": [
        "print(np.var(aapl.log_price))"
      ],
      "execution_count": 5,
      "outputs": [
        {
          "output_type": "stream",
          "text": [
            "0.00014203280448152512\n"
          ],
          "name": "stdout"
        }
      ]
    },
    {
      "cell_type": "markdown",
      "metadata": {
        "id": "5GGn47dgQ_sP"
      },
      "source": [
        "###**Standard Deviation**"
      ]
    },
    {
      "cell_type": "markdown",
      "metadata": {
        "id": "d685-KBxRCIb"
      },
      "source": [
        "The most commonly used measure of dispersion in finance is standard deviation. It's usually represented by σ. It's obvious to see the relation between standard deviation and variance: \n",
        "\n",
        "$\\sigma = \\sqrt{\\sigma^2} = \\sqrt{\\frac{\\sum_{i = 1}^{n}(x_i- \\mu)^2}{n}}$\n",
        "\n",
        "NumPy also provides us a method to calculate standard deviation. "
      ]
    },
    {
      "cell_type": "code",
      "metadata": {
        "colab": {
          "base_uri": "https://localhost:8080/"
        },
        "id": "nIuHBqUCP-D_",
        "outputId": "8a68bf5c-93dc-4f93-a16e-37df1f10ae2d"
      },
      "source": [
        "print(np.std(aapl.log_price))"
      ],
      "execution_count": 6,
      "outputs": [
        {
          "output_type": "stream",
          "text": [
            "0.011917751653794651\n"
          ],
          "name": "stdout"
        }
      ]
    },
    {
      "cell_type": "markdown",
      "metadata": {
        "id": "MbWrAVyHRM7b"
      },
      "source": [
        "##**Summary**"
      ]
    },
    {
      "cell_type": "markdown",
      "metadata": {
        "id": "b_-Z7Ex9RM2m"
      },
      "source": [
        "We introduced different types of rate of return in this chapter, which could be a little bit tricky when we calculate them. Mean and standard deviation are also very important concepts when we conduct hypothesis test or measure the risk associated with a asset. We will use those concepts intensively in our later chapter. "
      ]
    }
  ]
}