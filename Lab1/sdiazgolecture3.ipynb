{
  "nbformat": 4,
  "nbformat_minor": 0,
  "metadata": {
    "kernelspec": {
      "name": "python3",
      "display_name": "Python 3"
    },
    "colab": {
      "name": "sdiazgolecture3.ipynb",
      "provenance": [],
      "collapsed_sections": [
        "J1UW1BIofUaY",
        "XMIoiaExfUaa",
        "4-PNcBdTfUac",
        "sPg8MWvTfUae",
        "kXyacezTfUai",
        "yDOgqSpYfUaj"
      ]
    },
    "language_info": {
      "name": "python"
    }
  },
  "cells": [
    {
      "cell_type": "markdown",
      "metadata": {
        "id": "F5Ib-EE1fUaG"
      },
      "source": [
        "# Introduction to NumPy\n",
        "by Maxwell Margenot\n",
        "\n",
        "Part of the Quantopian Lecture Series:\n",
        "\n",
        "* [www.quantopian.com/lectures](https://www.quantopian.com/lectures)\n",
        "* [github.com/quantopian/research_public](https://github.com/quantopian/research_public)\n",
        "\n",
        "Notebook released under the Creative Commons Attribution 4.0 License."
      ]
    },
    {
      "cell_type": "markdown",
      "metadata": {
        "id": "w9V-efigfUaM"
      },
      "source": [
        "NumPy is an incredibly powerful package in Python that is ubiquitous throughout the Quantopian platform. It has strong integration with Pandas, another tool we will be covering in the lecture series. NumPy adds support for multi-dimensional arrays and mathematical functions that allow you to easily perform linear algebra calculations. This lecture will be a collection of linear algebra examples computed using NumPy."
      ]
    },
    {
      "cell_type": "code",
      "metadata": {
        "collapsed": true,
        "id": "YJ6GheHwfUaN"
      },
      "source": [
        "import numpy as np\n",
        "import matplotlib.pyplot as plt"
      ],
      "execution_count": null,
      "outputs": []
    },
    {
      "cell_type": "markdown",
      "metadata": {
        "id": "zv-3mtxRfUaO"
      },
      "source": [
        "### Basic NumPy arrays"
      ]
    },
    {
      "cell_type": "markdown",
      "metadata": {
        "id": "Z74-s5PmfUaP"
      },
      "source": [
        "The most basic way that we could make use of NumPy in finance is calculating the mean return of a portfolio. Say that we have a list containing the historical return of several stocks."
      ]
    },
    {
      "cell_type": "code",
      "metadata": {
        "collapsed": true,
        "id": "7gGGJ1pIfUaP"
      },
      "source": [
        "stock_list = [3.5, 5, 2, 8, 4.2]"
      ],
      "execution_count": null,
      "outputs": []
    },
    {
      "cell_type": "markdown",
      "metadata": {
        "id": "15lCTw9Gof_T"
      },
      "source": [
        "$\\textbf{Ejemplo Santiago Diaz Gonzalez:}$"
      ]
    },
    {
      "cell_type": "code",
      "metadata": {
        "id": "jGw4DxiSogZU"
      },
      "source": [
        "lista_acciones = [4, 6, 2.3, 7, 2.8, 8.4, 5.1]"
      ],
      "execution_count": null,
      "outputs": []
    },
    {
      "cell_type": "markdown",
      "metadata": {
        "id": "iahufEZcfUaQ"
      },
      "source": [
        "We can make an array by calling a function on the list:"
      ]
    },
    {
      "cell_type": "code",
      "metadata": {
        "colab": {
          "base_uri": "https://localhost:8080/"
        },
        "id": "LpB9SlTDfUaQ",
        "outputId": "45b0b7d8-c376-433a-c04c-2c1677fd9677"
      },
      "source": [
        "returns = np.array(stock_list)\n",
        "print(returns, type(returns))"
      ],
      "execution_count": null,
      "outputs": [
        {
          "output_type": "stream",
          "text": [
            "[3.5 5.  2.  8.  4.2] <class 'numpy.ndarray'>\n"
          ],
          "name": "stdout"
        }
      ]
    },
    {
      "cell_type": "markdown",
      "metadata": {
        "id": "aQAp-5fPp3Sk"
      },
      "source": [
        "$\\textbf{Ejemplo Santiago Diaz Gonzalez:}$"
      ]
    },
    {
      "cell_type": "code",
      "metadata": {
        "id": "bTe-tIfSp3ob"
      },
      "source": [
        "retornos = np.array(lista_acciones)"
      ],
      "execution_count": null,
      "outputs": []
    },
    {
      "cell_type": "markdown",
      "metadata": {
        "id": "6RuL7x-PfUaR"
      },
      "source": [
        "You'll notice that the type of our array is 'ndarray', not just 'array'. This is because NumPy arrays can be created with multiple dimensions. If we pass np.array() a list of lists, it will create a 2-dimensional array. If we pass a list of lists of lists, it will create a 3-dimensional array, and so on and so forth."
      ]
    },
    {
      "cell_type": "code",
      "metadata": {
        "colab": {
          "base_uri": "https://localhost:8080/"
        },
        "id": "aHIStXScfUaR",
        "outputId": "07c76785-3d6e-4003-ff08-b2eb28c028b0"
      },
      "source": [
        "A = np.array([[1, 2], [3, 4]])\n",
        "print(A, type(A))"
      ],
      "execution_count": null,
      "outputs": [
        {
          "output_type": "stream",
          "text": [
            "[[1 2]\n",
            " [3 4]] <class 'numpy.ndarray'>\n"
          ],
          "name": "stdout"
        }
      ]
    },
    {
      "cell_type": "markdown",
      "metadata": {
        "id": "QDwWy7pAqLg6"
      },
      "source": [
        "$\\textbf{Ejemplo Santiago Diaz Gonzalez:}$\n",
        "\n",
        "Declararemos un arreglo bidimensional equivalente a la matriz 3x3:\n",
        "\n",
        "$\\begin{equation}\n",
        "\\begin{pmatrix}\n",
        "4 & 6 & 8\\\\\n",
        "34 & 5 & 0\\\\\n",
        "13 & 6 & 3\n",
        "\\end{pmatrix}\n",
        "\\end{equation} $"
      ]
    },
    {
      "cell_type": "code",
      "metadata": {
        "colab": {
          "base_uri": "https://localhost:8080/"
        },
        "id": "_p9Z9IFWqMHd",
        "outputId": "7038f92d-d67c-4240-8fe3-b5fdd654ca27"
      },
      "source": [
        "B = np.array([[4, 6, 8], [34, 5, 0], [13, 6, 3]])\n",
        "print(B, type(B))"
      ],
      "execution_count": null,
      "outputs": [
        {
          "output_type": "stream",
          "text": [
            "[[ 4  6  8]\n",
            " [34  5  0]\n",
            " [13  6  3]] <class 'numpy.ndarray'>\n"
          ],
          "name": "stdout"
        }
      ]
    },
    {
      "cell_type": "markdown",
      "metadata": {
        "id": "ERfznM2tfUaS"
      },
      "source": [
        "We can access the dimensions of an array by looking at its `shape` member variable."
      ]
    },
    {
      "cell_type": "code",
      "metadata": {
        "colab": {
          "base_uri": "https://localhost:8080/"
        },
        "id": "2qMVVagTfUaU",
        "outputId": "9dc55c9f-2851-4599-ebe4-3ae330a16402"
      },
      "source": [
        "print(A.shape)"
      ],
      "execution_count": null,
      "outputs": [
        {
          "output_type": "stream",
          "text": [
            "(2, 2)\n"
          ],
          "name": "stdout"
        }
      ]
    },
    {
      "cell_type": "markdown",
      "metadata": {
        "id": "d0uiN17Tqh1g"
      },
      "source": [
        "$\\textbf{Ejemplo Santiago Diaz Gonzalez:}$"
      ]
    },
    {
      "cell_type": "code",
      "metadata": {
        "colab": {
          "base_uri": "https://localhost:8080/"
        },
        "id": "7p_vWlHFqieQ",
        "outputId": "7e79fb59-b0b6-4972-c2ef-76c3a3632854"
      },
      "source": [
        "print(B.shape)"
      ],
      "execution_count": null,
      "outputs": [
        {
          "output_type": "stream",
          "text": [
            "(3, 3)\n"
          ],
          "name": "stdout"
        }
      ]
    },
    {
      "cell_type": "markdown",
      "metadata": {
        "id": "IWvdccwsfUaU"
      },
      "source": [
        "Arrays are indexed in much the same way as lists in Python. Elements of a list begin indexing from $0$ and end at $n - 1$, where $n$ is the length of the array."
      ]
    },
    {
      "cell_type": "code",
      "metadata": {
        "colab": {
          "base_uri": "https://localhost:8080/"
        },
        "id": "FMjF4uBufUaU",
        "outputId": "41538d24-1dee-4b68-c06d-951496435fba"
      },
      "source": [
        "print(returns[0], returns[len(returns) - 1])"
      ],
      "execution_count": null,
      "outputs": [
        {
          "output_type": "stream",
          "text": [
            "3.5 4.2\n"
          ],
          "name": "stdout"
        }
      ]
    },
    {
      "cell_type": "markdown",
      "metadata": {
        "id": "jH6k1CR0r5gR"
      },
      "source": [
        "$\\textbf{Ejemplo Santiago Diaz Gonzalez:}$"
      ]
    },
    {
      "cell_type": "code",
      "metadata": {
        "colab": {
          "base_uri": "https://localhost:8080/"
        },
        "id": "k7yVXnBlr786",
        "outputId": "93620b4c-5374-4ef4-f357-c2684fd15cce"
      },
      "source": [
        "print(retornos[5])"
      ],
      "execution_count": null,
      "outputs": [
        {
          "output_type": "stream",
          "text": [
            "8.4\n"
          ],
          "name": "stdout"
        }
      ]
    },
    {
      "cell_type": "markdown",
      "metadata": {
        "id": "mrDYeb2CfUaV"
      },
      "source": [
        "We can take a slice of an array using a colon, just like in a list."
      ]
    },
    {
      "cell_type": "code",
      "metadata": {
        "colab": {
          "base_uri": "https://localhost:8080/"
        },
        "id": "9aD9JCA_fUaV",
        "outputId": "6922513f-e55e-4035-e1ee-4bd2e9647e4a"
      },
      "source": [
        "print(returns[1:3])"
      ],
      "execution_count": null,
      "outputs": [
        {
          "output_type": "stream",
          "text": [
            "[5. 2.]\n"
          ],
          "name": "stdout"
        }
      ]
    },
    {
      "cell_type": "markdown",
      "metadata": {
        "id": "L-pkdzQ0s-wQ"
      },
      "source": [
        "$\\textbf{Ejemplo Santiago Diaz Gonzalez:}$"
      ]
    },
    {
      "cell_type": "code",
      "metadata": {
        "colab": {
          "base_uri": "https://localhost:8080/"
        },
        "id": "9jm9Cp7zs_XU",
        "outputId": "fbf56375-baf3-4966-bbbd-f0022fd04de2"
      },
      "source": [
        "print(retornos[0:6:2])"
      ],
      "execution_count": null,
      "outputs": [
        {
          "output_type": "stream",
          "text": [
            "[4.  2.3 2.8]\n"
          ],
          "name": "stdout"
        }
      ]
    },
    {
      "cell_type": "markdown",
      "metadata": {
        "id": "sLD_TL9yfUaV"
      },
      "source": [
        "A slice of an array, like in a list, will select a group of elements in the array starting from the first element indicated and going up to (but not including) the last element indicated.\n",
        "\n",
        "In the case of multidimensional arrays, many of the same conventions with slicing and indexing hold. We can access the first column of a 2-dimensional array like so:"
      ]
    },
    {
      "cell_type": "code",
      "metadata": {
        "colab": {
          "base_uri": "https://localhost:8080/"
        },
        "id": "ty9iuPwJfUaV",
        "outputId": "7d587f60-65ca-40df-9ae9-017eacc6c520"
      },
      "source": [
        "print(A[:, 0])"
      ],
      "execution_count": null,
      "outputs": [
        {
          "output_type": "stream",
          "text": [
            "[1 3]\n"
          ],
          "name": "stdout"
        }
      ]
    },
    {
      "cell_type": "markdown",
      "metadata": {
        "id": "WorMD7OguUtR"
      },
      "source": [
        "$\\textbf{Ejemplo Santiago Diaz Gonzalez:}$\n",
        "\n",
        "Segunda columna del arreglo"
      ]
    },
    {
      "cell_type": "markdown",
      "metadata": {
        "id": "fbWK4x4UX8m1"
      },
      "source": [
        "$\\begin{equation}\n",
        "\\begin{pmatrix}\n",
        "6 \\\\\n",
        "5 \\\\\n",
        "6 \n",
        "\\end{pmatrix}\n",
        "\\end{equation} $"
      ]
    },
    {
      "cell_type": "code",
      "metadata": {
        "colab": {
          "base_uri": "https://localhost:8080/"
        },
        "id": "AksmxRqwuV6r",
        "outputId": "2f7f3ab2-9027-4cd1-fc97-870c70465910"
      },
      "source": [
        "print(B[:, 1])"
      ],
      "execution_count": null,
      "outputs": [
        {
          "output_type": "stream",
          "text": [
            "[6 5 6]\n"
          ],
          "name": "stdout"
        }
      ]
    },
    {
      "cell_type": "markdown",
      "metadata": {
        "id": "k6NA1HrcfUaW"
      },
      "source": [
        "And the first row of a 2-dimensional array like so:"
      ]
    },
    {
      "cell_type": "code",
      "metadata": {
        "colab": {
          "base_uri": "https://localhost:8080/"
        },
        "id": "xrqFZLU1fUaX",
        "outputId": "89a65f03-4bbe-454a-c886-428ed1a32ba3"
      },
      "source": [
        "print(A[0, :])"
      ],
      "execution_count": null,
      "outputs": [
        {
          "output_type": "stream",
          "text": [
            "[1 2]\n"
          ],
          "name": "stdout"
        }
      ]
    },
    {
      "cell_type": "markdown",
      "metadata": {
        "id": "cVuCI7phuFuz"
      },
      "source": [
        "$\\textbf{Ejemplo Santiago Diaz Gonzalez:}$\n",
        "\n",
        "Primera y seguna fila del arreglo"
      ]
    },
    {
      "cell_type": "markdown",
      "metadata": {
        "id": "t03He1bKYEAE"
      },
      "source": [
        "$\\begin{equation}\n",
        "\\begin{pmatrix}\n",
        "4 & 6 & 8\\\\\n",
        "34 & 5 & 0\n",
        "\\end{pmatrix}\n",
        "\\end{equation} $"
      ]
    },
    {
      "cell_type": "code",
      "metadata": {
        "colab": {
          "base_uri": "https://localhost:8080/"
        },
        "id": "_U0h-TGyuGCF",
        "outputId": "4069ce74-86be-4eb6-f88e-85e079e63058"
      },
      "source": [
        "print(B[:2])"
      ],
      "execution_count": null,
      "outputs": [
        {
          "output_type": "stream",
          "text": [
            "[[ 4  6  8]\n",
            " [34  5  0]]\n"
          ],
          "name": "stdout"
        }
      ]
    },
    {
      "cell_type": "markdown",
      "metadata": {
        "id": "yo0IiClTfUaX"
      },
      "source": [
        "Notice that each slice of the array returns yet another array!"
      ]
    },
    {
      "cell_type": "code",
      "metadata": {
        "colab": {
          "base_uri": "https://localhost:8080/"
        },
        "id": "Je9dvBXMfUaX",
        "outputId": "e23c4d28-f008-40b8-9348-fd6dfc918fba"
      },
      "source": [
        "print(type(A[0,:]))"
      ],
      "execution_count": null,
      "outputs": [
        {
          "output_type": "stream",
          "text": [
            "<class 'numpy.ndarray'>\n"
          ],
          "name": "stdout"
        }
      ]
    },
    {
      "cell_type": "markdown",
      "metadata": {
        "id": "ienv6c0ZfUaX"
      },
      "source": [
        "Passing only one index to a 2-dimensional array will result in returning the row with the given index as well, providing us with another way to access individual rows."
      ]
    },
    {
      "cell_type": "code",
      "metadata": {
        "colab": {
          "base_uri": "https://localhost:8080/"
        },
        "id": "sC9_RZCRfUaY",
        "outputId": "06e0490e-d067-430e-f1c7-cd78801901c5"
      },
      "source": [
        "print(A[0])"
      ],
      "execution_count": null,
      "outputs": [
        {
          "output_type": "stream",
          "text": [
            "[1 2]\n"
          ],
          "name": "stdout"
        }
      ]
    },
    {
      "cell_type": "markdown",
      "metadata": {
        "id": "F4jMh3uuuBDD"
      },
      "source": [
        "$\\textbf{Ejemplo Santiago Diaz Gonzalez:}$\n",
        "\n",
        "Tercera fila del arreglo"
      ]
    },
    {
      "cell_type": "markdown",
      "metadata": {
        "id": "5EcqDRMrYHpM"
      },
      "source": [
        "$\\begin{equation}\n",
        "\\begin{pmatrix}\n",
        "13 & 6 & 3\n",
        "\\end{pmatrix}\n",
        "\\end{equation} $"
      ]
    },
    {
      "cell_type": "code",
      "metadata": {
        "colab": {
          "base_uri": "https://localhost:8080/"
        },
        "id": "Gn-IsSCnuBdo",
        "outputId": "199f3004-e0e1-46de-b161-cfe0a81eb257"
      },
      "source": [
        "print(B[2])"
      ],
      "execution_count": null,
      "outputs": [
        {
          "output_type": "stream",
          "text": [
            "[13  6  3]\n"
          ],
          "name": "stdout"
        }
      ]
    },
    {
      "cell_type": "markdown",
      "metadata": {
        "id": "hJovvYx1fUaY"
      },
      "source": [
        "Accessing the index of an individual element will return only the element."
      ]
    },
    {
      "cell_type": "code",
      "metadata": {
        "colab": {
          "base_uri": "https://localhost:8080/"
        },
        "id": "j-Je7LIMfUaY",
        "outputId": "ddfcc628-cb52-4ab8-cf23-5c9c58dac36b"
      },
      "source": [
        "print(A[1, 1])"
      ],
      "execution_count": null,
      "outputs": [
        {
          "output_type": "stream",
          "text": [
            "4\n"
          ],
          "name": "stdout"
        }
      ]
    },
    {
      "cell_type": "markdown",
      "metadata": {
        "id": "94di0RKUt4Sd"
      },
      "source": [
        "$\\textbf{Ejemplo Santiago Diaz Gonzalez:}$"
      ]
    },
    {
      "cell_type": "code",
      "metadata": {
        "colab": {
          "base_uri": "https://localhost:8080/"
        },
        "id": "uI3tEinut5Pb",
        "outputId": "2bb0df88-a720-4f24-b56c-334087db4661"
      },
      "source": [
        "print('Primer elemento del arreglo: ', B[0,0], '\\n', 'Último elemento del arreglo: ', B[2, 2])"
      ],
      "execution_count": null,
      "outputs": [
        {
          "output_type": "stream",
          "text": [
            "Primer elemento del arreglo:  4 \n",
            " Último elemento del arreglo:  3\n"
          ],
          "name": "stdout"
        }
      ]
    },
    {
      "cell_type": "markdown",
      "metadata": {
        "id": "A1HogaSCYMMS"
      },
      "source": [
        "Los elementos seleccionados están en $\\textit{italic}$\n",
        "\n",
        "$\\begin{equation}\n",
        "\\begin{pmatrix}\n",
        "\\textit{4} & 6 & 8\\\\\n",
        "34 & 5 & 0\\\\\n",
        "13 & 6 & \\textit{3}\n",
        "\\end{pmatrix}\n",
        "\\end{equation} $"
      ]
    },
    {
      "cell_type": "markdown",
      "metadata": {
        "id": "J1UW1BIofUaY"
      },
      "source": [
        "#### Array functions\n",
        "\n",
        "Functions built into NumPy can be easily called on arrays. Most functions are applied to an array element-wise (as scalar multiplication is). For example, if we call `log()` on an array, the logarithm will be taken of each element."
      ]
    },
    {
      "cell_type": "code",
      "metadata": {
        "colab": {
          "base_uri": "https://localhost:8080/"
        },
        "id": "pCBOEhGIfUaY",
        "outputId": "0ad3ebd6-d74c-4a43-8b14-2f9920be2ff4"
      },
      "source": [
        "print(np.log(returns))"
      ],
      "execution_count": null,
      "outputs": [
        {
          "output_type": "stream",
          "text": [
            "[1.25276297 1.60943791 0.69314718 2.07944154 1.43508453]\n"
          ],
          "name": "stdout"
        }
      ]
    },
    {
      "cell_type": "markdown",
      "metadata": {
        "id": "1FLPd-gVvtIX"
      },
      "source": [
        "$\\textbf{Ejemplo Santiago Diaz Gonzalez:}$"
      ]
    },
    {
      "cell_type": "code",
      "metadata": {
        "colab": {
          "base_uri": "https://localhost:8080/"
        },
        "id": "LoeFTY8Kvuwv",
        "outputId": "ad0d9713-d968-4357-960f-aa060e1e62a1"
      },
      "source": [
        "print(np.log(retornos))"
      ],
      "execution_count": null,
      "outputs": [
        {
          "output_type": "stream",
          "text": [
            "[1.38629436 1.79175947 0.83290912 1.94591015 1.02961942 2.12823171\n",
            " 1.62924054]\n"
          ],
          "name": "stdout"
        }
      ]
    },
    {
      "cell_type": "markdown",
      "metadata": {
        "id": "86B3l7CWfUaZ"
      },
      "source": [
        "Some functions return a single value. This is because they treat the array as a collection (similar to a list), performing the designated function. For example, the `mean()` function will do exactly what you expect, calculating the mean of an array."
      ]
    },
    {
      "cell_type": "code",
      "metadata": {
        "colab": {
          "base_uri": "https://localhost:8080/"
        },
        "id": "1X5yts8HfUaZ",
        "outputId": "c214763d-9974-4fc1-a804-a2131d90ab9e"
      },
      "source": [
        "print(np.mean(returns))"
      ],
      "execution_count": null,
      "outputs": [
        {
          "output_type": "stream",
          "text": [
            "4.54\n"
          ],
          "name": "stdout"
        }
      ]
    },
    {
      "cell_type": "markdown",
      "metadata": {
        "id": "-mYTD3qiv_V3"
      },
      "source": [
        "$\\textbf{Ejemplo Santiago Diaz Gonzalez:}$"
      ]
    },
    {
      "cell_type": "markdown",
      "metadata": {
        "id": "x1MPL-TiYrg0"
      },
      "source": [
        "Este es el promedio de la lista retornos, se realiza con la ecuación $\\frac{1}{n} \\sum_{i=1}^{n} retornos_{i} = promedio$"
      ]
    },
    {
      "cell_type": "code",
      "metadata": {
        "colab": {
          "base_uri": "https://localhost:8080/"
        },
        "id": "6AVfcxBHv_52",
        "outputId": "f03ebd4a-5951-4193-ffd4-2413a720b071"
      },
      "source": [
        "print(np.mean(retornos))"
      ],
      "execution_count": null,
      "outputs": [
        {
          "output_type": "stream",
          "text": [
            "5.085714285714286\n"
          ],
          "name": "stdout"
        }
      ]
    },
    {
      "cell_type": "markdown",
      "metadata": {
        "id": "c-tZk9F_fUaZ"
      },
      "source": [
        "Or the `max()` function will return the maximum element of an array."
      ]
    },
    {
      "cell_type": "code",
      "metadata": {
        "colab": {
          "base_uri": "https://localhost:8080/"
        },
        "id": "VSK9_eorfUaZ",
        "outputId": "08cfa161-0d72-468a-dc19-b0a7c26fe842"
      },
      "source": [
        "print(np.max(returns))"
      ],
      "execution_count": null,
      "outputs": [
        {
          "output_type": "stream",
          "text": [
            "8.0\n"
          ],
          "name": "stdout"
        }
      ]
    },
    {
      "cell_type": "markdown",
      "metadata": {
        "id": "xy_JPoiewIjd"
      },
      "source": [
        "$\\textbf{Ejemplo Santiago Diaz Gonzalez:}$"
      ]
    },
    {
      "cell_type": "code",
      "metadata": {
        "colab": {
          "base_uri": "https://localhost:8080/"
        },
        "id": "t20-YtSJwJTm",
        "outputId": "25933c2f-d0de-420d-9ea5-d8adc3f1f4a3"
      },
      "source": [
        "print(np.max(retornos))"
      ],
      "execution_count": null,
      "outputs": [
        {
          "output_type": "stream",
          "text": [
            "8.4\n"
          ],
          "name": "stdout"
        }
      ]
    },
    {
      "cell_type": "markdown",
      "metadata": {
        "id": "2QmjFuBSZPHp"
      },
      "source": [
        "Retornamos el elemento máximo del arreglo, es decir: $max(A) = x \\in A: x\\geq y, \\forall y \\in A$"
      ]
    },
    {
      "cell_type": "markdown",
      "metadata": {
        "id": "L8lcjFqPfUaZ"
      },
      "source": [
        "For further reading on the universal functions in NumPy, check out the [documentation](https://docs.scipy.org/doc/numpy/user/quickstart.html#universal-functions)."
      ]
    },
    {
      "cell_type": "markdown",
      "metadata": {
        "id": "XMIoiaExfUaa"
      },
      "source": [
        "### Return to the returns\n",
        "\n",
        "Now let's modify our returns array with scalar values. If we add a scalar value to an array it will be added to every element of the array. If we multiply an array by a scalar value it will be multiplied against every element of the array. If we do both, both will happen!"
      ]
    },
    {
      "cell_type": "code",
      "metadata": {
        "scrolled": false,
        "colab": {
          "base_uri": "https://localhost:8080/"
        },
        "id": "hvdDcw_5fUaa",
        "outputId": "2fb9c5a8-93a7-415c-8236-2130f84d7f2b"
      },
      "source": [
        "returns*2 + 5"
      ],
      "execution_count": null,
      "outputs": [
        {
          "output_type": "execute_result",
          "data": {
            "text/plain": [
              "array([12. , 15. ,  9. , 21. , 13.4])"
            ]
          },
          "metadata": {
            "tags": []
          },
          "execution_count": 29
        }
      ]
    },
    {
      "cell_type": "markdown",
      "metadata": {
        "id": "4VR3RQ9cx3al"
      },
      "source": [
        "$\\textbf{Ejemplo Santiago Diaz Gonzalez:}$"
      ]
    },
    {
      "cell_type": "code",
      "metadata": {
        "colab": {
          "base_uri": "https://localhost:8080/"
        },
        "id": "AjFAfMSax4Gb",
        "outputId": "d188bbe1-9bfc-47e8-b69d-025556d1c438"
      },
      "source": [
        "retornos*3 - 0.1"
      ],
      "execution_count": null,
      "outputs": [
        {
          "output_type": "execute_result",
          "data": {
            "text/plain": [
              "array([11.9, 17.9,  6.8, 20.9,  8.3, 25.1, 15.2])"
            ]
          },
          "metadata": {
            "tags": []
          },
          "execution_count": 30
        }
      ]
    },
    {
      "cell_type": "markdown",
      "metadata": {
        "id": "is0zByllfUaa"
      },
      "source": [
        "NumPy also has functions specifically built to operate on arrays. Let's take the mean and standard deviation of this group of returns."
      ]
    },
    {
      "cell_type": "code",
      "metadata": {
        "colab": {
          "base_uri": "https://localhost:8080/"
        },
        "id": "CX_WC4aafUab",
        "outputId": "7808d559-19b9-49e6-dc46-cab1b0e4cae4"
      },
      "source": [
        "print(\"Mean: \", np.mean(returns), \"Std Dev: \", np.std(returns))"
      ],
      "execution_count": null,
      "outputs": [
        {
          "output_type": "stream",
          "text": [
            "Mean:  4.54 Std Dev:  1.9915822855207364\n"
          ],
          "name": "stdout"
        }
      ]
    },
    {
      "cell_type": "markdown",
      "metadata": {
        "id": "c2UKcyMOyLOy"
      },
      "source": [
        "$\\textbf{Ejemplo Santiago Diaz Gonzalez:}$"
      ]
    },
    {
      "cell_type": "code",
      "metadata": {
        "colab": {
          "base_uri": "https://localhost:8080/"
        },
        "id": "4ZP_PUYjyLqj",
        "outputId": "b423617b-1f14-443e-a05a-57084327a3ab"
      },
      "source": [
        "print(\"Media: \", np.mean(retornos), \"Desv. estándar: \", np.std(retornos))"
      ],
      "execution_count": null,
      "outputs": [
        {
          "output_type": "stream",
          "text": [
            "Media:  5.085714285714286 Desv. estándar:  2.0580355206073664\n"
          ],
          "name": "stdout"
        }
      ]
    },
    {
      "cell_type": "markdown",
      "metadata": {
        "id": "ul_JCfkVfUab"
      },
      "source": [
        "Let's simulate a universe of stocks using NumPy's functions. First we need to create the arrays to hold the assets and returns that we will use to build a portfolio. This is because arrays are created with a fixed size. Their dimensions can't be changed without creating a new array."
      ]
    },
    {
      "cell_type": "code",
      "metadata": {
        "collapsed": true,
        "id": "Pjd9hiXdfUab"
      },
      "source": [
        "N = 10\n",
        "assets = np.zeros((N, 100))\n",
        "returns = np.zeros((N, 100))"
      ],
      "execution_count": null,
      "outputs": []
    },
    {
      "cell_type": "markdown",
      "metadata": {
        "id": "B1Hurdg1fUab"
      },
      "source": [
        "This function, `zeroes()`, creates a NumPy array with the given dimensions that is entirely filled in with $0$. We can pass a single value or a tuple of as many dimensions as we like. Passing in the tuple `(N, 100)`, will return a two-dimensional array with $N$ rows and $100$ columns. Our result is a $N \\times 100$ array.\n",
        "\n",
        "Now we will simulate a base asset. We want the universe of stocks to be correlated with each other so we will use this initial value to generate the others."
      ]
    },
    {
      "cell_type": "code",
      "metadata": {
        "id": "DKT3XoO-fUab"
      },
      "source": [
        "R_1 = np.random.normal(1.01, 0.03, 100)\n",
        "returns[0] = R_1\n",
        "assets[0] = np.cumprod(R_1)"
      ],
      "execution_count": null,
      "outputs": []
    },
    {
      "cell_type": "markdown",
      "metadata": {
        "id": "93auyRlKfUac"
      },
      "source": [
        "The `random` module in NumPy is exceedingly useful. It contains methods for sampling from many different probability distributions, some of which are covered in the [random variables lecture](https://www.quantopian.com/lectures/random-variables) in the Quantopian lecture series. In this case we draw $N = 100$ random samples from a normal distribution with mean $1.01$ and standard deviation $0.03$. We treat these as the daily percentage returns of our asset and take the cumulative product of these samples to get the current price.\n",
        "\n",
        "The way we have generated our universe, the the individual $R_i$ vectors are each 1-dimensional arrays and the `returns` and `assets` variables contain 2-dimensional arrays. Above, we set the initial row of both `returns` and `assets` to be the first $R_i$ vector and the cumulative asset price based on those returns, respectively.\n",
        "\n",
        "We will now use this base asset to create a few other random assets that are correlated with it."
      ]
    },
    {
      "cell_type": "code",
      "metadata": {
        "id": "hjEud_v5fUac"
      },
      "source": [
        "# Generate assets that are correlated with R_1\n",
        "for i in range(1, N):\n",
        "    R_i = R_1 + np.random.normal(0.001, 0.02, 100)\n",
        "    returns[i] = R_i # Set each row of returns equal to the new R_i array\n",
        "    assets[i] = np.cumprod(R_i)\n",
        "    \n",
        "mean_returns = [(np.mean(R) - 1)*100 for R in returns]\n",
        "return_volatilities = [np.std(R) for R in returns]"
      ],
      "execution_count": null,
      "outputs": []
    },
    {
      "cell_type": "markdown",
      "metadata": {
        "id": "zABDv9KkfUac"
      },
      "source": [
        "Here we generate the remaining $N - 1$ securities that we want in our universe by adding random noise to $R_1$. This ensures that our $N - 1$ other assets will be correlated with the base asset because they have some underlying information that is shared.\n",
        "\n",
        "Let's plot what the mean return of each asset looks like:"
      ]
    },
    {
      "cell_type": "code",
      "metadata": {
        "scrolled": false,
        "colab": {
          "base_uri": "https://localhost:8080/",
          "height": 295
        },
        "id": "f8KEQez2fUac",
        "outputId": "03ef1628-fd09-46d0-a6a9-e5f235a381f7"
      },
      "source": [
        "plt.bar(np.arange(len(mean_returns)), mean_returns)\n",
        "plt.xlabel('Stock')\n",
        "plt.ylabel('Returns')\n",
        "plt.title('Returns for {0} Random Assets'.format(N));"
      ],
      "execution_count": null,
      "outputs": [
        {
          "output_type": "display_data",
          "data": {
            "image/png": "[encoded data removed]",
            "text/plain": [
              "<Figure size 432x288 with 1 Axes>"
            ]
          },
          "metadata": {
            "tags": [],
            "needs_background": "light"
          }
        }
      ]
    },
    {
      "cell_type": "markdown",
      "metadata": {
        "id": "bQldf_cXyplh"
      },
      "source": [
        "$\\textbf{Ejemplo Santiago Diaz Gonzalez:}$"
      ]
    },
    {
      "cell_type": "code",
      "metadata": {
        "id": "FMW2Fm0eyspF"
      },
      "source": [
        "h = 5\n",
        "assets1 = np.zeros((h, 100))\n",
        "retornos = np.zeros((h, 100))"
      ],
      "execution_count": null,
      "outputs": []
    },
    {
      "cell_type": "code",
      "metadata": {
        "id": "jPeZCtW0vn5H"
      },
      "source": [
        "R_2 = np.random.normal(1.01, 0.03, 100)\n",
        "retornos[0] = R_2\n",
        "assets[0] = np.cumprod(R_2)"
      ],
      "execution_count": null,
      "outputs": []
    },
    {
      "cell_type": "code",
      "metadata": {
        "id": "q1qvy9SYvdJs"
      },
      "source": [
        "for j in range(1, h):\n",
        "    R_j = R_2 + np.random.normal(0.001, 0.02, 100)\n",
        "    retornos[j] = R_j # Set each row of returns equal to the new R_j array\n",
        "    assets1[j] = np.cumprod(R_j)\n",
        "    \n",
        "media_retornos = [(np.mean(R) - 1)*100 for R in retornos]\n",
        "volatilidad = [np.std(R) for R in retornos]"
      ],
      "execution_count": null,
      "outputs": []
    },
    {
      "cell_type": "code",
      "metadata": {
        "colab": {
          "base_uri": "https://localhost:8080/",
          "height": 295
        },
        "id": "l7p9M5G7vtbA",
        "outputId": "1a6581c4-349c-44f4-8046-57b06534e22f"
      },
      "source": [
        "plt.bar(np.arange(len(media_retornos)), media_retornos, color = 'green')\n",
        "plt.xlabel('Stock')\n",
        "plt.ylabel('Retornos')\n",
        "plt.title('Returns for {0} Random Assets'.format(h));"
      ],
      "execution_count": null,
      "outputs": [
        {
          "output_type": "display_data",
          "data": {
            "image/png": "[encoded data removed]",
            "text/plain": [
              "<Figure size 432x288 with 1 Axes>"
            ]
          },
          "metadata": {
            "tags": [],
            "needs_background": "light"
          }
        }
      ]
    },
    {
      "cell_type": "markdown",
      "metadata": {
        "id": "4-PNcBdTfUac"
      },
      "source": [
        "### Calculating Expected Return\n",
        "\n",
        "So we have a universe of stocks. Great! Now let's put them together in a portfolio and calculate its expected return and risk.\n",
        "\n",
        "We will start off by generating $N$ random weights for each asset in our portfolio."
      ]
    },
    {
      "cell_type": "code",
      "metadata": {
        "id": "26Nc08mYfUad"
      },
      "source": [
        "weights = np.random.uniform(0, 1, N)\n",
        "weights = weights/np.sum(weights)"
      ],
      "execution_count": null,
      "outputs": []
    },
    {
      "cell_type": "markdown",
      "metadata": {
        "id": "ohezWbTGfUad"
      },
      "source": [
        "We have to rescale the weights so that they all add up to $1$. We do this by scaling the weights vector by the sum total of all the weights. This step ensures that we will be using $100\\%$ of the portfolio's cash.\n",
        "\n",
        "To calculate the mean return of the portfolio, we have to scale each asset's return by its designated weight. We can pull each element of each array and multiply them individually, but it's quicker to use NumPy's linear algebra methods. The function that we want is `dot()`. This will calculate the dot product between two arrays for us. So if $v = \\left[ 1, 2, 3 \\right]$ and $w = \\left[4, 5, 6 \\right]$, then:\n",
        "\n",
        "$$ v \\cdot w = 1 \\times 4 + 2 \\times 5 + 3 \\times 6 $$\n",
        "\n",
        "For a one-dimensional vector, the dot product will multiply each element pointwise and add all the products together! In our case, we have a vector of weights, $\\omega = \\left[ \\omega_1, \\omega_2, \\dots \\omega_N\\right]$ and a vector of returns, $\\mu = \\left[ \\mu_1, \\mu_2, \\dots, \\mu_N\\right]$. If we take the dot product of these two we will get:\n",
        "\n",
        "$$ \\omega \\cdot \\mu = \\omega_1\\mu_1 + \\omega_2\\mu_2 + \\dots + \\omega_N\\mu_N = \\mu_P $$\n",
        "\n",
        "This yields the sum of all the asset returns scaled by their respective weights. This the the portfolio's overall expected return!"
      ]
    },
    {
      "cell_type": "code",
      "metadata": {
        "id": "DmXCyw40fUad",
        "colab": {
          "base_uri": "https://localhost:8080/"
        },
        "outputId": "75cb8431-8273-40ba-8d0f-d6ecd457948b"
      },
      "source": [
        "p_returns = np.dot(weights, mean_returns)\n",
        "print(\"Expected return of the portfolio: \", p_returns)"
      ],
      "execution_count": null,
      "outputs": [
        {
          "output_type": "stream",
          "text": [
            "Expected return of the portfolio:  0.6679661889341824\n"
          ],
          "name": "stdout"
        }
      ]
    },
    {
      "cell_type": "markdown",
      "metadata": {
        "id": "KOWiWfo6fUad"
      },
      "source": [
        "Calculating the mean return is fairly intuitive and does not require too much explanation of linear algebra. However, calculating the variance of our portfolio requires a bit more background."
      ]
    },
    {
      "cell_type": "markdown",
      "metadata": {
        "id": "Pdk-KSxLMGDo"
      },
      "source": [
        "$\\textbf{Ejemplo Santiago Diaz Gonzalez:}$"
      ]
    },
    {
      "cell_type": "code",
      "metadata": {
        "id": "M6rX3a8-MPyz"
      },
      "source": [
        "peso = np.random.uniform(0, 1, h)\n",
        "peso = peso/np.sum(peso)"
      ],
      "execution_count": null,
      "outputs": []
    },
    {
      "cell_type": "code",
      "metadata": {
        "colab": {
          "base_uri": "https://localhost:8080/"
        },
        "id": "P6vGS9_yMPlg",
        "outputId": "e6f2aba7-18de-41fc-dbc1-5bb2f64412c7"
      },
      "source": [
        "p_retornos = np.dot(peso, media_retornos)\n",
        "print(\"Retornos esperados del portafolio: \", p_retornos)"
      ],
      "execution_count": null,
      "outputs": [
        {
          "output_type": "stream",
          "text": [
            "Retornos esperados del portafolio:  1.1799409672049164\n"
          ],
          "name": "stdout"
        }
      ]
    },
    {
      "cell_type": "markdown",
      "metadata": {
        "id": "sPg8MWvTfUae"
      },
      "source": [
        "#### Beware of NaN values\n",
        "\n",
        "Most of the time, all of these calculations will work without an issue. However, when working with real data we run the risk of having `nan` values in our arrays. This is NumPy's way of saying that the data there is missing or doesn't exist. These `nan` values can lead to errors in mathematical calculations so it is important to be aware of whether your array contains `nan` values and to know how to drop them."
      ]
    },
    {
      "cell_type": "code",
      "metadata": {
        "id": "zXXZGEr_fUaf",
        "colab": {
          "base_uri": "https://localhost:8080/"
        },
        "outputId": "fa250214-8252-4518-86a6-61bc4ae2b714"
      },
      "source": [
        "v = np.array([1, 2, np.nan, 4, 5])\n",
        "print(v)"
      ],
      "execution_count": null,
      "outputs": [
        {
          "output_type": "stream",
          "text": [
            "[ 1.  2. nan  4.  5.]\n"
          ],
          "name": "stdout"
        }
      ]
    },
    {
      "cell_type": "markdown",
      "metadata": {
        "id": "550Bve_GfUaf"
      },
      "source": [
        "Let's see what happens when we try to take the mean of this array."
      ]
    },
    {
      "cell_type": "code",
      "metadata": {
        "id": "PQ4tcWPvfUaf",
        "colab": {
          "base_uri": "https://localhost:8080/"
        },
        "outputId": "3e67e1fd-c373-46a1-e320-aee29da24ac1"
      },
      "source": [
        "print(np.mean(v))"
      ],
      "execution_count": null,
      "outputs": [
        {
          "output_type": "stream",
          "text": [
            "nan\n"
          ],
          "name": "stdout"
        }
      ]
    },
    {
      "cell_type": "markdown",
      "metadata": {
        "id": "3_pACXJ-fUaf"
      },
      "source": [
        "Clearly, `nan` values can have a large impact on our calculations. Fortunately, we can check for `nan` values with the `isnan()` function."
      ]
    },
    {
      "cell_type": "code",
      "metadata": {
        "id": "nQtqF0VkfUaf",
        "colab": {
          "base_uri": "https://localhost:8080/"
        },
        "outputId": "5eb64dff-d08d-453d-f228-4f31ac008325"
      },
      "source": [
        "np.isnan(v)"
      ],
      "execution_count": null,
      "outputs": [
        {
          "output_type": "execute_result",
          "data": {
            "text/plain": [
              "array([False, False,  True, False, False])"
            ]
          },
          "metadata": {
            "tags": []
          },
          "execution_count": 47
        }
      ]
    },
    {
      "cell_type": "markdown",
      "metadata": {
        "id": "WgBmPy8gfUag"
      },
      "source": [
        "Calling `isnan()` on an array will call the function on each value of the array, returning a value of `True` if the element is `nan` and `False` if the element is valid. Now, knowing whether your array contains `nan` values is all well and good, but how do we remove `nan`s? Handily enough, NumPy arrays can be indexed by boolean values (`True` or `False`). If we use a boolean array to index an array, we will remove all values of the array that register as `False` under the condition. We use the `isnan()` function in create a boolean array, assigning a `True` value to everything that is *not* `nan` and a `False` to the `nan`s and we use that to index the same array."
      ]
    },
    {
      "cell_type": "code",
      "metadata": {
        "id": "CN3l-s70fUag",
        "colab": {
          "base_uri": "https://localhost:8080/"
        },
        "outputId": "d8d54ebd-6f42-49c2-d8b6-6fe1b51c9cf1"
      },
      "source": [
        "ix = ~np.isnan(v) # the ~ indicates a logical not, inverting the bools\n",
        "print(v[ix]) # We can also just write v = v[~np.isnan(v)]"
      ],
      "execution_count": null,
      "outputs": [
        {
          "output_type": "stream",
          "text": [
            "[1. 2. 4. 5.]\n"
          ],
          "name": "stdout"
        }
      ]
    },
    {
      "cell_type": "code",
      "metadata": {
        "id": "pDK98RQXfUah",
        "colab": {
          "base_uri": "https://localhost:8080/"
        },
        "outputId": "27e97509-9266-48c0-83f7-28f06fa81521"
      },
      "source": [
        "print(np.mean(v[ix]))"
      ],
      "execution_count": null,
      "outputs": [
        {
          "output_type": "stream",
          "text": [
            "3.0\n"
          ],
          "name": "stdout"
        }
      ]
    },
    {
      "cell_type": "markdown",
      "metadata": {
        "id": "67q5af-YfUah"
      },
      "source": [
        "There are a few shortcuts to this process in the form of NumPy functions specifically built to handle them, such as `nanmean()`."
      ]
    },
    {
      "cell_type": "code",
      "metadata": {
        "id": "O-RhncmSfUai",
        "colab": {
          "base_uri": "https://localhost:8080/"
        },
        "outputId": "39de8831-aac1-4331-a170-36e67f76f98f"
      },
      "source": [
        "print(np.nanmean(v))"
      ],
      "execution_count": null,
      "outputs": [
        {
          "output_type": "stream",
          "text": [
            "3.0\n"
          ],
          "name": "stdout"
        }
      ]
    },
    {
      "cell_type": "markdown",
      "metadata": {
        "id": "7Qph8WINfUai"
      },
      "source": [
        "The `nanmean()` function simply calculates the mean of the array as if there were no `nan` values at all! There are a few more of these functions, so feel free to read more about them in the [documentation](https://docs.scipy.org/doc/numpy/user/index.html). These indeterminate values are more an issue with data than linear algebra itself so it is helpful that there are ways to handle them."
      ]
    },
    {
      "cell_type": "markdown",
      "metadata": {
        "id": "mamC7pd_gNr4"
      },
      "source": [
        "$\\textbf{Ejemplo Santiago Diaz Gonzalez:}$"
      ]
    },
    {
      "cell_type": "code",
      "metadata": {
        "colab": {
          "base_uri": "https://localhost:8080/"
        },
        "id": "2snbi3d9gOKd",
        "outputId": "8c102f21-668d-46b7-cfc8-156c1575ab2d"
      },
      "source": [
        "nan_ejemplo = np.array([42, np.nan, 214, 142, np.nan, 152, 87.4, 23.42, np.nan])\n",
        "print(nan_ejemplo)"
      ],
      "execution_count": null,
      "outputs": [
        {
          "output_type": "stream",
          "text": [
            "[ 42.      nan 214.   142.      nan 152.    87.4   23.42    nan]\n"
          ],
          "name": "stdout"
        }
      ]
    },
    {
      "cell_type": "code",
      "metadata": {
        "colab": {
          "base_uri": "https://localhost:8080/"
        },
        "id": "pPdb7Bg0gjVJ",
        "outputId": "0a7eaa7f-7883-4695-a4ea-0b98d36a8dd4"
      },
      "source": [
        "np.mean(nan_ejemplo)"
      ],
      "execution_count": null,
      "outputs": [
        {
          "output_type": "execute_result",
          "data": {
            "text/plain": [
              "nan"
            ]
          },
          "metadata": {
            "tags": []
          },
          "execution_count": 52
        }
      ]
    },
    {
      "cell_type": "code",
      "metadata": {
        "colab": {
          "base_uri": "https://localhost:8080/"
        },
        "id": "znh8iqL3gnQP",
        "outputId": "353d663b-d9d7-47fb-966f-c8e0366362eb"
      },
      "source": [
        "np.isnan(nan_ejemplo)"
      ],
      "execution_count": null,
      "outputs": [
        {
          "output_type": "execute_result",
          "data": {
            "text/plain": [
              "array([False,  True, False, False,  True, False, False, False,  True])"
            ]
          },
          "metadata": {
            "tags": []
          },
          "execution_count": 53
        }
      ]
    },
    {
      "cell_type": "code",
      "metadata": {
        "colab": {
          "base_uri": "https://localhost:8080/"
        },
        "id": "_lbu6Ri7gzMB",
        "outputId": "4b7bb7bc-c1db-462e-a610-c0b86a62b4d6"
      },
      "source": [
        "not_nan = ~np.isnan(nan_ejemplo)\n",
        "print(nan_ejemplo[not_nan])"
      ],
      "execution_count": null,
      "outputs": [
        {
          "output_type": "stream",
          "text": [
            "[ 42.   214.   142.   152.    87.4   23.42]\n"
          ],
          "name": "stdout"
        }
      ]
    },
    {
      "cell_type": "code",
      "metadata": {
        "colab": {
          "base_uri": "https://localhost:8080/"
        },
        "id": "uFqMBcnRhfKl",
        "outputId": "c5da1d2a-d4b5-4911-ae8a-33f66fb7078c"
      },
      "source": [
        "print(np.mean(nan_ejemplo[not_nan]))"
      ],
      "execution_count": null,
      "outputs": [
        {
          "output_type": "stream",
          "text": [
            "110.13666666666666\n"
          ],
          "name": "stdout"
        }
      ]
    },
    {
      "cell_type": "markdown",
      "metadata": {
        "id": "kXyacezTfUai"
      },
      "source": [
        "### Conclusion\n",
        "\n",
        "Linear algebra is pervasive in finance and in general. For example, the calculation of *optimal* weights according to modern portfolio theory is done using linear algebra techniques. The arrays and functions in NumPy allow us to handle these calculations in an intuitive way. For a quick intro to linear algebra and how to use NumPy to do more significant matrix calculations, proceed to the next section."
      ]
    },
    {
      "cell_type": "markdown",
      "metadata": {
        "id": "2Qmx3kZ5fUai"
      },
      "source": [
        "## A brief foray into linear algebra\n",
        "\n",
        "Let's start with a basic overview of some linear algebra. Linear algebra comes down to the multiplication and composition of scalar and matrix values. A scalar value is just a real number that we multiply against an array. When we scale a matrix or array using a scalar, we multiply each individual element of that matrix or array by the scalar.\n",
        "\n",
        "A matrix is a collection of values, typically represented by an $m \\times n$ grid, where $m$ is the number of rows and $n$ is the number of columns. The edge lengths $m$ and $n$ do not necessarily have to be different. If we have $m = n$, we call this a square matrix. A particularly interesting case of a matrix is when $m = 1$ or $n = 1$. In this case we have a special case of a matrix that we call a vector. While there is a matrix object in NumPy we will be doing everything using NumPy arrays because they can have dimensions greater than $2$. For the purpose of this section, we will be using matrix and array interchangeably.\n",
        "\n",
        "We can express the matrix equation as:\n",
        "\n",
        "$$ y = A\\cdot x $$\n",
        "\n",
        "Where $A$ is an $m \\times n$ matrix, $y$ is a $m \\times 1$ vector, and $x$ is a $n \\times 1$ vector. On the right-hand side of the equation we are multiplying a matrix by a vector. This requires a little bit more clarification, lest we think that we can go about multiplying any matrices by any other matrices.\n",
        "\n",
        "#### Matrix multiplication\n",
        "\n",
        "With matrix multiplication, the order in which the matrices are multiplied matters. Multiplying a matrix on the left side by another matrix may be just fine, but multiplying on the right may be undefined."
      ]
    },
    {
      "cell_type": "code",
      "metadata": {
        "collapsed": true,
        "id": "RyA8FOfcfUai"
      },
      "source": [
        "A = np.array([\n",
        "        [1, 2, 3, 12, 6],\n",
        "        [4, 5, 6, 15, 20],\n",
        "        [7, 8, 9, 10, 10]        \n",
        "    ])\n",
        "B = np.array([\n",
        "        [4, 4, 2],\n",
        "        [2, 3, 1],\n",
        "        [6, 5, 8],\n",
        "        [9, 9, 9]\n",
        "    ])"
      ],
      "execution_count": null,
      "outputs": []
    },
    {
      "cell_type": "markdown",
      "metadata": {
        "id": "92dSwoQTfUai"
      },
      "source": [
        "Notice that the above-defined matrices, $A$ and $B$, have different dimensions. $A$ is $3 \\times 5$ and $B$ is $4 \\times 3$. The general rule of what can and cannot be multiplied in which order is based on the dimensions of the matrices. Specifically, the number of columns in the matrix on the left must be equal to the number of rows in the matrix on the right. In super informal terms, let's say that we have an $m \\times n$ matrix and a $p \\times q$ matrix. If we multiply the first by the second on the right, we get the following:\n",
        "\n",
        "$$ (m \\times n) \\cdot (p \\times q) = (m \\times q) $$\n",
        "\n",
        "So the resultant product has the same number of rows as the left matrix and the same number of columns as the right matrix. This limitation of matrix multiplication with regards to dimensions is important to keep track of when writing code. To demonstrate this, we use the `dot()` function to multiply our matrices below:"
      ]
    },
    {
      "cell_type": "code",
      "metadata": {
        "id": "QQF7SpglfUai"
      },
      "source": [
        "#print(np.dot(A, B)) Generates an error"
      ],
      "execution_count": null,
      "outputs": []
    },
    {
      "cell_type": "markdown",
      "metadata": {
        "id": "ZjDAXsS7fUaj"
      },
      "source": [
        "These results make sense in accordance with our rule. Multiplying a $3 \\times 5$ matrix on the right by a $4 \\times 3$ matrix results in an error while multiplying a $4 \\times 3$ matrix on the right by a $3 \\times 5$ matrix results in a $4 \\times 5$ matrix."
      ]
    },
    {
      "cell_type": "code",
      "metadata": {
        "id": "UK8PjkEafUaj",
        "colab": {
          "base_uri": "https://localhost:8080/"
        },
        "outputId": "58b0cbb1-47ac-4e1b-a0b6-add2e34901ba"
      },
      "source": [
        "print(np.dot(B, A))"
      ],
      "execution_count": null,
      "outputs": [
        {
          "output_type": "stream",
          "text": [
            "[[ 34  44  54 128 124]\n",
            " [ 21  27  33  79  82]\n",
            " [ 82 101 120 227 216]\n",
            " [108 135 162 333 324]]\n"
          ],
          "name": "stdout"
        }
      ]
    },
    {
      "cell_type": "markdown",
      "metadata": {
        "id": "RbRrlyfJh9WL"
      },
      "source": [
        "$\\textbf{Ejemplo Santiago Diaz Gonzalez:}$"
      ]
    },
    {
      "cell_type": "code",
      "metadata": {
        "id": "LNfIQS0ZiCZk"
      },
      "source": [
        "C = np.array([\n",
        "              [3, 4, 5, 4],\n",
        "              [12, 24, 1, 5]\n",
        "])\n",
        "\n",
        "D = np.array([\n",
        "              [45, 6],\n",
        "              [21, 3]\n",
        "])"
      ],
      "execution_count": null,
      "outputs": []
    },
    {
      "cell_type": "code",
      "metadata": {
        "colab": {
          "base_uri": "https://localhost:8080/"
        },
        "id": "Llhx_0gKikM8",
        "outputId": "cbb9b4db-cba7-4f5e-dc50-dd4b44fa3cbe"
      },
      "source": [
        "#print(np.dot(C,D)) Genera un error\n",
        "print(np.dot(D,C)) #Sí se puede"
      ],
      "execution_count": null,
      "outputs": [
        {
          "output_type": "stream",
          "text": [
            "[[207 324 231 210]\n",
            " [ 99 156 108  99]]\n"
          ],
          "name": "stdout"
        }
      ]
    },
    {
      "cell_type": "markdown",
      "metadata": {
        "id": "Px54FyNxatWM"
      },
      "source": [
        "Tenemos las matrices:\n",
        "\n",
        "$C =$ $\\begin{equation}\n",
        "\\begin{pmatrix}\n",
        "3 & 4 & 5 & 4\\\\\n",
        "12 & 24 & 1 & 5\n",
        "\\end{pmatrix}\n",
        "\\end{equation} $\n",
        "\n",
        "$D =$ $\\begin{equation}\n",
        "\\begin{pmatrix}\n",
        "45 & 6\\\\\n",
        "21 & 3\n",
        "\\end{pmatrix}\n",
        "\\end{equation} $\n",
        "\n",
        "Al realizar la operación $D · C$ obtenemos:\n",
        "\n",
        "$A =$ $\\begin{equation}\n",
        "\\begin{pmatrix}\n",
        "207 & 324 & 231 & 210\\\\\n",
        "99 & 156 & 108 & 99\n",
        "\\end{pmatrix}\n",
        "\\end{equation} $"
      ]
    },
    {
      "cell_type": "markdown",
      "metadata": {
        "id": "yDOgqSpYfUaj"
      },
      "source": [
        "### Portfolio Variance\n",
        "\n",
        "Let's return to our portfolio example from before. We calculated the expected return of the portfolio, but how do we calculate the variance? We start by trying to evaluate the portfolio as a sum of each individual asset, scaled by it's weight.\n",
        "\n",
        "$$ VAR[P] = VAR[\\omega_1 S_1 + \\omega_2 S_2 + \\cdots + \\omega_N S_N] $$\n",
        "\n",
        "Where $S_0, \\cdots, S_N$ are the assets contained within our universe. If all of our assets were independent of each other, we could simply evaluate this as\n",
        "\n",
        "$$ VAR[P] = VAR[\\omega_1 S_1] + VAR[\\omega_2 S_2] + \\cdots + VAR[\\omega_N S_N] = \\omega_1^2\\sigma_1^2 + \\omega_2^2\\sigma_2^2 + \\cdots + \\omega_N^2\\sigma_N^2 $$\n",
        "\n",
        "However, all of our assets depend on each other by their construction. They are all in some way related to our base asset and therefore each other. We thus have to calculate the variance of the portfolio by including the individual pairwise covariances of each asset. Our formula for the variance of the portfolio:\n",
        "\n",
        "$$ VAR[P] = \\sigma_P^2 = \\sum_i \\omega_i^2\\sigma_i^2 + \\sum_i\\sum_{i\\neq j} \\omega_i\\omega_j\\sigma_i\\sigma_j\\rho_{i, j}, \\ i, j \\in \\lbrace 1, 2, \\cdots, N \\rbrace $$\n",
        "\n",
        "Where $\\rho_{i,j}$ is the correlation between $S_i$ and $S_j$, $\\rho_{i, j} = \\frac{COV[S_i, S_j]}{\\sigma_i\\sigma_j}$. This seems exceedingly complicated, but we can easily handle all of this using NumPy arrays. First, we calculate the covariance matrix that relates all the individual stocks in our universe."
      ]
    },
    {
      "cell_type": "code",
      "metadata": {
        "colab": {
          "base_uri": "https://localhost:8080/"
        },
        "id": "hFmCps1LfUaj",
        "outputId": "a9e14996-3159-4c85-e4ea-0b321181258d"
      },
      "source": [
        "cov_mat = np.cov(returns)\n",
        "print(cov_mat)"
      ],
      "execution_count": null,
      "outputs": [
        {
          "output_type": "stream",
          "text": [
            "[[0.00111331 0.00118091 0.00107879 0.00112776 0.00117164 0.00110224\n",
            "  0.0011569  0.00106787 0.00121585 0.00111713]\n",
            " [0.00118091 0.00172813 0.00106113 0.00118526 0.00118382 0.00117341\n",
            "  0.00115327 0.0011719  0.00126357 0.00112355]\n",
            " [0.00107879 0.00106113 0.00150564 0.00113708 0.00115991 0.00097598\n",
            "  0.00114807 0.0010201  0.00118995 0.00111326]\n",
            " [0.00112776 0.00118526 0.00113708 0.00154539 0.00122653 0.0011313\n",
            "  0.00114754 0.0010739  0.00128291 0.00113651]\n",
            " [0.00117164 0.00118382 0.00115991 0.00122653 0.00158135 0.00115609\n",
            "  0.00125062 0.00113086 0.00132164 0.00113883]\n",
            " [0.00110224 0.00117341 0.00097598 0.0011313  0.00115609 0.00151141\n",
            "  0.00113431 0.00104437 0.0012398  0.00110585]\n",
            " [0.0011569  0.00115327 0.00114807 0.00114754 0.00125062 0.00113431\n",
            "  0.00160669 0.00107616 0.00123659 0.00113042]\n",
            " [0.00106787 0.0011719  0.0010201  0.0010739  0.00113086 0.00104437\n",
            "  0.00107616 0.00146894 0.00122412 0.00111911]\n",
            " [0.00121585 0.00126357 0.00118995 0.00128291 0.00132164 0.0012398\n",
            "  0.00123659 0.00122412 0.00165846 0.00121336]\n",
            " [0.00111713 0.00112355 0.00111326 0.00113651 0.00113883 0.00110585\n",
            "  0.00113042 0.00111911 0.00121336 0.00156314]]\n"
          ],
          "name": "stdout"
        }
      ]
    },
    {
      "cell_type": "markdown",
      "metadata": {
        "id": "RRkYza_TjAE8"
      },
      "source": [
        "$\\textbf{Ejemplo Santiago Diaz Gonzalez:}$"
      ]
    },
    {
      "cell_type": "code",
      "metadata": {
        "colab": {
          "base_uri": "https://localhost:8080/"
        },
        "id": "nug-fK4QjAlR",
        "outputId": "8fb77386-dfd7-452c-e6c7-13365e86af32"
      },
      "source": [
        "cov_ejemplo = np.cov(retornos)\n",
        "print(cov_ejemplo)"
      ],
      "execution_count": null,
      "outputs": [
        {
          "output_type": "stream",
          "text": [
            "[[0.00093797 0.0009413  0.00093526 0.00099955 0.00089855]\n",
            " [0.0009413  0.00142343 0.00092436 0.00099626 0.00093113]\n",
            " [0.00093526 0.00092436 0.00134566 0.00095732 0.00092592]\n",
            " [0.00099955 0.00099626 0.00095732 0.00146144 0.0009172 ]\n",
            " [0.00089855 0.00093113 0.00092592 0.0009172  0.00126639]]\n"
          ],
          "name": "stdout"
        }
      ]
    },
    {
      "cell_type": "markdown",
      "metadata": {
        "id": "DpeV1GyJfUaj"
      },
      "source": [
        "This array is not formatted particularly nicely, but a covariance matrix is a very important concept. The covariance matrix is of the form:\n",
        "\n",
        "$$ \\left[\\begin{matrix}\n",
        "VAR[S_1] & COV[S_1, S_2] & \\cdots & COV[S_1, S_N] \\\\\n",
        "COV[S_2, S_1] & VAR[S_2] & \\cdots & COV[S_2, S_N] \\\\\n",
        "\\vdots & \\vdots & \\ddots & \\vdots \\\\\n",
        "COV[S_N, S_1] & COV[S_N, S_2] & \\cdots & VAR[S_N]\n",
        "\\end{matrix}\\right] $$\n",
        "\n",
        "So each diagonal entry is the variance of that asset at that index and each off-diagonal holds the covariance of two assets indexed by the column and row number. What is important is that once we have the covariance matrix we are able to do some very quick linear algebra to calculate the variance of the overall portfolio. We can represent the variance of the portfolio in array form as:\n",
        "\n",
        "$$ \\sigma_p^2 = \\omega \\ C \\ \\omega^\\intercal$$\n",
        "\n",
        "Where $C$ is the covariance matrix of all the assets and $\\omega$ is the array containing the weights of each individual asset. The superscript $\\intercal$ on the second $\\omega$ listed above denotes the **transpose** of $\\omega$. For a reference on the evaluation of the variance of a portfolio as a matrix equation, please see the Wikipedia article on [modern portfolio theory](https://en.wikipedia.org/wiki/Modern_portfolio_theory).\n",
        "\n",
        "The transpose of an array is what you get when you switch the rows and columns of an array. This has the effect of reflecting an array across what you might imagine as a diagonal. For example, take our array $A$ from before:"
      ]
    },
    {
      "cell_type": "code",
      "metadata": {
        "colab": {
          "base_uri": "https://localhost:8080/"
        },
        "id": "mTZk57zQfUal",
        "outputId": "3931a8b7-fc97-43f8-f3ef-7f7934edbdf7"
      },
      "source": [
        "print(A)"
      ],
      "execution_count": null,
      "outputs": [
        {
          "output_type": "stream",
          "text": [
            "[[ 1  2  3 12  6]\n",
            " [ 4  5  6 15 20]\n",
            " [ 7  8  9 10 10]]\n"
          ],
          "name": "stdout"
        }
      ]
    },
    {
      "cell_type": "markdown",
      "metadata": {
        "id": "Eu7d0xvyfUal"
      },
      "source": [
        "The transpose looks like a mirror image of the same array."
      ]
    },
    {
      "cell_type": "code",
      "metadata": {
        "colab": {
          "base_uri": "https://localhost:8080/"
        },
        "id": "lyn9_c3ufUal",
        "outputId": "f51fc926-23e9-4ee8-dbaf-114ab53f6163"
      },
      "source": [
        "print(np.transpose(A))"
      ],
      "execution_count": null,
      "outputs": [
        {
          "output_type": "stream",
          "text": [
            "[[ 1  4  7]\n",
            " [ 2  5  8]\n",
            " [ 3  6  9]\n",
            " [12 15 10]\n",
            " [ 6 20 10]]\n"
          ],
          "name": "stdout"
        }
      ]
    },
    {
      "cell_type": "markdown",
      "metadata": {
        "id": "aqRG3gohjLhf"
      },
      "source": [
        "$\\textbf{Ejemplo Santiago Diaz Gonzalez:}$"
      ]
    },
    {
      "cell_type": "code",
      "metadata": {
        "colab": {
          "base_uri": "https://localhost:8080/"
        },
        "id": "L5P403cBjKO7",
        "outputId": "c49efc1f-1182-4243-c75d-2fdce16f74e9"
      },
      "source": [
        "print(C)"
      ],
      "execution_count": null,
      "outputs": [
        {
          "output_type": "stream",
          "text": [
            "[[ 3  4  5  4]\n",
            " [12 24  1  5]]\n"
          ],
          "name": "stdout"
        }
      ]
    },
    {
      "cell_type": "code",
      "metadata": {
        "colab": {
          "base_uri": "https://localhost:8080/"
        },
        "id": "hmlvCwiojP-B",
        "outputId": "fb9b40fa-a9c9-4048-f0c3-051113d5239e"
      },
      "source": [
        "print(np.transpose(C))"
      ],
      "execution_count": null,
      "outputs": [
        {
          "output_type": "stream",
          "text": [
            "[[ 3 12]\n",
            " [ 4 24]\n",
            " [ 5  1]\n",
            " [ 4  5]]\n"
          ],
          "name": "stdout"
        }
      ]
    },
    {
      "cell_type": "markdown",
      "metadata": {
        "id": "HcghYLsCfUal"
      },
      "source": [
        "But $\\omega$ here is a 1-dimensional array, a vector! It makes perfect to take the transpose of $A$, a $3 \\times 5$ array, as the output will be a $5 \\times 3$ array, but a 1-dimensional array is not quite as intuitive. A typical 1-dimensional array can be thought of as a $1 \\times n$ horizontal vector. Thus, taking the tranpose of this array essentially means changing it into a $n \\times 1$ vertical vector. This makes sense because 1-dimensional arrays are still arrays and any multiplication done between 1-dimensional and higher dimensional arrays must keep in line with our dimensionality issue of matrix multiplication.\n",
        "\n",
        "To make a long story short, we think of $\\omega$ as $1 \\times N$ since we have $N$ securities. This makes it so that $\\omega^\\intercal$ is $N \\times 1$. Again, our covariance matrix is $N \\times N$. So the overall multiplication works out like so, in informal terms:\n",
        "\n",
        "$$ \\text{Dimensions}(\\sigma_p^2) = \\text{Dimensions}(\\omega C \\omega^\\intercal) = (1 \\times N)\\cdot (N \\times N)\\cdot (N \\times 1) = (1 \\times 1)$$\n",
        "\n",
        "Multiplying the covariance matrix on the left by the plain horizontal vector and on the right by that vector's transpose results in the calculation of a single scalar ($1 \\times 1$) value, our portfolio's variance.\n",
        "\n",
        "So knowing this, let's proceed and calculate the portfolio variance! We can easily calculate the product of these arrays by using `dot()` for matrix multiplication, though this time we have to do it twice."
      ]
    },
    {
      "cell_type": "code",
      "metadata": {
        "scrolled": false,
        "colab": {
          "base_uri": "https://localhost:8080/"
        },
        "id": "_jIeGofbfUam",
        "outputId": "9026afb8-00b4-476e-bd02-90ff9b40c564"
      },
      "source": [
        "# Calculating the portfolio volatility\n",
        "var_p = np.dot(np.dot(weights, cov_mat), weights.T)\n",
        "vol_p = np.sqrt(var_p)\n",
        "print(\"Portfolio volatility: \", vol_p)"
      ],
      "execution_count": null,
      "outputs": [
        {
          "output_type": "stream",
          "text": [
            "Portfolio volatility:  0.03438016204527691\n"
          ],
          "name": "stdout"
        }
      ]
    },
    {
      "cell_type": "markdown",
      "metadata": {
        "id": "5uSrzANYfUam"
      },
      "source": [
        "To confirm this calculation, let's simply evaluate the volatility of the portfolio using only NumPy functions."
      ]
    },
    {
      "cell_type": "code",
      "metadata": {
        "id": "3bIguiQTfUam",
        "colab": {
          "base_uri": "https://localhost:8080/"
        },
        "outputId": "f0741ff4-45c0-415a-92e3-dcccbff6d1a1"
      },
      "source": [
        "# Confirming calculation\n",
        "vol_p_alt = np.sqrt(np.var(np.dot(weights, returns), ddof=1))\n",
        "print(\"Portfolio volatility: \", vol_p_alt)"
      ],
      "execution_count": null,
      "outputs": [
        {
          "output_type": "stream",
          "text": [
            "Portfolio volatility:  0.03438016204527692\n"
          ],
          "name": "stdout"
        }
      ]
    },
    {
      "cell_type": "markdown",
      "metadata": {
        "id": "EgA3mX8NjZmx"
      },
      "source": [
        "$\\textbf{Ejemplo Santiago Diaz Gonzalez:}$"
      ]
    },
    {
      "cell_type": "code",
      "metadata": {
        "colab": {
          "base_uri": "https://localhost:8080/"
        },
        "id": "omN__hMXjanR",
        "outputId": "808b7082-3a4c-4b3d-ee82-dd93c8a19459"
      },
      "source": [
        "# Volatilidad del portafolio\n",
        "var_ej = np.dot(np.dot(peso, cov_ejemplo), peso.T)\n",
        "vol_ej = np.sqrt(var_ej)\n",
        "print('Volatilidad del portafolio: ', vol_ej)"
      ],
      "execution_count": null,
      "outputs": [
        {
          "output_type": "stream",
          "text": [
            "Volatilidad del portafolio:  0.031722637358949556\n"
          ],
          "name": "stdout"
        }
      ]
    },
    {
      "cell_type": "code",
      "metadata": {
        "colab": {
          "base_uri": "https://localhost:8080/"
        },
        "id": "XwOugisrj57S",
        "outputId": "9ef197c1-da30-4a61-a729-e3c0ca130f46"
      },
      "source": [
        "# Confirmando el cálculo\n",
        "vol_ej_conf = np.sqrt(np.var(np.dot(peso, retornos), ddof = 1))\n",
        "print('Volatilidad del portafolio: ', vol_ej_conf)"
      ],
      "execution_count": null,
      "outputs": [
        {
          "output_type": "stream",
          "text": [
            "Volatilidad del portafolio:  0.031722637358949556\n"
          ],
          "name": "stdout"
        }
      ]
    },
    {
      "cell_type": "markdown",
      "metadata": {
        "id": "DpAFtN2rjZjW"
      },
      "source": [
        ""
      ]
    },
    {
      "cell_type": "markdown",
      "metadata": {
        "id": "vfsYgAmsfUam"
      },
      "source": [
        "The `ddof` parameter is a simple integer input that tells the function the number of degrees of freedom to take into account. This is a more statistical concept, but what this tells us that our matrix calculation is correct!\n",
        "\n",
        "A lot of this might not make sense at first glance. It helps to go back and forth between the theory and the code representations until you have a better grasp of the mathematics involved. It is definitely not necessary to be an expert on linear algebra and on matrix operations, but linear algebra can help to streamline the process of working with large amounts of data. For further reading on NumPy, check out the [documentation](https://docs.scipy.org/doc/numpy/user/index.html)."
      ]
    },
    {
      "cell_type": "markdown",
      "metadata": {
        "id": "eajVf-7VfUam"
      },
      "source": [
        "*This presentation is for informational purposes only and does not constitute an offer to sell, a solicitation to buy, or a recommendation for any security; nor does it constitute an offer to provide investment advisory or other services by Quantopian, Inc. (\"Quantopian\"). Nothing contained herein constitutes investment advice or offers any opinion with respect to the suitability of any security, and any views expressed herein should not be taken as advice to buy, sell, or hold any security or as an endorsement of any security or company.  In preparing the information contained herein, Quantopian, Inc. has not taken into account the investment needs, objectives, and financial circumstances of any particular investor. Any views expressed and data illustrated herein were prepared based upon information, believed to be reliable, available to Quantopian, Inc. at the time of publication. Quantopian makes no guarantees as to their accuracy or completeness. All information is subject to change and may quickly become unreliable for various reasons, including changes in market conditions or economic circumstances.*"
      ]
    }
  ]
}