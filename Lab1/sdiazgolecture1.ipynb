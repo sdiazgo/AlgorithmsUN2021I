{
  "nbformat": 4,
  "nbformat_minor": 0,
  "metadata": {
    "kernelspec": {
      "name": "python3",
      "display_name": "Python 3"
    },
    "colab": {
      "name": "sdiazgolecture1.ipynb",
      "provenance": []
    }
  },
  "cells": [
    {
      "cell_type": "markdown",
      "metadata": {
        "id": "vSzlmpq7megN"
      },
      "source": [
        "#Introduction to the Research Environment\n",
        "\n",
        "The research environment is powered by IPython notebooks, which allow one to perform a great deal of data analysis and statistical validation. We'll demonstrate a few simple techniques here."
      ]
    },
    {
      "cell_type": "markdown",
      "metadata": {
        "id": "9ylcmlN8megT"
      },
      "source": [
        "##Code Cells vs. Text Cells\n",
        "\n",
        "As you can see, each cell can be either code or text. To select between them, choose from the 'Cell Type' dropdown menu on the top left."
      ]
    },
    {
      "cell_type": "markdown",
      "metadata": {
        "id": "SC0R2WIjmegU"
      },
      "source": [
        "##Executing a Command\n",
        "\n",
        "A code cell will be evaluated when you press play, or when you press the shortcut, shift-enter. Evaluating a cell evaluates each line of code in sequence, and prints the results of the last line below the cell."
      ]
    },
    {
      "cell_type": "code",
      "metadata": {
        "colab": {
          "base_uri": "https://localhost:8080/"
        },
        "id": "sRoFaUfYmegU",
        "outputId": "8bf1d548-3949-474b-8bd9-6fcdc9139a7a"
      },
      "source": [
        "(9 + 5) * 3"
      ],
      "execution_count": 1,
      "outputs": [
        {
          "output_type": "execute_result",
          "data": {
            "text/plain": [
              "42"
            ]
          },
          "metadata": {
            "tags": []
          },
          "execution_count": 1
        }
      ]
    },
    {
      "cell_type": "markdown",
      "metadata": {
        "id": "OtNIdvrvmegV"
      },
      "source": [
        "Sometimes there is no result to be printed, as is the case with assignment."
      ]
    },
    {
      "cell_type": "code",
      "metadata": {
        "collapsed": true,
        "id": "rpmLlWRkmegV"
      },
      "source": [
        "X = 420"
      ],
      "execution_count": 2,
      "outputs": []
    },
    {
      "cell_type": "markdown",
      "metadata": {
        "id": "L3deT_JkmegW"
      },
      "source": [
        "Remember that only the result from the last line is printed."
      ]
    },
    {
      "cell_type": "code",
      "metadata": {
        "colab": {
          "base_uri": "https://localhost:8080/"
        },
        "id": "xq4FCm0smegW",
        "outputId": "bc6a1a45-5267-4548-e1ce-0d278134f8ae"
      },
      "source": [
        "6 + 9\n",
        "4/3\n",
        "23 * 3\n",
        "pow(2,5)"
      ],
      "execution_count": 3,
      "outputs": [
        {
          "output_type": "execute_result",
          "data": {
            "text/plain": [
              "32"
            ]
          },
          "metadata": {
            "tags": []
          },
          "execution_count": 3
        }
      ]
    },
    {
      "cell_type": "markdown",
      "metadata": {
        "id": "98h2nSWjmegX"
      },
      "source": [
        "However, you can print whichever lines you want using the `print` statement."
      ]
    },
    {
      "cell_type": "code",
      "metadata": {
        "colab": {
          "base_uri": "https://localhost:8080/"
        },
        "id": "28YmrkCHmegY",
        "outputId": "c016a5ca-5c02-4aab-8073-9bb4fe294871"
      },
      "source": [
        "print (2 + 2)\n",
        "print(pow(4,3))\n",
        "print(\"Santiago Díaz\")\n",
        "3 + 3"
      ],
      "execution_count": 4,
      "outputs": [
        {
          "output_type": "stream",
          "text": [
            "4\n",
            "64\n",
            "Santiago Díaz\n"
          ],
          "name": "stdout"
        },
        {
          "output_type": "execute_result",
          "data": {
            "text/plain": [
              "6"
            ]
          },
          "metadata": {
            "tags": []
          },
          "execution_count": 4
        }
      ]
    },
    {
      "cell_type": "markdown",
      "metadata": {
        "id": "pmHihYiqmegY"
      },
      "source": [
        "##Knowing When a Cell is Running\n",
        "\n",
        "While a cell is running, a `[*]` will display on the left. When a cell has yet to be executed, `[ ]` will display. When it has been run, a number will display indicating the order in which it was run during the execution of the notebook `[5]`. Try on this cell and note it happening."
      ]
    },
    {
      "cell_type": "code",
      "metadata": {
        "colab": {
          "base_uri": "https://localhost:8080/"
        },
        "id": "3-uYllI3megZ",
        "outputId": "cd118699-da30-473e-b6fb-0d2fae49008d"
      },
      "source": [
        "#Take some time to run something\n",
        "s = 3\n",
        "for i in range(9999999):\n",
        "    s = s + (i-1)\n",
        "s"
      ],
      "execution_count": 5,
      "outputs": [
        {
          "output_type": "execute_result",
          "data": {
            "text/plain": [
              "49999975000005"
            ]
          },
          "metadata": {
            "tags": []
          },
          "execution_count": 5
        }
      ]
    },
    {
      "cell_type": "markdown",
      "metadata": {
        "id": "qCxfHi3XmegZ"
      },
      "source": [
        "##Importing Libraries\n",
        "\n",
        "The vast majority of the time, you'll want to use functions from pre-built libraries. You can't import every library on Quantopian due to security issues, but you can import most of the common scientific ones. Here I import numpy and pandas, the two most common and useful libraries in quant finance. I recommend copying this import statement to every new notebook.\n",
        "\n",
        "Notice that you can rename libraries to whatever you want after importing. The `as` statement allows this. Here we use `np` and `pd` as aliases for `numpy` and `pandas`. This is a very common aliasing and will be found in most code snippets around the web. The point behind this is to allow you to type fewer characters when you are frequently accessing these libraries."
      ]
    },
    {
      "cell_type": "code",
      "metadata": {
        "collapsed": true,
        "id": "vS4h5Jsqmega"
      },
      "source": [
        "import numpy as npsdg\n",
        "import pandas as pdsdg\n",
        "import pandas_datareader as pdrsdg\n",
        "import datetime\n",
        "\n",
        "# This is a plotting library for pretty pictures.\n",
        "import matplotlib.pyplot as pltsdg"
      ],
      "execution_count": 6,
      "outputs": []
    },
    {
      "cell_type": "markdown",
      "metadata": {
        "id": "RTQsTqHKmega"
      },
      "source": [
        "##Tab Autocomplete\n",
        "\n",
        "Pressing tab will give you a list of IPython's best guesses for what you might want to type next. This is incredibly valuable and will save you a lot of time. If there is only one possible option for what you could type next, IPython will fill that in for you. Try pressing tab very frequently, it will seldom fill in anything you don't want, as if there is ambiguity a list will be shown. This is a great way to see what functions are available in a library.\n",
        "\n",
        "Try placing your cursor after the `.` and pressing tab."
      ]
    },
    {
      "cell_type": "code",
      "metadata": {
        "colab": {
          "base_uri": "https://localhost:8080/"
        },
        "id": "e-rFH835megb",
        "outputId": "917d59ff-4ef0-41c4-ce0b-0d7ab3483b5d"
      },
      "source": [
        "npsdg.random.binomial"
      ],
      "execution_count": 7,
      "outputs": [
        {
          "output_type": "execute_result",
          "data": {
            "text/plain": [
              "<function RandomState.binomial>"
            ]
          },
          "metadata": {
            "tags": []
          },
          "execution_count": 7
        }
      ]
    },
    {
      "cell_type": "markdown",
      "metadata": {
        "id": "UF9BMRg-megc"
      },
      "source": [
        "##Getting Documentation Help\n",
        "\n",
        "Placing a question mark after a function and executing that line of code will give you the documentation IPython has for that function. It's often best to do this in a new cell, as you avoid re-executing other code and running into bugs."
      ]
    },
    {
      "cell_type": "code",
      "metadata": {
        "collapsed": true,
        "id": "65FjJtxfmegd"
      },
      "source": [
        "npsdg.random.triangular?"
      ],
      "execution_count": 8,
      "outputs": []
    },
    {
      "cell_type": "markdown",
      "metadata": {
        "id": "l0nBzG61megd"
      },
      "source": [
        "##Sampling\n",
        "\n",
        "We'll sample some random data using a function from `numpy`."
      ]
    },
    {
      "cell_type": "code",
      "metadata": {
        "id": "j04sdXBymegd"
      },
      "source": [
        "# Sample 120 points with a mean of 0 and an std of 2. This is a standard normal distribution.\n",
        "X = npsdg.random.normal(0, 2, 120)"
      ],
      "execution_count": 9,
      "outputs": []
    },
    {
      "cell_type": "markdown",
      "metadata": {
        "id": "g352etXVmegd"
      },
      "source": [
        "##Plotting\n",
        "\n",
        "We can use the plotting library we imported as follows."
      ]
    },
    {
      "cell_type": "code",
      "metadata": {
        "colab": {
          "base_uri": "https://localhost:8080/",
          "height": 283
        },
        "id": "hn2kwztGmegd",
        "outputId": "1873edf8-a45e-47d5-e098-8033532f2768"
      },
      "source": [
        "pltsdg.plot(X)"
      ],
      "execution_count": 10,
      "outputs": [
        {
          "output_type": "execute_result",
          "data": {
            "text/plain": [
              "[<matplotlib.lines.Line2D at 0x7efdcae7a7d0>]"
            ]
          },
          "metadata": {
            "tags": []
          },
          "execution_count": 10
        },
        {
          "output_type": "display_data",
          "data": {
            "image/png": "[encoded data removed]",
            "text/plain": [
              "<Figure size 432x288 with 1 Axes>"
            ]
          },
          "metadata": {
            "tags": [],
            "needs_background": "light"
          }
        }
      ]
    },
    {
      "cell_type": "markdown",
      "metadata": {
        "id": "06BYM3KNmege"
      },
      "source": [
        "###Squelching Line Output\n",
        "\n",
        "You might have noticed the annoying line of the form `[<matplotlib.lines.Line2D at 0x7f72fdbc1710>]` before the plots. This is because the `.plot` function actually produces output. Sometimes we wish not to display output, we can accomplish this with the semi-colon as follows."
      ]
    },
    {
      "cell_type": "code",
      "metadata": {
        "colab": {
          "base_uri": "https://localhost:8080/",
          "height": 265
        },
        "id": "nv4BXx8cmege",
        "outputId": "f76ac937-9c4a-4587-d58e-d43989b1bbc7"
      },
      "source": [
        "pltsdg.plot(X);"
      ],
      "execution_count": 11,
      "outputs": [
        {
          "output_type": "display_data",
          "data": {
            "image/png": "[encoded data removed]",
            "text/plain": [
              "<Figure size 432x288 with 1 Axes>"
            ]
          },
          "metadata": {
            "tags": [],
            "needs_background": "light"
          }
        }
      ]
    },
    {
      "cell_type": "markdown",
      "metadata": {
        "id": "5VVvNygamege"
      },
      "source": [
        "###Adding Axis Labels\n",
        "\n",
        "No self-respecting quant leaves a graph without labeled axes. Here are some commands to help with that."
      ]
    },
    {
      "cell_type": "code",
      "metadata": {
        "colab": {
          "base_uri": "https://localhost:8080/",
          "height": 282
        },
        "id": "ZnHlf2Rkmege",
        "outputId": "9cd58890-8979-4481-f5c9-b68a8577217f"
      },
      "source": [
        "X = npsdg.random.normal(0, 3, 110)\n",
        "X2 = npsdg.random.normal(0, 1, 110)\n",
        "\n",
        "pltsdg.plot(X);\n",
        "pltsdg.plot(X2);\n",
        "pltsdg.xlabel('Tiempo (s)') # The data we generated is unitless, but don't forget units in general.\n",
        "pltsdg.ylabel('Retorno')\n",
        "pltsdg.legend(['X', 'X2']);"
      ],
      "execution_count": 12,
      "outputs": [
        {
          "output_type": "display_data",
          "data": {
            "image/png": "[encoded data removed]",
            "text/plain": [
              "<Figure size 432x288 with 1 Axes>"
            ]
          },
          "metadata": {
            "tags": [],
            "needs_background": "light"
          }
        }
      ]
    },
    {
      "cell_type": "markdown",
      "metadata": {
        "id": "BKjZtxOYmege"
      },
      "source": [
        "##Generating Statistics\n",
        "\n",
        "Let's use `numpy` to take some simple statistics."
      ]
    },
    {
      "cell_type": "code",
      "metadata": {
        "colab": {
          "base_uri": "https://localhost:8080/"
        },
        "id": "DaDnF4k-megf",
        "outputId": "3a437585-d592-45aa-c55a-46d6c2b574e8"
      },
      "source": [
        "npsdg.mean(X)"
      ],
      "execution_count": 13,
      "outputs": [
        {
          "output_type": "execute_result",
          "data": {
            "text/plain": [
              "0.1597125777100475"
            ]
          },
          "metadata": {
            "tags": []
          },
          "execution_count": 13
        }
      ]
    },
    {
      "cell_type": "code",
      "metadata": {
        "colab": {
          "base_uri": "https://localhost:8080/"
        },
        "id": "ohuK38kXmegg",
        "outputId": "cb34ef14-d157-4370-c6ed-6e0ef27611d0"
      },
      "source": [
        "npsdg.std(X)"
      ],
      "execution_count": 14,
      "outputs": [
        {
          "output_type": "execute_result",
          "data": {
            "text/plain": [
              "3.449158306286295"
            ]
          },
          "metadata": {
            "tags": []
          },
          "execution_count": 14
        }
      ]
    },
    {
      "cell_type": "markdown",
      "metadata": {
        "id": "ZrujJyYymegg"
      },
      "source": [
        "##Getting Real Pricing Data\n",
        "\n",
        "Randomly sampled data can be great for testing ideas, but let's get some real data. We can use `get_pricing` to do that. You can use the `?` syntax as discussed above to get more information on `get_pricing`'s arguments."
      ]
    },
    {
      "cell_type": "code",
      "metadata": {
        "colab": {
          "base_uri": "https://localhost:8080/",
          "height": 455
        },
        "id": "20mdooZTmegg",
        "outputId": "39b3d68b-040d-486f-9d6d-b1510d4fdf8e"
      },
      "source": [
        "datos = pdrsdg.get_data_yahoo('MSFT', start= datetime.datetime(2018,1,1), end= datetime.datetime(2019,1,1))\r\n",
        "datos"
      ],
      "execution_count": 15,
      "outputs": [
        {
          "output_type": "execute_result",
          "data": {
            "text/html": [
              "<div>\n",
              "<style scoped>\n",
              "    .dataframe tbody tr th:only-of-type {\n",
              "        vertical-align: middle;\n",
              "    }\n",
              "\n",
              "    .dataframe tbody tr th {\n",
              "        vertical-align: top;\n",
              "    }\n",
              "\n",
              "    .dataframe thead th {\n",
              "        text-align: right;\n",
              "    }\n",
              "</style>\n",
              "<table border=\"1\" class=\"dataframe\">\n",
              "  <thead>\n",
              "    <tr style=\"text-align: right;\">\n",
              "      <th></th>\n",
              "      <th>High</th>\n",
              "      <th>Low</th>\n",
              "      <th>Open</th>\n",
              "      <th>Close</th>\n",
              "      <th>Volume</th>\n",
              "      <th>Adj Close</th>\n",
              "    </tr>\n",
              "    <tr>\n",
              "      <th>Date</th>\n",
              "      <th></th>\n",
              "      <th></th>\n",
              "      <th></th>\n",
              "      <th></th>\n",
              "      <th></th>\n",
              "      <th></th>\n",
              "    </tr>\n",
              "  </thead>\n",
              "  <tbody>\n",
              "    <tr>\n",
              "      <th>2018-01-02</th>\n",
              "      <td>86.309998</td>\n",
              "      <td>85.500000</td>\n",
              "      <td>86.129997</td>\n",
              "      <td>85.949997</td>\n",
              "      <td>22483800.0</td>\n",
              "      <td>82.194328</td>\n",
              "    </tr>\n",
              "    <tr>\n",
              "      <th>2018-01-03</th>\n",
              "      <td>86.510002</td>\n",
              "      <td>85.970001</td>\n",
              "      <td>86.059998</td>\n",
              "      <td>86.349998</td>\n",
              "      <td>26061400.0</td>\n",
              "      <td>82.576843</td>\n",
              "    </tr>\n",
              "    <tr>\n",
              "      <th>2018-01-04</th>\n",
              "      <td>87.660004</td>\n",
              "      <td>86.570000</td>\n",
              "      <td>86.589996</td>\n",
              "      <td>87.110001</td>\n",
              "      <td>21912000.0</td>\n",
              "      <td>83.303658</td>\n",
              "    </tr>\n",
              "    <tr>\n",
              "      <th>2018-01-05</th>\n",
              "      <td>88.410004</td>\n",
              "      <td>87.430000</td>\n",
              "      <td>87.660004</td>\n",
              "      <td>88.190002</td>\n",
              "      <td>23407100.0</td>\n",
              "      <td>84.336464</td>\n",
              "    </tr>\n",
              "    <tr>\n",
              "      <th>2018-01-08</th>\n",
              "      <td>88.580002</td>\n",
              "      <td>87.599998</td>\n",
              "      <td>88.199997</td>\n",
              "      <td>88.279999</td>\n",
              "      <td>22113000.0</td>\n",
              "      <td>84.422516</td>\n",
              "    </tr>\n",
              "    <tr>\n",
              "      <th>...</th>\n",
              "      <td>...</td>\n",
              "      <td>...</td>\n",
              "      <td>...</td>\n",
              "      <td>...</td>\n",
              "      <td>...</td>\n",
              "      <td>...</td>\n",
              "    </tr>\n",
              "    <tr>\n",
              "      <th>2018-12-24</th>\n",
              "      <td>97.970001</td>\n",
              "      <td>93.980003</td>\n",
              "      <td>97.680000</td>\n",
              "      <td>94.129997</td>\n",
              "      <td>43935200.0</td>\n",
              "      <td>91.575211</td>\n",
              "    </tr>\n",
              "    <tr>\n",
              "      <th>2018-12-26</th>\n",
              "      <td>100.690002</td>\n",
              "      <td>93.959999</td>\n",
              "      <td>95.139999</td>\n",
              "      <td>100.559998</td>\n",
              "      <td>51634800.0</td>\n",
              "      <td>97.830696</td>\n",
              "    </tr>\n",
              "    <tr>\n",
              "      <th>2018-12-27</th>\n",
              "      <td>101.190002</td>\n",
              "      <td>96.400002</td>\n",
              "      <td>99.300003</td>\n",
              "      <td>101.180000</td>\n",
              "      <td>49498500.0</td>\n",
              "      <td>98.433876</td>\n",
              "    </tr>\n",
              "    <tr>\n",
              "      <th>2018-12-28</th>\n",
              "      <td>102.410004</td>\n",
              "      <td>99.519997</td>\n",
              "      <td>102.089996</td>\n",
              "      <td>100.389999</td>\n",
              "      <td>38196300.0</td>\n",
              "      <td>97.665306</td>\n",
              "    </tr>\n",
              "    <tr>\n",
              "      <th>2018-12-31</th>\n",
              "      <td>102.400002</td>\n",
              "      <td>100.440002</td>\n",
              "      <td>101.290001</td>\n",
              "      <td>101.570000</td>\n",
              "      <td>33173800.0</td>\n",
              "      <td>98.813278</td>\n",
              "    </tr>\n",
              "  </tbody>\n",
              "</table>\n",
              "<p>251 rows × 6 columns</p>\n",
              "</div>"
            ],
            "text/plain": [
              "                  High         Low  ...      Volume  Adj Close\n",
              "Date                                ...                       \n",
              "2018-01-02   86.309998   85.500000  ...  22483800.0  82.194328\n",
              "2018-01-03   86.510002   85.970001  ...  26061400.0  82.576843\n",
              "2018-01-04   87.660004   86.570000  ...  21912000.0  83.303658\n",
              "2018-01-05   88.410004   87.430000  ...  23407100.0  84.336464\n",
              "2018-01-08   88.580002   87.599998  ...  22113000.0  84.422516\n",
              "...                ...         ...  ...         ...        ...\n",
              "2018-12-24   97.970001   93.980003  ...  43935200.0  91.575211\n",
              "2018-12-26  100.690002   93.959999  ...  51634800.0  97.830696\n",
              "2018-12-27  101.190002   96.400002  ...  49498500.0  98.433876\n",
              "2018-12-28  102.410004   99.519997  ...  38196300.0  97.665306\n",
              "2018-12-31  102.400002  100.440002  ...  33173800.0  98.813278\n",
              "\n",
              "[251 rows x 6 columns]"
            ]
          },
          "metadata": {
            "tags": []
          },
          "execution_count": 15
        }
      ]
    },
    {
      "cell_type": "markdown",
      "metadata": {
        "id": "SaJqlCS3megg"
      },
      "source": [
        "Our data is now a dataframe. You can see the datetime index and the colums with different pricing data."
      ]
    },
    {
      "cell_type": "code",
      "metadata": {
        "colab": {
          "base_uri": "https://localhost:8080/",
          "height": 455
        },
        "id": "w1h-ZQ_Dmegg",
        "outputId": "da5baa4d-4fb5-49f4-f1b2-1868f19092ab"
      },
      "source": [
        "datos"
      ],
      "execution_count": 16,
      "outputs": [
        {
          "output_type": "execute_result",
          "data": {
            "text/html": [
              "<div>\n",
              "<style scoped>\n",
              "    .dataframe tbody tr th:only-of-type {\n",
              "        vertical-align: middle;\n",
              "    }\n",
              "\n",
              "    .dataframe tbody tr th {\n",
              "        vertical-align: top;\n",
              "    }\n",
              "\n",
              "    .dataframe thead th {\n",
              "        text-align: right;\n",
              "    }\n",
              "</style>\n",
              "<table border=\"1\" class=\"dataframe\">\n",
              "  <thead>\n",
              "    <tr style=\"text-align: right;\">\n",
              "      <th></th>\n",
              "      <th>High</th>\n",
              "      <th>Low</th>\n",
              "      <th>Open</th>\n",
              "      <th>Close</th>\n",
              "      <th>Volume</th>\n",
              "      <th>Adj Close</th>\n",
              "    </tr>\n",
              "    <tr>\n",
              "      <th>Date</th>\n",
              "      <th></th>\n",
              "      <th></th>\n",
              "      <th></th>\n",
              "      <th></th>\n",
              "      <th></th>\n",
              "      <th></th>\n",
              "    </tr>\n",
              "  </thead>\n",
              "  <tbody>\n",
              "    <tr>\n",
              "      <th>2018-01-02</th>\n",
              "      <td>86.309998</td>\n",
              "      <td>85.500000</td>\n",
              "      <td>86.129997</td>\n",
              "      <td>85.949997</td>\n",
              "      <td>22483800.0</td>\n",
              "      <td>82.194328</td>\n",
              "    </tr>\n",
              "    <tr>\n",
              "      <th>2018-01-03</th>\n",
              "      <td>86.510002</td>\n",
              "      <td>85.970001</td>\n",
              "      <td>86.059998</td>\n",
              "      <td>86.349998</td>\n",
              "      <td>26061400.0</td>\n",
              "      <td>82.576843</td>\n",
              "    </tr>\n",
              "    <tr>\n",
              "      <th>2018-01-04</th>\n",
              "      <td>87.660004</td>\n",
              "      <td>86.570000</td>\n",
              "      <td>86.589996</td>\n",
              "      <td>87.110001</td>\n",
              "      <td>21912000.0</td>\n",
              "      <td>83.303658</td>\n",
              "    </tr>\n",
              "    <tr>\n",
              "      <th>2018-01-05</th>\n",
              "      <td>88.410004</td>\n",
              "      <td>87.430000</td>\n",
              "      <td>87.660004</td>\n",
              "      <td>88.190002</td>\n",
              "      <td>23407100.0</td>\n",
              "      <td>84.336464</td>\n",
              "    </tr>\n",
              "    <tr>\n",
              "      <th>2018-01-08</th>\n",
              "      <td>88.580002</td>\n",
              "      <td>87.599998</td>\n",
              "      <td>88.199997</td>\n",
              "      <td>88.279999</td>\n",
              "      <td>22113000.0</td>\n",
              "      <td>84.422516</td>\n",
              "    </tr>\n",
              "    <tr>\n",
              "      <th>...</th>\n",
              "      <td>...</td>\n",
              "      <td>...</td>\n",
              "      <td>...</td>\n",
              "      <td>...</td>\n",
              "      <td>...</td>\n",
              "      <td>...</td>\n",
              "    </tr>\n",
              "    <tr>\n",
              "      <th>2018-12-24</th>\n",
              "      <td>97.970001</td>\n",
              "      <td>93.980003</td>\n",
              "      <td>97.680000</td>\n",
              "      <td>94.129997</td>\n",
              "      <td>43935200.0</td>\n",
              "      <td>91.575211</td>\n",
              "    </tr>\n",
              "    <tr>\n",
              "      <th>2018-12-26</th>\n",
              "      <td>100.690002</td>\n",
              "      <td>93.959999</td>\n",
              "      <td>95.139999</td>\n",
              "      <td>100.559998</td>\n",
              "      <td>51634800.0</td>\n",
              "      <td>97.830696</td>\n",
              "    </tr>\n",
              "    <tr>\n",
              "      <th>2018-12-27</th>\n",
              "      <td>101.190002</td>\n",
              "      <td>96.400002</td>\n",
              "      <td>99.300003</td>\n",
              "      <td>101.180000</td>\n",
              "      <td>49498500.0</td>\n",
              "      <td>98.433876</td>\n",
              "    </tr>\n",
              "    <tr>\n",
              "      <th>2018-12-28</th>\n",
              "      <td>102.410004</td>\n",
              "      <td>99.519997</td>\n",
              "      <td>102.089996</td>\n",
              "      <td>100.389999</td>\n",
              "      <td>38196300.0</td>\n",
              "      <td>97.665306</td>\n",
              "    </tr>\n",
              "    <tr>\n",
              "      <th>2018-12-31</th>\n",
              "      <td>102.400002</td>\n",
              "      <td>100.440002</td>\n",
              "      <td>101.290001</td>\n",
              "      <td>101.570000</td>\n",
              "      <td>33173800.0</td>\n",
              "      <td>98.813278</td>\n",
              "    </tr>\n",
              "  </tbody>\n",
              "</table>\n",
              "<p>251 rows × 6 columns</p>\n",
              "</div>"
            ],
            "text/plain": [
              "                  High         Low  ...      Volume  Adj Close\n",
              "Date                                ...                       \n",
              "2018-01-02   86.309998   85.500000  ...  22483800.0  82.194328\n",
              "2018-01-03   86.510002   85.970001  ...  26061400.0  82.576843\n",
              "2018-01-04   87.660004   86.570000  ...  21912000.0  83.303658\n",
              "2018-01-05   88.410004   87.430000  ...  23407100.0  84.336464\n",
              "2018-01-08   88.580002   87.599998  ...  22113000.0  84.422516\n",
              "...                ...         ...  ...         ...        ...\n",
              "2018-12-24   97.970001   93.980003  ...  43935200.0  91.575211\n",
              "2018-12-26  100.690002   93.959999  ...  51634800.0  97.830696\n",
              "2018-12-27  101.190002   96.400002  ...  49498500.0  98.433876\n",
              "2018-12-28  102.410004   99.519997  ...  38196300.0  97.665306\n",
              "2018-12-31  102.400002  100.440002  ...  33173800.0  98.813278\n",
              "\n",
              "[251 rows x 6 columns]"
            ]
          },
          "metadata": {
            "tags": []
          },
          "execution_count": 16
        }
      ]
    },
    {
      "cell_type": "markdown",
      "metadata": {
        "id": "mqps4-P0megg"
      },
      "source": [
        "This is a pandas dataframe, so we can index in to just get price like this. For more info on pandas, please [click here](http://pandas.pydata.org/pandas-docs/stable/10min.html)."
      ]
    },
    {
      "cell_type": "code",
      "metadata": {
        "id": "BVjmqwEvmegg"
      },
      "source": [
        "X = datos['Volume']"
      ],
      "execution_count": 17,
      "outputs": []
    },
    {
      "cell_type": "markdown",
      "metadata": {
        "id": "6YPJ5Udrmegh"
      },
      "source": [
        "Because there is now also date information in our data, we provide two series to `.plot`. `X.index` gives us the datetime index, and `X.values` gives us the pricing values. These are used as the X and Y coordinates to make a graph."
      ]
    },
    {
      "cell_type": "code",
      "metadata": {
        "colab": {
          "base_uri": "https://localhost:8080/",
          "height": 276
        },
        "id": "TbpHQhDomegh",
        "outputId": "728dd9d8-4044-4264-f19c-e46bbd757101"
      },
      "source": [
        "pltsdg.plot(X.index, X.values)\n",
        "pltsdg.ylabel('Volumen')\n",
        "pltsdg.legend(['MSFT']);"
      ],
      "execution_count": 18,
      "outputs": [
        {
          "output_type": "display_data",
          "data": {
            "image/png": "[encoded data removed]",
            "text/plain": [
              "<Figure size 432x288 with 1 Axes>"
            ]
          },
          "metadata": {
            "tags": [],
            "needs_background": "light"
          }
        }
      ]
    },
    {
      "cell_type": "markdown",
      "metadata": {
        "id": "xSYmTN2Lmegh"
      },
      "source": [
        "We can get statistics again on real data."
      ]
    },
    {
      "cell_type": "code",
      "metadata": {
        "colab": {
          "base_uri": "https://localhost:8080/"
        },
        "id": "oAqBVOcXmegh",
        "outputId": "176deaaf-e119-435c-8891-e72b56a61f1b"
      },
      "source": [
        "npsdg.mean(X)"
      ],
      "execution_count": 19,
      "outputs": [
        {
          "output_type": "execute_result",
          "data": {
            "text/plain": [
              "31590188.844621513"
            ]
          },
          "metadata": {
            "tags": []
          },
          "execution_count": 19
        }
      ]
    },
    {
      "cell_type": "code",
      "metadata": {
        "colab": {
          "base_uri": "https://localhost:8080/"
        },
        "id": "39oaX-xhmegh",
        "outputId": "03d63057-79d6-4bf2-d35e-deb196c13ac6"
      },
      "source": [
        "npsdg.std(X)"
      ],
      "execution_count": 20,
      "outputs": [
        {
          "output_type": "execute_result",
          "data": {
            "text/plain": [
              "13377467.69098627"
            ]
          },
          "metadata": {
            "tags": []
          },
          "execution_count": 20
        }
      ]
    },
    {
      "cell_type": "markdown",
      "metadata": {
        "id": "RyeauzACmegh"
      },
      "source": [
        "##Getting Returns from Prices\n",
        "\n",
        "We can use the `pct_change` function to get returns. Notice how we drop the first element after doing this, as it will be `NaN` (nothing -> something results in a NaN percent change)."
      ]
    },
    {
      "cell_type": "code",
      "metadata": {
        "id": "X15_OZX7megh"
      },
      "source": [
        "R = X.pct_change()[1:]"
      ],
      "execution_count": 21,
      "outputs": []
    },
    {
      "cell_type": "markdown",
      "metadata": {
        "id": "9hSb4vsTmegh"
      },
      "source": [
        "We can plot the returns distribution as a histogram."
      ]
    },
    {
      "cell_type": "code",
      "metadata": {
        "colab": {
          "base_uri": "https://localhost:8080/",
          "height": 279
        },
        "id": "hGSa5RkQmegi",
        "outputId": "61cbb7e3-30d6-488d-b48f-02f31c330235"
      },
      "source": [
        "pltsdg.hist(R, bins=25)\n",
        "pltsdg.xlabel('Return')\n",
        "pltsdg.ylabel('Frequency')\n",
        "pltsdg.legend(['MSFT Returns']);"
      ],
      "execution_count": 22,
      "outputs": [
        {
          "output_type": "display_data",
          "data": {
            "image/png": "[encoded data removed]",
            "text/plain": [
              "<Figure size 432x288 with 1 Axes>"
            ]
          },
          "metadata": {
            "tags": [],
            "needs_background": "light"
          }
        }
      ]
    },
    {
      "cell_type": "markdown",
      "metadata": {
        "id": "RyIwxgDemegi"
      },
      "source": [
        "Get statistics again."
      ]
    },
    {
      "cell_type": "code",
      "metadata": {
        "colab": {
          "base_uri": "https://localhost:8080/"
        },
        "id": "KHDE_h5bmegi",
        "outputId": "9cff087e-15de-4326-d734-dcee0939e4a5"
      },
      "source": [
        "npsdg.mean(R)"
      ],
      "execution_count": 23,
      "outputs": [
        {
          "output_type": "execute_result",
          "data": {
            "text/plain": [
              "0.04560646891731092"
            ]
          },
          "metadata": {
            "tags": []
          },
          "execution_count": 23
        }
      ]
    },
    {
      "cell_type": "code",
      "metadata": {
        "colab": {
          "base_uri": "https://localhost:8080/"
        },
        "id": "aIWppWX6megj",
        "outputId": "7bd6bb86-5b76-4bae-9c8c-d3e6f3cd3e98"
      },
      "source": [
        "npsdg.std(R)"
      ],
      "execution_count": 24,
      "outputs": [
        {
          "output_type": "execute_result",
          "data": {
            "text/plain": [
              "0.32873497560257087"
            ]
          },
          "metadata": {
            "tags": []
          },
          "execution_count": 24
        }
      ]
    },
    {
      "cell_type": "markdown",
      "metadata": {
        "id": "tWcHrrp0megj"
      },
      "source": [
        "Now let's go backwards and generate data out of a normal distribution using the statistics we estimated from Microsoft's returns. We'll see that we have good reason to suspect Microsoft's returns may not be normal, as the resulting normal distribution looks far different."
      ]
    },
    {
      "cell_type": "code",
      "metadata": {
        "colab": {
          "base_uri": "https://localhost:8080/",
          "height": 279
        },
        "id": "-EQ3RfOVmegj",
        "outputId": "82906134-e850-4714-99a2-964fde8c85a1"
      },
      "source": [
        "pltsdg.hist(npsdg.random.normal(npsdg.mean(R), npsdg.std(R), 10000), bins=20)\n",
        "pltsdg.xlabel('Retornos')\n",
        "pltsdg.ylabel('Frecuencia')\n",
        "pltsdg.legend(['Normally Distributed Returns']);"
      ],
      "execution_count": 25,
      "outputs": [
        {
          "output_type": "display_data",
          "data": {
            "image/png": "[encoded data removed]",
            "text/plain": [
              "<Figure size 432x288 with 1 Axes>"
            ]
          },
          "metadata": {
            "tags": [],
            "needs_background": "light"
          }
        }
      ]
    },
    {
      "cell_type": "markdown",
      "metadata": {
        "id": "qWiqhCeUmegj"
      },
      "source": [
        "##Generating a Moving Average\n",
        "\n",
        "`pandas` has some nice tools to allow us to generate rolling statistics. Here's an example. Notice how there's no moving average for the first 60 days, as we don't have 60 days of data on which to generate the statistic."
      ]
    },
    {
      "cell_type": "code",
      "metadata": {
        "colab": {
          "base_uri": "https://localhost:8080/",
          "height": 276
        },
        "id": "2ybyYGkrmegk",
        "outputId": "fc3e7770-2c25-4dba-f59a-2c50de7003dd"
      },
      "source": [
        "# Take the average of the last 60 days at each timepoint.\n",
        "MAVG = X.rolling(window=60,center=False).mean()\n",
        "pltsdg.plot(X.index, X.values)\n",
        "pltsdg.plot(MAVG.index, MAVG.values)\n",
        "pltsdg.ylabel('Volumen')\n",
        "pltsdg.legend(['MSFT', '60-day MAVG']);"
      ],
      "execution_count": 26,
      "outputs": [
        {
          "output_type": "display_data",
          "data": {
            "image/png": "[encoded data removed]",
            "text/plain": [
              "<Figure size 432x288 with 1 Axes>"
            ]
          },
          "metadata": {
            "tags": [],
            "needs_background": "light"
          }
        }
      ]
    },
    {
      "cell_type": "markdown",
      "metadata": {
        "id": "kwsZNkzwmegl"
      },
      "source": [
        "This presentation is for informational purposes only and does not constitute an offer to sell, a solicitation to buy, or a recommendation for any security; nor does it constitute an offer to provide investment advisory or other services by Quantopian, Inc. (\"Quantopian\"). Nothing contained herein constitutes investment advice or offers any opinion with respect to the suitability of any security, and any views expressed herein should not be taken as advice to buy, sell, or hold any security or as an endorsement of any security or company. In preparing the information contained herein, Quantopian, Inc. has not taken into account the investment needs, objectives, and financial circumstances of any particular investor. Any views expressed and data illustrated herein were prepared based upon information, believed to be reliable, available to Quantopian, Inc. at the time of publication. Quantopian makes no guarantees as to their accuracy or completeness. All information is subject to change and may quickly become unreliable for various reasons, including changes in market conditions or economic circumstances."
      ]
    }
  ]
}