{
  "nbformat": 4,
  "nbformat_minor": 0,
  "metadata": {
    "colab": {
      "name": "sdiazgolecture2.ipynb",
      "provenance": []
    },
    "kernelspec": {
      "display_name": "Python 3",
      "name": "python3"
    }
  },
  "cells": [
    {
      "cell_type": "markdown",
      "metadata": {
        "id": "q4czX58OyK9h"
      },
      "source": [
        "# Introduction to Python\n",
        "by Maxwell Margenot\n",
        "\n",
        "Part of the Quantopian Lecture Series:\n",
        "\n",
        "* [www.quantopian.com/lectures](https://www.quantopian.com/lectures)\n",
        "* [github.com/quantopian/research_public](https://github.com/quantopian/research_public)\n",
        "\n",
        "\n",
        "---\n",
        "\n",
        "All of the coding that you will do on the Quantopian platform will be in Python. It is also just a good, jack-of-all-trades language to know! Here we will provide you with the basics so that you can feel confident going through our other lectures and understanding what is happening."
      ]
    },
    {
      "cell_type": "markdown",
      "metadata": {
        "id": "xcd_3hRPyK9n"
      },
      "source": [
        "## Code Comments\n",
        "\n",
        "A comment is a note made by a programmer in the source code of a program. Its purpose is to clarify the source code and make it easier for people to follow along with what is happening. Anything in a comment is generally ignored when the code is actually run, making comments useful for including explanations and reasoning as well as removing specific lines of code that you may be unsure about. Comments in Python are created by using the pound symbol (`# Insert Text Here`). Including a `#` in a line of code will comment out anything that follows it."
      ]
    },
    {
      "cell_type": "code",
      "metadata": {
        "id": "bT-xpL6XyK9n"
      },
      "source": [
        "# Este es un comentario\n",
        "# Estas líneas de código no cambiarán ningún valor\n",
        "# Todo lo que le siga al primer # no será ejecutado como código"
      ],
      "execution_count": 1,
      "outputs": []
    },
    {
      "cell_type": "markdown",
      "metadata": {
        "id": "oAcN8SIGyK9p"
      },
      "source": [
        "You may hear text enclosed in triple quotes (`\"\"\" Insert Text Here \"\"\"`) referred to as multi-line comments, but this is not entirely accurate. This is a special type of `string` (a data type we will cover), called a `docstring`, used to explain the purpose of a function."
      ]
    },
    {
      "cell_type": "code",
      "metadata": {
        "id": "tk56d0ZVyK9p",
        "colab": {
          "base_uri": "https://localhost:8080/",
          "height": 36
        },
        "outputId": "f4c27a67-0ea5-4df9-fce5-0f2ae5748849"
      },
      "source": [
        "\"\"\" Este es un string especial \"\"\""
      ],
      "execution_count": 2,
      "outputs": [
        {
          "output_type": "execute_result",
          "data": {
            "application/vnd.google.colaboratory.intrinsic+json": {
              "type": "string"
            },
            "text/plain": [
              "' Este es un string especial '"
            ]
          },
          "metadata": {
            "tags": []
          },
          "execution_count": 2
        }
      ]
    },
    {
      "cell_type": "markdown",
      "metadata": {
        "id": "rKTxi1eXyK9p"
      },
      "source": [
        "Make sure you read the comments within each code cell (if they are there). They will provide more real-time explanations of what is going on as you look at each line of code."
      ]
    },
    {
      "cell_type": "markdown",
      "metadata": {
        "id": "w9sq3QmgyK9q"
      },
      "source": [
        "## Variables\n",
        "\n",
        "Variables provide names for values in programming. If you want to save a value for later or repeated use, you give the value a name, storing the contents in a variable. Variables in programming work in a fundamentally similar way to variables in algebra, but in Python they can take on various different data types.\n",
        "\n",
        "The basic variable types that we will cover in this section are `integers`, `floating point numbers`, `booleans`, and `strings`. \n",
        "\n",
        "An `integer` in programming is the same as in mathematics, a round number with no values after the decimal point. We use the built-in `print` function here to display the values of our variables as well as their types!"
      ]
    },
    {
      "cell_type": "code",
      "metadata": {
        "colab": {
          "base_uri": "https://localhost:8080/"
        },
        "id": "p53pqrhIyK9r",
        "outputId": "e02bd45c-5cb3-4f87-fd08-a15acb606c51"
      },
      "source": [
        "mi_entero = 230\n",
        "print(mi_entero, type(mi_entero))"
      ],
      "execution_count": 3,
      "outputs": [
        {
          "output_type": "stream",
          "text": [
            "230 <class 'int'>\n"
          ],
          "name": "stdout"
        }
      ]
    },
    {
      "cell_type": "markdown",
      "metadata": {
        "id": "KVqvQvkoyK9r"
      },
      "source": [
        "Variables, regardless of type, are assigned by using a single equals sign (`=`). Variables are case-sensitive so any changes in variation in the capitals of a variable name will reference a different variable entirely."
      ]
    },
    {
      "cell_type": "code",
      "metadata": {
        "colab": {
          "base_uri": "https://localhost:8080/"
        },
        "id": "SG5C-O4myK9r",
        "outputId": "8da15f58-3e7d-4a0c-cdbd-fcf770a7eea5"
      },
      "source": [
        "uno = 1\n",
        "print(uno)"
      ],
      "execution_count": 4,
      "outputs": [
        {
          "output_type": "stream",
          "text": [
            "1\n"
          ],
          "name": "stdout"
        }
      ]
    },
    {
      "cell_type": "markdown",
      "metadata": {
        "id": "WjrKbbCuyK9r"
      },
      "source": [
        "A `floating point` number, or a `float` is a fancy name for a real number (again as in mathematics). To define a `float`, we need to either include a decimal point or specify that the value is a float."
      ]
    },
    {
      "cell_type": "code",
      "metadata": {
        "colab": {
          "base_uri": "https://localhost:8080/"
        },
        "id": "woYG9yC1yK9s",
        "scrolled": true,
        "outputId": "1c53263d-3d7c-43e4-c80c-af0fea08f4bb"
      },
      "source": [
        "mi_float = 17.86\n",
        "print(mi_float, type(mi_float))\n",
        "mi_float = float(17)\n",
        "print(mi_float, type(mi_float))"
      ],
      "execution_count": 5,
      "outputs": [
        {
          "output_type": "stream",
          "text": [
            "17.86 <class 'float'>\n",
            "17.0 <class 'float'>\n"
          ],
          "name": "stdout"
        }
      ]
    },
    {
      "cell_type": "markdown",
      "metadata": {
        "id": "rLXlvInWyK9s"
      },
      "source": [
        "A variable of type `float` will not round the number that you store in it, while a variable of type `integer` will. This makes `floats` more suitable for mathematical calculations where you want more than just integers.\n",
        "\n",
        "Note that as we used the `float()` function to force an number to be considered a `float`, we can use the `int()` function to force a number to be considered an `int`."
      ]
    },
    {
      "cell_type": "code",
      "metadata": {
        "colab": {
          "base_uri": "https://localhost:8080/"
        },
        "id": "K4wmhlUvyK9s",
        "outputId": "8b27f9ca-8924-4820-bba6-b06912042af5"
      },
      "source": [
        "mi_int = int(1.618033)\n",
        "print(mi_int, type(mi_int))"
      ],
      "execution_count": 6,
      "outputs": [
        {
          "output_type": "stream",
          "text": [
            "1 <class 'int'>\n"
          ],
          "name": "stdout"
        }
      ]
    },
    {
      "cell_type": "markdown",
      "metadata": {
        "id": "30GtTcwUyK9t"
      },
      "source": [
        "The `int()` function will also truncate any digits that a number may have after the decimal point!\n",
        "\n",
        "Strings allow you to include text as a variable to operate on. They are defined using either single quotes ('') or double quotes (\"\")."
      ]
    },
    {
      "cell_type": "code",
      "metadata": {
        "colab": {
          "base_uri": "https://localhost:8080/"
        },
        "id": "FSD_KyLiyK9t",
        "outputId": "6e3958d3-a6e5-4498-a40d-e426d609a136"
      },
      "source": [
        "mi_string = 'Este es un string con comillas sencillas'\n",
        "print(mi_string)\n",
        "mi_string = \"Este es un string con comillas dobles\"\n",
        "print(mi_string)"
      ],
      "execution_count": 7,
      "outputs": [
        {
          "output_type": "stream",
          "text": [
            "Este es un string con comillas sencillas\n",
            "Este es un string con comillas dobles\n"
          ],
          "name": "stdout"
        }
      ]
    },
    {
      "cell_type": "markdown",
      "metadata": {
        "id": "ydKmjNPQyK9t"
      },
      "source": [
        "Both are allowed so that we can include apostrophes or quotation marks in a string if we so choose."
      ]
    },
    {
      "cell_type": "code",
      "metadata": {
        "colab": {
          "base_uri": "https://localhost:8080/"
        },
        "id": "-DiCJqUhyK9u",
        "outputId": "54c0e162-28c6-4dca-95cb-75f2a99b2724"
      },
      "source": [
        "mi_string = '\"Jabberwocky\", by Lewis Carroll'\n",
        "print(mi_string)\n",
        "mi_string = \"'Twas brillig, and the slithy toves / Did gyre and gimble in the wabe;\"\n",
        "print(mi_string)"
      ],
      "execution_count": 8,
      "outputs": [
        {
          "output_type": "stream",
          "text": [
            "\"Jabberwocky\", by Lewis Carroll\n",
            "'Twas brillig, and the slithy toves / Did gyre and gimble in the wabe;\n"
          ],
          "name": "stdout"
        }
      ]
    },
    {
      "cell_type": "markdown",
      "metadata": {
        "id": "iRideIAByK9u"
      },
      "source": [
        "Booleans, or `bools` are binary variable types. A `bool` can only take on one of two values, these being `True` or `False`. There is much more to this idea of truth values when it comes to programming, which we cover later in the [Logical Operators](#id-section5) of this notebook."
      ]
    },
    {
      "cell_type": "code",
      "metadata": {
        "colab": {
          "base_uri": "https://localhost:8080/"
        },
        "id": "oVYlQVMNyK9u",
        "outputId": "985ffcd3-87dd-4c8a-9d86-d8ce56800c36"
      },
      "source": [
        "mi_bool = False\n",
        "print(mi_bool, type(mi_bool))"
      ],
      "execution_count": 9,
      "outputs": [
        {
          "output_type": "stream",
          "text": [
            "False <class 'bool'>\n"
          ],
          "name": "stdout"
        }
      ]
    },
    {
      "cell_type": "markdown",
      "metadata": {
        "id": "jKxzh8Z6yK9v"
      },
      "source": [
        "There are many more data types that you can assign as variables in Python, but these are the basic ones! We will cover a few more later as we move through this tutorial."
      ]
    },
    {
      "cell_type": "markdown",
      "metadata": {
        "id": "xRYnKU_3yK9v"
      },
      "source": [
        "## Basic Math\n",
        "\n",
        "Python has a number of built-in math functions. These can be extended even further by importing the **math** package or by including any number of other calculation-based packages.\n",
        "\n",
        "All of the basic arithmetic operations are supported: `+`, `-`, `/`, and `*`. You can create exponents by using `**` and modular arithmetic is introduced with the mod operator, `%`."
      ]
    },
    {
      "cell_type": "code",
      "metadata": {
        "colab": {
          "base_uri": "https://localhost:8080/"
        },
        "id": "FHMxNuM4yK9v",
        "outputId": "5d834557-6789-4ad8-bb6f-791908a5ecae"
      },
      "source": [
        "print('Suma: ', 4 + 7)\n",
        "print('Resta: ', 98 - 42)\n",
        "print('Multiplicación: ', 12 * 3)\n",
        "print('División: ', 31 / 2)\n",
        "print('Exponenciación: ', 3**2)"
      ],
      "execution_count": 10,
      "outputs": [
        {
          "output_type": "stream",
          "text": [
            "Suma:  11\n",
            "Resta:  56\n",
            "Multiplicación:  36\n",
            "División:  15.5\n",
            "Exponenciación:  9\n"
          ],
          "name": "stdout"
        }
      ]
    },
    {
      "cell_type": "markdown",
      "metadata": {
        "id": "SxV5KKTOyK9v"
      },
      "source": [
        "If you are not familiar with the the mod operator, it operates like a remainder function. If we type $15 \\ \\% \\ 4$, it will return the remainder after dividing $15$ by $4$."
      ]
    },
    {
      "cell_type": "code",
      "metadata": {
        "colab": {
          "base_uri": "https://localhost:8080/"
        },
        "id": "cOJHPHUEyK9v",
        "outputId": "040bbf2f-3749-4c1b-c950-21846ef49152"
      },
      "source": [
        "print('Modulo: ', 15 % 4)"
      ],
      "execution_count": 11,
      "outputs": [
        {
          "output_type": "stream",
          "text": [
            "Modulo:  3\n"
          ],
          "name": "stdout"
        }
      ]
    },
    {
      "cell_type": "markdown",
      "metadata": {
        "id": "ulpCBxJOyK9w"
      },
      "source": [
        "Mathematical functions also work on variables!"
      ]
    },
    {
      "cell_type": "code",
      "metadata": {
        "colab": {
          "base_uri": "https://localhost:8080/"
        },
        "id": "DHuTNfjwyK9x",
        "scrolled": true,
        "outputId": "3b448c57-59e9-4ad0-9617-f6b34d532cad"
      },
      "source": [
        "primer_entero = 7\n",
        "segundo_entero = 21\n",
        "print(primer_entero * segundo_entero)"
      ],
      "execution_count": 12,
      "outputs": [
        {
          "output_type": "stream",
          "text": [
            "147\n"
          ],
          "name": "stdout"
        }
      ]
    },
    {
      "cell_type": "markdown",
      "metadata": {
        "id": "9S5bGLa-yK9x"
      },
      "source": [
        "Make sure that your variables are floats if you want to have decimal points in your answer. If you perform math exclusively with integers, you get an integer. Including any float in the calculation will make the result a float."
      ]
    },
    {
      "cell_type": "code",
      "metadata": {
        "colab": {
          "base_uri": "https://localhost:8080/"
        },
        "id": "zpkd3wy5yK9x",
        "outputId": "abee04df-1437-4117-e5eb-fa45c85e7e21"
      },
      "source": [
        "#Ya no surge el problema con dos int\n",
        "primer_entero = int(17)\n",
        "segundo_entero = int(3)\n",
        "print(primer_entero / segundo_entero)"
      ],
      "execution_count": 13,
      "outputs": [
        {
          "output_type": "stream",
          "text": [
            "5.666666666666667\n"
          ],
          "name": "stdout"
        }
      ]
    },
    {
      "cell_type": "code",
      "metadata": {
        "colab": {
          "base_uri": "https://localhost:8080/"
        },
        "id": "EdYH2dlwyK9y",
        "outputId": "d3e7efad-53da-4772-e5b0-e378e6b36239"
      },
      "source": [
        "primer_entero = 17.0\n",
        "segundo_entero = 3.0\n",
        "print(primer_entero / segundo_entero)"
      ],
      "execution_count": 14,
      "outputs": [
        {
          "output_type": "stream",
          "text": [
            "5.666666666666667\n"
          ],
          "name": "stdout"
        }
      ]
    },
    {
      "cell_type": "markdown",
      "metadata": {
        "id": "RvMPtDuwyK9y"
      },
      "source": [
        "Python has a few built-in math functions. The most notable of these are:\n",
        "\n",
        "* `abs()`\n",
        "* `round()`\n",
        "* `max()`\n",
        "* `min()`\n",
        "* `sum()`\n",
        "\n",
        "These functions all act as you would expect, given their names. Calling `abs()` on a number will return its absolute value. The `round()` function will round a number to a specified number of the decimal points (the default is $0$). Calling `max()` or `min()` on a collection of numbers will return, respectively, the maximum or minimum value in the collection. Calling `sum()` on a collection of numbers will add them all up. If you're not familiar with how collections of values in Python work, don't worry! We will cover collections in-depth in the next section. \n",
        "\n",
        "Additional math functionality can be added in with the `math` package."
      ]
    },
    {
      "cell_type": "code",
      "metadata": {
        "id": "qfU1rp9vyK9y"
      },
      "source": [
        "import math"
      ],
      "execution_count": 15,
      "outputs": []
    },
    {
      "cell_type": "markdown",
      "metadata": {
        "id": "TFP96x60yK9y"
      },
      "source": [
        "The math library adds a long list of new mathematical functions to Python. Feel free to check out the [documentation](https://docs.python.org/2/library/math.html) for the full list and details. It concludes some mathematical constants"
      ]
    },
    {
      "cell_type": "code",
      "metadata": {
        "id": "u88rFN9HyK9y",
        "colab": {
          "base_uri": "https://localhost:8080/"
        },
        "outputId": "f0a588f7-ed9a-46a0-dab5-f82ed719a03b"
      },
      "source": [
        "print('Pi: ', math.pi)\n",
        "print(\"Constante de Euler: \", math.e)"
      ],
      "execution_count": 16,
      "outputs": [
        {
          "output_type": "stream",
          "text": [
            "Pi:  3.141592653589793\n",
            "Constante de Euler:  2.718281828459045\n"
          ],
          "name": "stdout"
        }
      ]
    },
    {
      "cell_type": "markdown",
      "metadata": {
        "id": "FFObmRvPyK9y"
      },
      "source": [
        "As well as some commonly used math functions"
      ]
    },
    {
      "cell_type": "code",
      "metadata": {
        "id": "_eafDVHTyK9y",
        "colab": {
          "base_uri": "https://localhost:8080/"
        },
        "outputId": "b9ad8ba0-d017-4867-d9bd-934e3b5190be"
      },
      "source": [
        "print('Coseno de pi: ', math.cos(math.pi))\r\n",
        "print('V. absoluto: ', abs(math.cos(math.pi)))"
      ],
      "execution_count": 17,
      "outputs": [
        {
          "output_type": "stream",
          "text": [
            "Coseno de pi:  -1.0\n",
            "V. absoluto:  1.0\n"
          ],
          "name": "stdout"
        }
      ]
    },
    {
      "cell_type": "markdown",
      "metadata": {
        "id": "FKULIAF5yK9y"
      },
      "source": [
        "## Collections\n",
        "### Lists\n",
        "\n",
        "A `list` in Python is an ordered collection of objects that can contain any data type. We define a `list` using brackets (`[]`)."
      ]
    },
    {
      "cell_type": "code",
      "metadata": {
        "id": "7Hk-QKIByK9y",
        "colab": {
          "base_uri": "https://localhost:8080/"
        },
        "outputId": "6253eb9a-9585-488c-93b1-5530b3111ffe"
      },
      "source": [
        "mi_lista = [34, 52, 23]\n",
        "print(mi_lista)"
      ],
      "execution_count": 18,
      "outputs": [
        {
          "output_type": "stream",
          "text": [
            "[34, 52, 23]\n"
          ],
          "name": "stdout"
        }
      ]
    },
    {
      "cell_type": "markdown",
      "metadata": {
        "id": "eA5YGN3WyK9z"
      },
      "source": [
        "We can access and index the list by using brackets as well. In order to select an individual element, simply type the list name followed by the index of the item you are looking for in braces."
      ]
    },
    {
      "cell_type": "code",
      "metadata": {
        "id": "auyM6d6LyK9z",
        "colab": {
          "base_uri": "https://localhost:8080/"
        },
        "outputId": "c6a14ca8-a12a-4e1f-c0b0-f2c0f8ffe9d5"
      },
      "source": [
        "print(mi_lista[0])\n",
        "print(mi_lista[2])"
      ],
      "execution_count": 19,
      "outputs": [
        {
          "output_type": "stream",
          "text": [
            "34\n",
            "23\n"
          ],
          "name": "stdout"
        }
      ]
    },
    {
      "cell_type": "markdown",
      "metadata": {
        "id": "MiSV02rFyK9z"
      },
      "source": [
        "Indexing in Python starts from $0$. If you have a list of length $n$, the first element of the list is at index $0$, the second element is at index $1$, and so on and so forth. The final element of the list will be at index $n-1$. Be careful! Trying to access a non-existent index will cause an error."
      ]
    },
    {
      "cell_type": "code",
      "metadata": {
        "id": "HP5NZqfJyK9z",
        "colab": {
          "base_uri": "https://localhost:8080/",
          "height": 209
        },
        "outputId": "87fd7d57-ea35-40d6-d6dc-06c22f17f4b9"
      },
      "source": [
        "print('El primer, segundo y tercer elemento de la lista: ', mi_lista[0], mi_lista[1], mi_lista[2])\n",
        "print('Acceder fuera de los límites de la lista causa un error: ', mi_lista[4])"
      ],
      "execution_count": 20,
      "outputs": [
        {
          "output_type": "stream",
          "text": [
            "El primer, segundo y tercer elemento de la lista:  34 52 23\n"
          ],
          "name": "stdout"
        },
        {
          "output_type": "error",
          "ename": "IndexError",
          "evalue": "ignored",
          "traceback": [
            "\u001b[0;31m---------------------------------------------------------------------------\u001b[0m",
            "\u001b[0;31mIndexError\u001b[0m                                Traceback (most recent call last)",
            "\u001b[0;32m<ipython-input-20-192f2d5616ea>\u001b[0m in \u001b[0;36m<module>\u001b[0;34m()\u001b[0m\n\u001b[1;32m      1\u001b[0m \u001b[0mprint\u001b[0m\u001b[0;34m(\u001b[0m\u001b[0;34m'El primer, segundo y tercer elemento de la lista: '\u001b[0m\u001b[0;34m,\u001b[0m \u001b[0mmi_lista\u001b[0m\u001b[0;34m[\u001b[0m\u001b[0;36m0\u001b[0m\u001b[0;34m]\u001b[0m\u001b[0;34m,\u001b[0m \u001b[0mmi_lista\u001b[0m\u001b[0;34m[\u001b[0m\u001b[0;36m1\u001b[0m\u001b[0;34m]\u001b[0m\u001b[0;34m,\u001b[0m \u001b[0mmi_lista\u001b[0m\u001b[0;34m[\u001b[0m\u001b[0;36m2\u001b[0m\u001b[0;34m]\u001b[0m\u001b[0;34m)\u001b[0m\u001b[0;34m\u001b[0m\u001b[0;34m\u001b[0m\u001b[0m\n\u001b[0;32m----> 2\u001b[0;31m \u001b[0mprint\u001b[0m\u001b[0;34m(\u001b[0m\u001b[0;34m'Acceder fuera de los límites de la lista causa un error: '\u001b[0m\u001b[0;34m,\u001b[0m \u001b[0mmi_lista\u001b[0m\u001b[0;34m[\u001b[0m\u001b[0;36m4\u001b[0m\u001b[0;34m]\u001b[0m\u001b[0;34m)\u001b[0m\u001b[0;34m\u001b[0m\u001b[0;34m\u001b[0m\u001b[0m\n\u001b[0m",
            "\u001b[0;31mIndexError\u001b[0m: list index out of range"
          ]
        }
      ]
    },
    {
      "cell_type": "markdown",
      "metadata": {
        "id": "rCgrXHD6yK90"
      },
      "source": [
        "We can see the number of elements in a list by calling the `len()` function."
      ]
    },
    {
      "cell_type": "code",
      "metadata": {
        "id": "DManelS6yK90",
        "colab": {
          "base_uri": "https://localhost:8080/"
        },
        "outputId": "2278be7c-3d8f-4641-c71d-ae377f3ec584"
      },
      "source": [
        "print(len(mi_lista))"
      ],
      "execution_count": 21,
      "outputs": [
        {
          "output_type": "stream",
          "text": [
            "3\n"
          ],
          "name": "stdout"
        }
      ]
    },
    {
      "cell_type": "markdown",
      "metadata": {
        "id": "G0BBSNqnyK90"
      },
      "source": [
        "We can update and change a list by accessing an index and assigning new value."
      ]
    },
    {
      "cell_type": "code",
      "metadata": {
        "id": "x-NdL5XjyK90",
        "colab": {
          "base_uri": "https://localhost:8080/"
        },
        "outputId": "c9705812-fc5c-4845-b788-0f4144e9a743"
      },
      "source": [
        "print(mi_lista)\n",
        "mi_lista[0] = 115\n",
        "print(mi_lista)"
      ],
      "execution_count": 22,
      "outputs": [
        {
          "output_type": "stream",
          "text": [
            "[34, 52, 23]\n",
            "[115, 52, 23]\n"
          ],
          "name": "stdout"
        }
      ]
    },
    {
      "cell_type": "markdown",
      "metadata": {
        "id": "OZVKV6ivyK91"
      },
      "source": [
        "This is fundamentally different from how strings are handled. A `list` is mutable, meaning that you can change a `list`'s elements without changing the list itself. Some data types, like `strings`, are immutable, meaning you cannot change them at all. Once a `string` or other immutable data type has been created, it cannot be directly modified without creating an entirely new object."
      ]
    },
    {
      "cell_type": "code",
      "metadata": {
        "id": "BVteMPgdyK91",
        "colab": {
          "base_uri": "https://localhost:8080/",
          "height": 227
        },
        "outputId": "3ff0ab1f-1725-4c3d-ed9b-d4a09a20ffb4"
      },
      "source": [
        "mi_string = \"Los strings nunca cambian\"\n",
        "print(mi_string[0])\n",
        "mi_string[0] = 'Z'"
      ],
      "execution_count": 23,
      "outputs": [
        {
          "output_type": "stream",
          "text": [
            "L\n"
          ],
          "name": "stdout"
        },
        {
          "output_type": "error",
          "ename": "TypeError",
          "evalue": "ignored",
          "traceback": [
            "\u001b[0;31m---------------------------------------------------------------------------\u001b[0m",
            "\u001b[0;31mTypeError\u001b[0m                                 Traceback (most recent call last)",
            "\u001b[0;32m<ipython-input-23-99913efe135a>\u001b[0m in \u001b[0;36m<module>\u001b[0;34m()\u001b[0m\n\u001b[1;32m      1\u001b[0m \u001b[0mmi_string\u001b[0m \u001b[0;34m=\u001b[0m \u001b[0;34m\"Los strings nunca cambian\"\u001b[0m\u001b[0;34m\u001b[0m\u001b[0;34m\u001b[0m\u001b[0m\n\u001b[1;32m      2\u001b[0m \u001b[0mprint\u001b[0m\u001b[0;34m(\u001b[0m\u001b[0mmi_string\u001b[0m\u001b[0;34m[\u001b[0m\u001b[0;36m0\u001b[0m\u001b[0;34m]\u001b[0m\u001b[0;34m)\u001b[0m\u001b[0;34m\u001b[0m\u001b[0;34m\u001b[0m\u001b[0m\n\u001b[0;32m----> 3\u001b[0;31m \u001b[0mmi_string\u001b[0m\u001b[0;34m[\u001b[0m\u001b[0;36m0\u001b[0m\u001b[0;34m]\u001b[0m \u001b[0;34m=\u001b[0m \u001b[0;34m'Z'\u001b[0m\u001b[0;34m\u001b[0m\u001b[0;34m\u001b[0m\u001b[0m\n\u001b[0m",
            "\u001b[0;31mTypeError\u001b[0m: 'str' object does not support item assignment"
          ]
        }
      ]
    },
    {
      "cell_type": "markdown",
      "metadata": {
        "id": "SCosofUbyK91"
      },
      "source": [
        "As we stated before, a list can contain any data type. Thus, lists can also contain strings."
      ]
    },
    {
      "cell_type": "code",
      "metadata": {
        "id": "AnkInuDeyK91",
        "colab": {
          "base_uri": "https://localhost:8080/"
        },
        "outputId": "c277dac8-7119-4118-d57f-dc5786c584b8"
      },
      "source": [
        "mi_lista_2 = ['uno', 'dos', 'tres']\n",
        "print(mi_lista_2)"
      ],
      "execution_count": 24,
      "outputs": [
        {
          "output_type": "stream",
          "text": [
            "['uno', 'dos', 'tres']\n"
          ],
          "name": "stdout"
        }
      ]
    },
    {
      "cell_type": "markdown",
      "metadata": {
        "id": "I9dlf615yK93"
      },
      "source": [
        "Lists can also contain multiple different data types at once!"
      ]
    },
    {
      "cell_type": "code",
      "metadata": {
        "id": "1R1LJofJyK93"
      },
      "source": [
        "mi_lista_3 = [False, 'True', 667, 2.0, \":D\"]"
      ],
      "execution_count": 25,
      "outputs": []
    },
    {
      "cell_type": "markdown",
      "metadata": {
        "id": "Zel_0p_tyK93"
      },
      "source": [
        "If you want to put two lists together, they can be combined with a `+` symbol."
      ]
    },
    {
      "cell_type": "code",
      "metadata": {
        "id": "dzjIQEIOyK93",
        "colab": {
          "base_uri": "https://localhost:8080/"
        },
        "outputId": "b49da6ce-c287-450b-a09c-8f1bbf06042b"
      },
      "source": [
        "mi_lista_4 = mi_lista + mi_lista_2 + mi_lista_3\n",
        "print(mi_lista_4)"
      ],
      "execution_count": 26,
      "outputs": [
        {
          "output_type": "stream",
          "text": [
            "[115, 52, 23, 'uno', 'dos', 'tres', False, 'True', 667, 2.0, ':D']\n"
          ],
          "name": "stdout"
        }
      ]
    },
    {
      "cell_type": "markdown",
      "metadata": {
        "id": "C4y9EkddyK93"
      },
      "source": [
        "In addition to accessing individual elements of a list, we can access groups of elements through slicing."
      ]
    },
    {
      "cell_type": "code",
      "metadata": {
        "id": "Z9rkVmG7yK93"
      },
      "source": [
        "mi_lista = ['amigos', 'romanos', 'campesinos', 'permítanme', 'toda', 'su', 'atención']"
      ],
      "execution_count": 27,
      "outputs": []
    },
    {
      "cell_type": "markdown",
      "metadata": {
        "id": "neebGm5ayK93"
      },
      "source": [
        "#### Slicing\n",
        "\n",
        "We use the colon (`:`) to slice lists. "
      ]
    },
    {
      "cell_type": "code",
      "metadata": {
        "id": "zR14B84tyK93",
        "scrolled": true,
        "colab": {
          "base_uri": "https://localhost:8080/"
        },
        "outputId": "c4634ec0-005e-4dce-b5a4-8b8cc2641dc9"
      },
      "source": [
        "print(mi_lista[2:4])"
      ],
      "execution_count": 28,
      "outputs": [
        {
          "output_type": "stream",
          "text": [
            "['campesinos', 'permítanme']\n"
          ],
          "name": "stdout"
        }
      ]
    },
    {
      "cell_type": "markdown",
      "metadata": {
        "id": "2w4quSAEyK93"
      },
      "source": [
        "Using `:` we can select a group of elements in the list starting from the first element indicated and going up to  (but not including) the last element indicated.\n",
        "\n",
        "We can also select everything after a certain point"
      ]
    },
    {
      "cell_type": "code",
      "metadata": {
        "id": "3nBKhjy4yK93",
        "scrolled": true,
        "colab": {
          "base_uri": "https://localhost:8080/"
        },
        "outputId": "0994cbcc-0d38-4ec3-a504-b6f208606444"
      },
      "source": [
        "print(mi_lista[2:])"
      ],
      "execution_count": 29,
      "outputs": [
        {
          "output_type": "stream",
          "text": [
            "['campesinos', 'permítanme', 'toda', 'su', 'atención']\n"
          ],
          "name": "stdout"
        }
      ]
    },
    {
      "cell_type": "markdown",
      "metadata": {
        "id": "pMFFThkYyK93"
      },
      "source": [
        "And everything before a certain point"
      ]
    },
    {
      "cell_type": "code",
      "metadata": {
        "id": "RlXXj__nyK94",
        "scrolled": true,
        "colab": {
          "base_uri": "https://localhost:8080/"
        },
        "outputId": "8c08b108-e856-440f-a298-d0ddaa0a355b"
      },
      "source": [
        "print(mi_lista[:3])"
      ],
      "execution_count": 30,
      "outputs": [
        {
          "output_type": "stream",
          "text": [
            "['amigos', 'romanos', 'campesinos']\n"
          ],
          "name": "stdout"
        }
      ]
    },
    {
      "cell_type": "markdown",
      "metadata": {
        "id": "cIUfk9T_yK94"
      },
      "source": [
        "Using negative numbers will count from the end of the indices instead of from the beginning. For example, an index of `-1` indicates the last element of the list."
      ]
    },
    {
      "cell_type": "code",
      "metadata": {
        "id": "_EXVkQsayK94",
        "colab": {
          "base_uri": "https://localhost:8080/"
        },
        "outputId": "6d61eac6-e009-43da-c716-a0b089d59207"
      },
      "source": [
        "print(mi_lista[-1])"
      ],
      "execution_count": 31,
      "outputs": [
        {
          "output_type": "stream",
          "text": [
            "atención\n"
          ],
          "name": "stdout"
        }
      ]
    },
    {
      "cell_type": "markdown",
      "metadata": {
        "id": "cTN_pEpVyK94"
      },
      "source": [
        "You can also add a third component to slicing. Instead of simply indicating the first and final parts of your slice, you can specify the step size that you want to take. So instead of taking every single element, you can take every other element."
      ]
    },
    {
      "cell_type": "code",
      "metadata": {
        "id": "qG43FVRUyK95",
        "colab": {
          "base_uri": "https://localhost:8080/"
        },
        "outputId": "98995524-1d5a-4c9d-feff-f05739af4ec4"
      },
      "source": [
        "print(mi_lista[0:7:2])"
      ],
      "execution_count": 32,
      "outputs": [
        {
          "output_type": "stream",
          "text": [
            "['amigos', 'campesinos', 'toda', 'atención']\n"
          ],
          "name": "stdout"
        }
      ]
    },
    {
      "cell_type": "markdown",
      "metadata": {
        "id": "ySMOfwx9yK95"
      },
      "source": [
        "Here we have selected the entire list (because `0:7` will yield elements `0` through `6`) and we have selected a step size of `2`. So this will spit out element `0` , element `2`, element `4`, and so on through the list element selected. We can skip indicated the beginning and end of our slice, only indicating the step, if we like."
      ]
    },
    {
      "cell_type": "code",
      "metadata": {
        "id": "4EGBn8B6yK95",
        "colab": {
          "base_uri": "https://localhost:8080/"
        },
        "outputId": "46e1699d-1b17-41fc-c899-fc8be365b36a"
      },
      "source": [
        "print(mi_lista[::2])"
      ],
      "execution_count": 33,
      "outputs": [
        {
          "output_type": "stream",
          "text": [
            "['amigos', 'campesinos', 'toda', 'atención']\n"
          ],
          "name": "stdout"
        }
      ]
    },
    {
      "cell_type": "markdown",
      "metadata": {
        "id": "WVPzpcm4yK95"
      },
      "source": [
        "Lists implictly select the beginning and end of the list when not otherwise specified."
      ]
    },
    {
      "cell_type": "code",
      "metadata": {
        "id": "izljX1bDyK95",
        "colab": {
          "base_uri": "https://localhost:8080/"
        },
        "outputId": "9aea1c67-b45c-4f29-8f09-cd4a7476c61f"
      },
      "source": [
        "print(mi_lista[:])"
      ],
      "execution_count": 34,
      "outputs": [
        {
          "output_type": "stream",
          "text": [
            "['amigos', 'romanos', 'campesinos', 'permítanme', 'toda', 'su', 'atención']\n"
          ],
          "name": "stdout"
        }
      ]
    },
    {
      "cell_type": "markdown",
      "metadata": {
        "id": "fexLQ7XNyK95"
      },
      "source": [
        "With a negative step size we can even reverse the list!"
      ]
    },
    {
      "cell_type": "code",
      "metadata": {
        "id": "MmjPHQSzyK95",
        "colab": {
          "base_uri": "https://localhost:8080/"
        },
        "outputId": "a9731a5a-4ab0-458e-863a-d080cb3845df"
      },
      "source": [
        "print(mi_lista[::-1])"
      ],
      "execution_count": 35,
      "outputs": [
        {
          "output_type": "stream",
          "text": [
            "['atención', 'su', 'toda', 'permítanme', 'campesinos', 'romanos', 'amigos']\n"
          ],
          "name": "stdout"
        }
      ]
    },
    {
      "cell_type": "markdown",
      "metadata": {
        "id": "1ckWGwZsyK96"
      },
      "source": [
        "Python does not have native matrices, but with lists we can produce a working fascimile. Other packages, such as `numpy`, add matrices as a separate data type, but in base Python the best way to create a matrix is to use a list of lists."
      ]
    },
    {
      "cell_type": "markdown",
      "metadata": {
        "id": "FjS_4Y3GyK96"
      },
      "source": [
        "We can also use built-in functions to generate lists. In particular we will look at `range()` (because we will be using it later!). Range can take several different inputs and will return a list."
      ]
    },
    {
      "cell_type": "code",
      "metadata": {
        "id": "mWCtupxcyK96",
        "colab": {
          "base_uri": "https://localhost:8080/"
        },
        "outputId": "33b98edd-5c30-407e-b735-ba3bb5f78116"
      },
      "source": [
        "b = 12\n",
        "mi_lista = range(b)\n",
        "print(mi_lista)"
      ],
      "execution_count": 36,
      "outputs": [
        {
          "output_type": "stream",
          "text": [
            "range(0, 12)\n"
          ],
          "name": "stdout"
        }
      ]
    },
    {
      "cell_type": "markdown",
      "metadata": {
        "id": "JJdb023pyK96"
      },
      "source": [
        "Similar to our list-slicing methods from before, we can define both a start and an end for our range. This will return a list that is includes the start and excludes the end, just like a slice."
      ]
    },
    {
      "cell_type": "code",
      "metadata": {
        "id": "gJvEBCPtyK97",
        "colab": {
          "base_uri": "https://localhost:8080/"
        },
        "outputId": "64fd1dc7-951d-489a-8d02-f58075e01900"
      },
      "source": [
        "a = 0\n",
        "b = 15\n",
        "mi_lista = range(a, b)\n",
        "print(mi_lista)"
      ],
      "execution_count": 37,
      "outputs": [
        {
          "output_type": "stream",
          "text": [
            "range(0, 15)\n"
          ],
          "name": "stdout"
        }
      ]
    },
    {
      "cell_type": "markdown",
      "metadata": {
        "id": "sMMmfYcTyK97"
      },
      "source": [
        "We can also specify a step size. This again has the same behavior as a slice."
      ]
    },
    {
      "cell_type": "code",
      "metadata": {
        "id": "aR9ZhM7dyK97",
        "scrolled": true,
        "colab": {
          "base_uri": "https://localhost:8080/"
        },
        "outputId": "134aa024-7f1a-447d-f375-dd49a0482ae2"
      },
      "source": [
        "a = 3\n",
        "b = 16\n",
        "paso = 2\n",
        "mi_lista = range(a, b, paso)\n",
        "print(mi_lista)"
      ],
      "execution_count": 38,
      "outputs": [
        {
          "output_type": "stream",
          "text": [
            "range(3, 16, 2)\n"
          ],
          "name": "stdout"
        }
      ]
    },
    {
      "cell_type": "markdown",
      "metadata": {
        "id": "KBFHSn4ryK97"
      },
      "source": [
        "### Tuples\n",
        "\n",
        "A `tuple` is a data type similar to a list in that it can hold different kinds of data types. The key difference here is that a `tuple` is immutable. We define a `tuple` by separating the elements we want to include by commas. It is conventional to surround a `tuple` with parentheses."
      ]
    },
    {
      "cell_type": "code",
      "metadata": {
        "id": "63PO5INbyK97",
        "colab": {
          "base_uri": "https://localhost:8080/"
        },
        "outputId": "2b6b86c5-2661-4274-cfbe-d10d16bc3754"
      },
      "source": [
        "mi_tupla = 'Yo', 'tengo', 24, 'perros'\n",
        "print(mi_tupla)"
      ],
      "execution_count": 39,
      "outputs": [
        {
          "output_type": "stream",
          "text": [
            "('Yo', 'tengo', 24, 'perros')\n"
          ],
          "name": "stdout"
        }
      ]
    },
    {
      "cell_type": "code",
      "metadata": {
        "id": "WGpu82alyK97",
        "colab": {
          "base_uri": "https://localhost:8080/"
        },
        "outputId": "3c12ba3f-5e53-488e-8bf2-584d3811ff6e"
      },
      "source": [
        "mi_tupla = ('Yo', 'tengo', 24, 'perros')\n",
        "print(mi_tupla)"
      ],
      "execution_count": 40,
      "outputs": [
        {
          "output_type": "stream",
          "text": [
            "('Yo', 'tengo', 24, 'perros')\n"
          ],
          "name": "stdout"
        }
      ]
    },
    {
      "cell_type": "markdown",
      "metadata": {
        "id": "Rl52B_V4yK98"
      },
      "source": [
        "As mentioned before, tuples are immutable. You can't change any part of them without defining a new tuple."
      ]
    },
    {
      "cell_type": "code",
      "metadata": {
        "id": "zvDgmJ8dyK98",
        "colab": {
          "base_uri": "https://localhost:8080/",
          "height": 172
        },
        "outputId": "bb4f56a6-be3c-4b57-9d15-93a9fa862f41"
      },
      "source": [
        "mi_tupla[3] = 'gatos' # Intento de cambiar el valor 'perros' guardado en la tupla por 'gatos'"
      ],
      "execution_count": 41,
      "outputs": [
        {
          "output_type": "error",
          "ename": "TypeError",
          "evalue": "ignored",
          "traceback": [
            "\u001b[0;31m---------------------------------------------------------------------------\u001b[0m",
            "\u001b[0;31mTypeError\u001b[0m                                 Traceback (most recent call last)",
            "\u001b[0;32m<ipython-input-41-22eba9d26a49>\u001b[0m in \u001b[0;36m<module>\u001b[0;34m()\u001b[0m\n\u001b[0;32m----> 1\u001b[0;31m \u001b[0mmi_tupla\u001b[0m\u001b[0;34m[\u001b[0m\u001b[0;36m3\u001b[0m\u001b[0;34m]\u001b[0m \u001b[0;34m=\u001b[0m \u001b[0;34m'gatos'\u001b[0m \u001b[0;31m# Intento de cambiar el valor 'perros' guardado en la tupla por 'gatos'\u001b[0m\u001b[0;34m\u001b[0m\u001b[0;34m\u001b[0m\u001b[0m\n\u001b[0m",
            "\u001b[0;31mTypeError\u001b[0m: 'tuple' object does not support item assignment"
          ]
        }
      ]
    },
    {
      "cell_type": "markdown",
      "metadata": {
        "id": "6vEBjdjByK98"
      },
      "source": [
        "You can slice tuples the same way that you slice lists!"
      ]
    },
    {
      "cell_type": "code",
      "metadata": {
        "id": "mtauvhCuyK98",
        "colab": {
          "base_uri": "https://localhost:8080/"
        },
        "outputId": "1a28093c-9f88-4422-9979-31d763ddf9f2"
      },
      "source": [
        "print(mi_tupla[1:3])"
      ],
      "execution_count": 42,
      "outputs": [
        {
          "output_type": "stream",
          "text": [
            "('tengo', 24)\n"
          ],
          "name": "stdout"
        }
      ]
    },
    {
      "cell_type": "markdown",
      "metadata": {
        "id": "seQUHswgyK99"
      },
      "source": [
        "And concatenate them the way that you would with strings!"
      ]
    },
    {
      "cell_type": "code",
      "metadata": {
        "id": "0_CxU3W4yK99",
        "colab": {
          "base_uri": "https://localhost:8080/"
        },
        "outputId": "2f08751e-74d0-4092-8f52-939a1525ac1d"
      },
      "source": [
        "mi_otra_tupla = ('pero', 'quiero', 50)\n",
        "print(mi_tupla + mi_otra_tupla)"
      ],
      "execution_count": 43,
      "outputs": [
        {
          "output_type": "stream",
          "text": [
            "('Yo', 'tengo', 24, 'perros', 'pero', 'quiero', 50)\n"
          ],
          "name": "stdout"
        }
      ]
    },
    {
      "cell_type": "markdown",
      "metadata": {
        "id": "Ndy5RPk4yK99"
      },
      "source": [
        "We can 'pack' values together, creating a tuple (as above), or we can 'unpack' values from a tuple, taking them out."
      ]
    },
    {
      "cell_type": "code",
      "metadata": {
        "id": "IbRvty1GyK99",
        "colab": {
          "base_uri": "https://localhost:8080/"
        },
        "outputId": "0f19c480-ffc3-4e48-f76d-acd6220d3113"
      },
      "source": [
        "str_1, str_2, int_1 = mi_otra_tupla\n",
        "print(str_1, str_2, int_1)\n",
        "print(str_2, int_1)\n",
        "print(int_1, str_1)"
      ],
      "execution_count": 44,
      "outputs": [
        {
          "output_type": "stream",
          "text": [
            "pero quiero 50\n",
            "quiero 50\n",
            "50 pero\n"
          ],
          "name": "stdout"
        }
      ]
    },
    {
      "cell_type": "markdown",
      "metadata": {
        "id": "b24IDiX1yK99"
      },
      "source": [
        "Unpacking assigns each value of the tuple in order to each variable on the left hand side of the equals sign. Some functions, including user-defined functions, may return tuples, so we can use this to directly unpack them and access the values that we want."
      ]
    },
    {
      "cell_type": "markdown",
      "metadata": {
        "id": "7YBIzF62yK9-"
      },
      "source": [
        "### Sets\n",
        "\n",
        "A `set` is a collection of unordered, unique elements. It works almost exactly as you would expect a normal set of things in mathematics to work and is defined using braces (`{}`)."
      ]
    },
    {
      "cell_type": "code",
      "metadata": {
        "id": "PZjmmC7syK9-",
        "colab": {
          "base_uri": "https://localhost:8080/"
        },
        "outputId": "e97f4afe-26bb-4e17-8bbd-6c5f943086c2"
      },
      "source": [
        "cosas_que_me_gustan = {'perros', 7, 'el número 4', 4, 4, 4, 42, 'lagartos', 'en verdad ME ENCANTA el número 4'}\n",
        "print(cosas_que_me_gustan, type(cosas_que_me_gustan))"
      ],
      "execution_count": 45,
      "outputs": [
        {
          "output_type": "stream",
          "text": [
            "{'perros', 4, 7, 42, 'lagartos', 'en verdad ME ENCANTA el número 4', 'el número 4'} <class 'set'>\n"
          ],
          "name": "stdout"
        }
      ]
    },
    {
      "cell_type": "markdown",
      "metadata": {
        "id": "sJ4Y6ROTyK9-"
      },
      "source": [
        "Note how any extra instances of the same item are removed in the final set. We can also create a `set` from a list, using the `set()` function."
      ]
    },
    {
      "cell_type": "code",
      "metadata": {
        "id": "RJvBrZPTyK9-",
        "colab": {
          "base_uri": "https://localhost:8080/"
        },
        "outputId": "26faef37-f497-40d9-baa5-1fee44539a43"
      },
      "source": [
        "lista_de_animales = ['gatos', 'perros', 'perros', 'más perros...?', 'lagartos', 'esponjas', 'vacas', 'murciélagos', 'esponjas']\n",
        "conjunto_de_animales = set(lista_de_animales)\n",
        "print(lista_de_animales)\n",
        "print(conjunto_de_animales) # Elimina las instancias repetidas en la lista"
      ],
      "execution_count": 46,
      "outputs": [
        {
          "output_type": "stream",
          "text": [
            "['gatos', 'perros', 'perros', 'más perros...?', 'lagartos', 'esponjas', 'vacas', 'murciélagos', 'esponjas']\n",
            "{'esponjas', 'perros', 'gatos', 'lagartos', 'más perros...?', 'murciélagos', 'vacas'}\n"
          ],
          "name": "stdout"
        }
      ]
    },
    {
      "cell_type": "markdown",
      "metadata": {
        "id": "tQ1H35MTyK9-"
      },
      "source": [
        "Calling `len()` on a set will tell you how many elements are in it."
      ]
    },
    {
      "cell_type": "code",
      "metadata": {
        "id": "g7I1Rw3VyK9_",
        "colab": {
          "base_uri": "https://localhost:8080/"
        },
        "outputId": "0548ade7-bad1-4697-b12a-4f2fd51df628"
      },
      "source": [
        "print(len(conjunto_de_animales))"
      ],
      "execution_count": 47,
      "outputs": [
        {
          "output_type": "stream",
          "text": [
            "7\n"
          ],
          "name": "stdout"
        }
      ]
    },
    {
      "cell_type": "markdown",
      "metadata": {
        "id": "fPr2dqGkyK9_"
      },
      "source": [
        "Because a `set` is unordered, we can't access individual elements using an index. We can, however, easily check for membership (to see if something is contained in a set) and take the unions and intersections of sets by using the built-in set functions."
      ]
    },
    {
      "cell_type": "code",
      "metadata": {
        "id": "z1aKUin3yK9_",
        "colab": {
          "base_uri": "https://localhost:8080/"
        },
        "outputId": "281f8bf0-d81d-48aa-be86-a916f7729983"
      },
      "source": [
        "'gatos' in conjunto_de_animales # Aquí revisamos la pertenencia utilizando la palabra `in`."
      ],
      "execution_count": 48,
      "outputs": [
        {
          "output_type": "execute_result",
          "data": {
            "text/plain": [
              "True"
            ]
          },
          "metadata": {
            "tags": []
          },
          "execution_count": 48
        }
      ]
    },
    {
      "cell_type": "markdown",
      "metadata": {
        "id": "VWsi8VOtyK9_"
      },
      "source": [
        "Here we checked to see whether the string 'cats' was contained within our `animal_set` and it returned `True`, telling us that it is indeed in our set.\n",
        "\n",
        "We can connect sets by using typical mathematical set operators, namely `|`, for union, and `&`, for intersection. Using `|` or `&` will return exactly what you would expect if you are familiar with sets in mathematics."
      ]
    },
    {
      "cell_type": "code",
      "metadata": {
        "id": "pkqtnS3FyK-A",
        "colab": {
          "base_uri": "https://localhost:8080/"
        },
        "outputId": "2e1536d9-0c64-40ce-a3cf-92f32bec0c8a"
      },
      "source": [
        "print(conjunto_de_animales | cosas_que_me_gustan) # También se puede escribir cosas_que_me_gustan | conjunto_de_animales y no habrá diferencia"
      ],
      "execution_count": 49,
      "outputs": [
        {
          "output_type": "stream",
          "text": [
            "{'esponjas', 'perros', 4, 'gatos', 7, 42, 'murciélagos', 'lagartos', 'más perros...?', 'en verdad ME ENCANTA el número 4', 'vacas', 'el número 4'}\n"
          ],
          "name": "stdout"
        }
      ]
    },
    {
      "cell_type": "markdown",
      "metadata": {
        "id": "bkRpva3VyK-A"
      },
      "source": [
        "Pairing two sets together with `|` combines the sets, removing any repetitions to make every set element unique."
      ]
    },
    {
      "cell_type": "code",
      "metadata": {
        "id": "S4bkaEEPyK-B",
        "colab": {
          "base_uri": "https://localhost:8080/"
        },
        "outputId": "9202a26d-2570-4bd2-e63a-75f40445e1b6"
      },
      "source": [
        "print(cosas_que_me_gustan & conjunto_de_animales) # También se puede escribir conjunto_de_animales & cosas_que_me_gustan y no habrá diferencia"
      ],
      "execution_count": 50,
      "outputs": [
        {
          "output_type": "stream",
          "text": [
            "{'perros', 'lagartos'}\n"
          ],
          "name": "stdout"
        }
      ]
    },
    {
      "cell_type": "markdown",
      "metadata": {
        "id": "-g7PWbEmyK-B"
      },
      "source": [
        "Pairing two sets together with `&` will calculate the intersection of both sets, returning a set that only contains what they have in common.\n",
        "\n",
        "If you are interested in learning more about the built-in functions for sets, feel free to check out the [documentation](https://docs.python.org/2/library/sets.html)."
      ]
    },
    {
      "cell_type": "markdown",
      "metadata": {
        "id": "k7IGWJbzyK-B"
      },
      "source": [
        "### Dictionaries\n",
        "\n",
        "Another essential data structure in Python is the dictionary. Dictionaries are defined with a combination of curly braces (`{}`) and colons (`:`). The braces define the beginning and end of a dictionary and the colons indicate key-value pairs. A dictionary is essentially a set of key-value pairs. The key of any entry must be an immutable data type. This makes both strings and tuples candidates. Keys can be both added and deleted.\n",
        "\n",
        "In the following example, we have a dictionary composed of key-value pairs where the key is a genre of fiction (`string`) and the value is a list of books (`list`) within that genre. Since a collection is still considered a single entity, we can use one to collect multiple variables or values into one key-value pair."
      ]
    },
    {
      "cell_type": "code",
      "metadata": {
        "id": "rB7RwCbkyK-B"
      },
      "source": [
        "my_dict = {\"Alta Fantasía\": [\"Wheel of Time\", \"El señor de los anillos\"], \n",
        "           \"Ciencia ficción\": [\"Viaje al centro de la tierra\", \"Neuromancer\", \"Snow Crash\"],\n",
        "           \"Ficción extraña\": [\"En las montañas de la locura\", \"El extraño caso de Charles Dexter Ward\"]}"
      ],
      "execution_count": 51,
      "outputs": []
    },
    {
      "cell_type": "markdown",
      "metadata": {
        "id": "mLX3EPhryK-B"
      },
      "source": [
        "After defining a dictionary, we can access any individual value by indicating its key in brackets."
      ]
    },
    {
      "cell_type": "code",
      "metadata": {
        "id": "kHkyEOwByK-C",
        "colab": {
          "base_uri": "https://localhost:8080/"
        },
        "outputId": "398590f7-0ef9-4b12-d654-299df6c0d808"
      },
      "source": [
        "print(my_dict[\"Ciencia ficción\"])"
      ],
      "execution_count": 52,
      "outputs": [
        {
          "output_type": "stream",
          "text": [
            "['Viaje al centro de la tierra', 'Neuromancer', 'Snow Crash']\n"
          ],
          "name": "stdout"
        }
      ]
    },
    {
      "cell_type": "markdown",
      "metadata": {
        "id": "5GDCwNZXyK-C"
      },
      "source": [
        "We can also change the value associated with a given key"
      ]
    },
    {
      "cell_type": "code",
      "metadata": {
        "id": "vzu3TAN1yK-C",
        "colab": {
          "base_uri": "https://localhost:8080/"
        },
        "outputId": "46cdc060-db51-4648-bb81-e59db0edf878"
      },
      "source": [
        "my_dict[\"Ciencia ficción\"] = \"No sé leer\"\n",
        "print(my_dict[\"Ciencia ficción\"])"
      ],
      "execution_count": 53,
      "outputs": [
        {
          "output_type": "stream",
          "text": [
            "No sé leer\n"
          ],
          "name": "stdout"
        }
      ]
    },
    {
      "cell_type": "markdown",
      "metadata": {
        "id": "-_ooC_z4yK-C"
      },
      "source": [
        "Adding a new key-value pair is as simple as defining it."
      ]
    },
    {
      "cell_type": "code",
      "metadata": {
        "id": "luUhnHSzyK-C",
        "colab": {
          "base_uri": "https://localhost:8080/"
        },
        "outputId": "f473f4d9-0fde-469c-a26c-938b5577046b"
      },
      "source": [
        "my_dict[\"Ficción histórica\"] = [\"Los pilares de la Tierra\"]\n",
        "print(my_dict[\"Ficción histórica\"])"
      ],
      "execution_count": 54,
      "outputs": [
        {
          "output_type": "stream",
          "text": [
            "['Los pilares de la Tierra']\n"
          ],
          "name": "stdout"
        }
      ]
    },
    {
      "cell_type": "code",
      "metadata": {
        "id": "WFzHLFopyK-C",
        "colab": {
          "base_uri": "https://localhost:8080/"
        },
        "outputId": "d1bf7a1d-f6ff-4ccb-a4ae-fe3b8edfccef"
      },
      "source": [
        "print(my_dict)"
      ],
      "execution_count": 55,
      "outputs": [
        {
          "output_type": "stream",
          "text": [
            "{'Alta Fantasía': ['Wheel of Time', 'El señor de los anillos'], 'Ciencia ficción': 'No sé leer', 'Ficción extraña': ['En las montañas de la locura', 'El extraño caso de Charles Dexter Ward'], 'Ficción histórica': ['Los pilares de la Tierra']}\n"
          ],
          "name": "stdout"
        }
      ]
    },
    {
      "cell_type": "markdown",
      "metadata": {
        "id": "1yEAaFRFyK-C"
      },
      "source": [
        "## String Shenanigans\n",
        "\n",
        "We already know that strings are generally used for text. We can used built-in operations to combine, split, and format strings easily, depending on our needs.\n",
        "\n",
        "The `+` symbol indicates concatenation in string language. It will combine two strings into a longer string."
      ]
    },
    {
      "cell_type": "code",
      "metadata": {
        "id": "6QPvcWc-yK-D",
        "colab": {
          "base_uri": "https://localhost:8080/"
        },
        "outputId": "b80ad783-7a65-41cb-d95a-2dd574876f1f"
      },
      "source": [
        "primer_string = '\"Beware the Jabberwock, my son! /The jaws that bite, the claws that catch! /'\n",
        "segundo_string = 'Beware the Jubjub bird, and shun /The frumious Bandersnatch!\"/'\n",
        "tercer_string = primer_string + segundo_string\n",
        "print(tercer_string)"
      ],
      "execution_count": 56,
      "outputs": [
        {
          "output_type": "stream",
          "text": [
            "\"Beware the Jabberwock, my son! /The jaws that bite, the claws that catch! /Beware the Jubjub bird, and shun /The frumious Bandersnatch!\"/\n"
          ],
          "name": "stdout"
        }
      ]
    },
    {
      "cell_type": "markdown",
      "metadata": {
        "id": "gijL8ZXxyK-D"
      },
      "source": [
        "Strings are also indexed much in the same way that lists are."
      ]
    },
    {
      "cell_type": "code",
      "metadata": {
        "id": "iI-2bbSSyK-D",
        "colab": {
          "base_uri": "https://localhost:8080/"
        },
        "outputId": "de751fa8-5a3c-4653-8175-13519739c571"
      },
      "source": [
        "my_string = 'Supercalifragilisticoespialidoso'\n",
        "print('La primera letra es: ', my_string[0]) # S mayúscula\n",
        "print('La última letra es: ', my_string[-1]) # o minúscula\n",
        "print('La penúltima letra es: ', my_string[-2]) # s minúscula\n",
        "print('Los primeros cinco caracteres son: ', my_string[0:5]) # Recuerda: ¡el slicing no incluye el último elemento!\n",
        "print('¡Al revés!: ', my_string[::-1])"
      ],
      "execution_count": 57,
      "outputs": [
        {
          "output_type": "stream",
          "text": [
            "La primera letra es:  S\n",
            "La última letra es:  o\n",
            "La penúltima letra es:  s\n",
            "Los primeros cinco caracteres son:  Super\n",
            "¡Al revés!:  osodilaipseocitsiligarfilacrepuS\n"
          ],
          "name": "stdout"
        }
      ]
    },
    {
      "cell_type": "markdown",
      "metadata": {
        "id": "joqb8qdEyK-D"
      },
      "source": [
        "Built-in objects and classes often have special functions associated with them that are called methods. We access these methods by using a period ('.'). We will cover objects and their associated methods more in another lecture!\n",
        "\n",
        "Using string methods we can count instances of a character or group of characters."
      ]
    },
    {
      "cell_type": "code",
      "metadata": {
        "id": "9R_q-QMWyK-D",
        "scrolled": true,
        "colab": {
          "base_uri": "https://localhost:8080/"
        },
        "outputId": "b31f4754-d62a-4ec4-98e1-d7ded6b40918"
      },
      "source": [
        "print('¿Cuántas letras \"i\" hay en Supercalifragilisticoespialidoso?: ', my_string.count('i'))\n",
        "print('¿Cuántas veces aparece \"li\" en la palabra?: ', my_string.count('li'))"
      ],
      "execution_count": 58,
      "outputs": [
        {
          "output_type": "stream",
          "text": [
            "¿Cuántas letras \"i\" hay en Supercalifragilisticoespialidoso?:  6\n",
            "¿Cuántas veces aparece \"li\" en la palabra?:  3\n"
          ],
          "name": "stdout"
        }
      ]
    },
    {
      "cell_type": "markdown",
      "metadata": {
        "id": "2DqMUedayK-D"
      },
      "source": [
        "We can also find the first instance of a character or group of characters in a string."
      ]
    },
    {
      "cell_type": "code",
      "metadata": {
        "id": "vhJydzMKyK-D",
        "colab": {
          "base_uri": "https://localhost:8080/"
        },
        "outputId": "805d6a17-0afd-4e85-924e-db6ada8f3eba"
      },
      "source": [
        "print('La \"i\" aparece por primera vez en el índice: ', my_string.find('i'))"
      ],
      "execution_count": 59,
      "outputs": [
        {
          "output_type": "stream",
          "text": [
            "La \"i\" aparece por primera vez en el índice:  8\n"
          ],
          "name": "stdout"
        }
      ]
    },
    {
      "cell_type": "markdown",
      "metadata": {
        "id": "AEvpx4yqyK-E"
      },
      "source": [
        "As well as replace characters in a string."
      ]
    },
    {
      "cell_type": "code",
      "metadata": {
        "id": "ExyLanp0yK-E",
        "colab": {
          "base_uri": "https://localhost:8080/"
        },
        "outputId": "4ab19d31-eb77-4d0a-bc5b-f0e31a1de190"
      },
      "source": [
        "print(\"Ahora todas las 'i' son 'a': \", my_string.replace('i', 'a'))"
      ],
      "execution_count": 60,
      "outputs": [
        {
          "output_type": "stream",
          "text": [
            "Ahora todas las 'i' son 'a':  Supercalafragalastacoespaaladoso\n"
          ],
          "name": "stdout"
        }
      ]
    },
    {
      "cell_type": "code",
      "metadata": {
        "id": "Dn6km0GTyK-E",
        "colab": {
          "base_uri": "https://localhost:8080/"
        },
        "outputId": "47cb8a07-7ecb-49b7-9772-fd1386789f82"
      },
      "source": [
        "print(\"Están lloviendo gatos y perros\".replace('perros', 'más gatos'))"
      ],
      "execution_count": 61,
      "outputs": [
        {
          "output_type": "stream",
          "text": [
            "Están lloviendo gatos y más gatos\n"
          ],
          "name": "stdout"
        }
      ]
    },
    {
      "cell_type": "markdown",
      "metadata": {
        "id": "wyI_mbfmyK-E"
      },
      "source": [
        "There are also some methods that are unique to strings. The function `upper()` will convert all characters in a string to uppercase, while `lower()` will convert all characters in a string to lowercase!"
      ]
    },
    {
      "cell_type": "code",
      "metadata": {
        "id": "zGsRp5zTyK-E",
        "colab": {
          "base_uri": "https://localhost:8080/"
        },
        "outputId": "54de11df-2d4e-4229-ca66-87dac989f10a"
      },
      "source": [
        "my_string = \"No te escucho\"\n",
        "print(my_string.upper())\n",
        "my_string = \"Dije HOLA\"\n",
        "print(my_string.lower())"
      ],
      "execution_count": 62,
      "outputs": [
        {
          "output_type": "stream",
          "text": [
            "NO TE ESCUCHO\n",
            "dije hola\n"
          ],
          "name": "stdout"
        }
      ]
    },
    {
      "cell_type": "markdown",
      "metadata": {
        "id": "BKQbJKF0yK-E"
      },
      "source": [
        "### String Formatting\n",
        "\n",
        "Using the `format()` method we can add in variable values and generally format our strings."
      ]
    },
    {
      "cell_type": "code",
      "metadata": {
        "id": "DJV2RhtdyK-E",
        "colab": {
          "base_uri": "https://localhost:8080/"
        },
        "outputId": "e5866289-e66c-405a-aef9-fe8cd2c61e16"
      },
      "source": [
        "my_string = \"{0} {1}\".format('Marco', 'Polo')\n",
        "print(my_string)"
      ],
      "execution_count": 63,
      "outputs": [
        {
          "output_type": "stream",
          "text": [
            "Marco Polo\n"
          ],
          "name": "stdout"
        }
      ]
    },
    {
      "cell_type": "code",
      "metadata": {
        "id": "tiAokcGYyK-F",
        "colab": {
          "base_uri": "https://localhost:8080/"
        },
        "outputId": "eb93c487-c057-4c97-da24-b42823f768ad"
      },
      "source": [
        "my_string = \"{1} {0}\".format('Marco', 'Polo')\n",
        "print(my_string)"
      ],
      "execution_count": 64,
      "outputs": [
        {
          "output_type": "stream",
          "text": [
            "Polo Marco\n"
          ],
          "name": "stdout"
        }
      ]
    },
    {
      "cell_type": "markdown",
      "metadata": {
        "id": "7I6Cd7QlyK-G"
      },
      "source": [
        "We use braces (`{}`) to indicate parts of the string that will be filled in later and we use the arguments of the `format()` function to provide the values to substitute. The numbers within the braces indicate the index of the value in the `format()` arguments."
      ]
    },
    {
      "cell_type": "markdown",
      "metadata": {
        "id": "lObWEvRsyK-G"
      },
      "source": [
        "See the `format()` [documentation](https://docs.python.org/2/library/string.html#format-examples) for additional examples."
      ]
    },
    {
      "cell_type": "markdown",
      "metadata": {
        "id": "Jej7EdvpyK-G"
      },
      "source": [
        "If you need some quick and dirty formatting, you can instead use the `%` symbol, called the string formatting operator. "
      ]
    },
    {
      "cell_type": "code",
      "metadata": {
        "id": "Gm8nWPrGyK-G",
        "colab": {
          "base_uri": "https://localhost:8080/"
        },
        "outputId": "93bdf260-3dbb-4a1b-d827-9f89c07cd90a"
      },
      "source": [
        "print('inserte un %s aquí' % 'valor')"
      ],
      "execution_count": 65,
      "outputs": [
        {
          "output_type": "stream",
          "text": [
            "inserte un valor aquí\n"
          ],
          "name": "stdout"
        }
      ]
    },
    {
      "cell_type": "markdown",
      "metadata": {
        "id": "PENTOYylyK-H"
      },
      "source": [
        "The `%` symbol basically cues Python to create a placeholder. Whatever character follows the `%` (in the string) indicates what sort of type the value put into the placeholder will have. This character is called a *conversion type*. Once the string has been closed, we need another `%` that will be followed by the values to insert. In the case of one value, you can just put it there. If you are inserting more than one value, they must be enclosed in a tuple."
      ]
    },
    {
      "cell_type": "code",
      "metadata": {
        "id": "6ksKHGIpyK-H",
        "colab": {
          "base_uri": "https://localhost:8080/"
        },
        "outputId": "0e879146-86f3-4eb6-9487-43d6a50560d2"
      },
      "source": [
        "print('Hay %s gatos en mi %s' % (13, 'apartamento'))"
      ],
      "execution_count": 66,
      "outputs": [
        {
          "output_type": "stream",
          "text": [
            "Hay 13 gatos en mi apartamento\n"
          ],
          "name": "stdout"
        }
      ]
    },
    {
      "cell_type": "markdown",
      "metadata": {
        "id": "1X-oS5wpyK-H"
      },
      "source": [
        "In these examples, the `%s` indicates that Python should convert the values into strings. There are multiple conversion types that you can use to get more specific with the the formatting. See the string formatting [documentation](https://docs.python.org/2/library/stdtypes.html#string-formatting) for additional examples and more complete details on use."
      ]
    },
    {
      "cell_type": "markdown",
      "metadata": {
        "id": "jp9it-ZCyK-H"
      },
      "source": [
        "## Logical Operators\n",
        "### Basic Logic\n",
        "\n",
        "Logical operators deal with `boolean` values, as we briefly covered before. If you recall, a `bool` takes on one of two values, `True` or `False` (or $1$ or $0$). The basic logical statements that we can make are defined using the built-in comparators. These are `==` (equal), `!=` (not equal), `<` (less than), `>` (greater than), `<=` (less than or equal to), and `>=` (greater than or equal to)."
      ]
    },
    {
      "cell_type": "code",
      "metadata": {
        "id": "icCoNO6JyK-H",
        "colab": {
          "base_uri": "https://localhost:8080/"
        },
        "outputId": "7d953588-3a26-4a5e-93bb-dd00fe9c5905"
      },
      "source": [
        "print(7 == 7)"
      ],
      "execution_count": 67,
      "outputs": [
        {
          "output_type": "stream",
          "text": [
            "True\n"
          ],
          "name": "stdout"
        }
      ]
    },
    {
      "cell_type": "code",
      "metadata": {
        "id": "GrGlsukwyK-H",
        "colab": {
          "base_uri": "https://localhost:8080/"
        },
        "outputId": "643aae7c-095a-4ba1-b72f-099d6e03619a"
      },
      "source": [
        "print(5 > 5)"
      ],
      "execution_count": 68,
      "outputs": [
        {
          "output_type": "stream",
          "text": [
            "False\n"
          ],
          "name": "stdout"
        }
      ]
    },
    {
      "cell_type": "markdown",
      "metadata": {
        "id": "0jUmp_gsyK-H"
      },
      "source": [
        "These comparators also work in conjunction with variables."
      ]
    },
    {
      "cell_type": "code",
      "metadata": {
        "id": "gJt3IeD0yK-H",
        "colab": {
          "base_uri": "https://localhost:8080/"
        },
        "outputId": "d4e668a4-1bcc-44d0-a617-04eb21c4bf0f"
      },
      "source": [
        "m = 21\n",
        "n = 24\n",
        "print(m < n)"
      ],
      "execution_count": 69,
      "outputs": [
        {
          "output_type": "stream",
          "text": [
            "True\n"
          ],
          "name": "stdout"
        }
      ]
    },
    {
      "cell_type": "markdown",
      "metadata": {
        "id": "F7l3OAQXyK-H"
      },
      "source": [
        "We can string these comparators together to make more complex logical statements using the logical operators `or`, `and`, and `not`. "
      ]
    },
    {
      "cell_type": "code",
      "metadata": {
        "id": "-aIJTcFByK-H",
        "colab": {
          "base_uri": "https://localhost:8080/"
        },
        "outputId": "fef8d391-3d4e-46d1-ab47-eac80715157d"
      },
      "source": [
        "predicado_1 = 10 > 2\n",
        "predicado_2 = 4 <= 6\n",
        "print(\"Valor de verdad del predicado 1: {0}\".format(predicado_1))\n",
        "print(\"Valor de verdad del predicado 2: {0}\".format(predicado_2))\n",
        "print(\"Predicado 1 y Predicado 2: {0}\".format(predicado_1 and predicado_2))"
      ],
      "execution_count": 70,
      "outputs": [
        {
          "output_type": "stream",
          "text": [
            "Valor de verdad del predicado 1: True\n",
            "Valor de verdad del predicado 2: True\n",
            "Predicado 1 y Predicado 2: True\n"
          ],
          "name": "stdout"
        }
      ]
    },
    {
      "cell_type": "markdown",
      "metadata": {
        "id": "9YgQqHObyK-H"
      },
      "source": [
        "The `or` operator performs a logical `or` calculation. This is an inclusive `or`, so if either component paired together by `or` is `True`, the whole statement will be `True`. The `and` statement only outputs `True` if all components that are `and`ed together are True. Otherwise it will output `False`. The `not` statement simply inverts the truth value of whichever statement follows it. So a `True` statement will be evaluated as `False` when a `not` is placed in front of it. Similarly, a `False` statement will become `True` when a `not` is in front of it.\n",
        "\n",
        "Say that we have two logical statements, or assertions, $P$ and $Q$. The truth table for the basic logical operators is as follows:\n",
        "\n",
        "|  P  |  Q  | `not` P| P `and` Q | P `or` Q|\n",
        "|:-----:|:-----:|:---:|:---:|:---:|\n",
        "| `True` | `True` | `False` | `True` | `True` |\n",
        "| `False` | `True` | `True` | `False` | `True` |\n",
        "| `True` | `False` | `False` | `False` | `True` |\n",
        "| `False` | `False` | `True` | `False` | `False` |\n",
        "\n",
        "We can string multiple logical statements together using the logical operators."
      ]
    },
    {
      "cell_type": "code",
      "metadata": {
        "id": "iA4MhrSayK-H",
        "colab": {
          "base_uri": "https://localhost:8080/"
        },
        "outputId": "ce07d2bf-d7f7-4cde-b83a-c1dfdcc7f804"
      },
      "source": [
        "print(((2 < 3) and (3 > 0)) or ((5 > 6) and not (4 < 2)))"
      ],
      "execution_count": 71,
      "outputs": [
        {
          "output_type": "stream",
          "text": [
            "True\n"
          ],
          "name": "stdout"
        }
      ]
    },
    {
      "cell_type": "markdown",
      "metadata": {
        "id": "Hi3HejocyK-H"
      },
      "source": [
        "Logical statements can be as simple or complex as we like, depending on what we need to express. Evaluating the above logical statement step by step we see that we are evaluating (`True and True`) `or` (`False and not False`). This becomes `True or (False and True`), subsequently becoming `True or False`, ultimately being evaluated as `True`."
      ]
    },
    {
      "cell_type": "markdown",
      "metadata": {
        "id": "RyhYP-rNyK-H"
      },
      "source": [
        "#### Truthiness\n",
        "\n",
        "Data types in Python have a fun characteristic called truthiness. What this means is that most built-in types will evaluate as either `True` or `False` when a boolean value is needed (such as with an if-statement). As a general rule, containers like strings, tuples, dictionaries, lists, and sets, will return `True` if they contain anything at all and `False` if they contain nothing."
      ]
    },
    {
      "cell_type": "code",
      "metadata": {
        "id": "lqOu2AqzyK-I",
        "colab": {
          "base_uri": "https://localhost:8080/"
        },
        "outputId": "000dc388-837f-416d-9200-2aaf455377ef"
      },
      "source": [
        "# Similar to how float() and int() work, bool() forces a value to be considered a boolean!\n",
        "print(bool(''))"
      ],
      "execution_count": 72,
      "outputs": [
        {
          "output_type": "stream",
          "text": [
            "False\n"
          ],
          "name": "stdout"
        }
      ]
    },
    {
      "cell_type": "code",
      "metadata": {
        "id": "i4_IwhoGyK-I",
        "colab": {
          "base_uri": "https://localhost:8080/"
        },
        "outputId": "d5c0f5df-9c30-4a97-9a67-ffd206a95eb3"
      },
      "source": [
        "print(bool('¡Tengo carácter!'))"
      ],
      "execution_count": 73,
      "outputs": [
        {
          "output_type": "stream",
          "text": [
            "True\n"
          ],
          "name": "stdout"
        }
      ]
    },
    {
      "cell_type": "code",
      "metadata": {
        "id": "Atta9ffHyK-I",
        "colab": {
          "base_uri": "https://localhost:8080/"
        },
        "outputId": "43fedcf2-343d-494f-ec94-13ffaf063ad5"
      },
      "source": [
        "print(bool([]))"
      ],
      "execution_count": 74,
      "outputs": [
        {
          "output_type": "stream",
          "text": [
            "False\n"
          ],
          "name": "stdout"
        }
      ]
    },
    {
      "cell_type": "code",
      "metadata": {
        "id": "Uc2zBSVJyK-I",
        "colab": {
          "base_uri": "https://localhost:8080/"
        },
        "outputId": "e3699ec8-053a-4f32-d9f2-16bbc68748fe"
      },
      "source": [
        "print(bool([1, 2, 3]))"
      ],
      "execution_count": 75,
      "outputs": [
        {
          "output_type": "stream",
          "text": [
            "True\n"
          ],
          "name": "stdout"
        }
      ]
    },
    {
      "cell_type": "markdown",
      "metadata": {
        "id": "N6tG9SvsyK-J"
      },
      "source": [
        "And so on, for the other collections and containers. `None` also evaluates as `False`. The number `1` is equivalent to `True` and the number `0` is equivalent to `False` as well, in a boolean context."
      ]
    },
    {
      "cell_type": "markdown",
      "metadata": {
        "id": "8x0HrPkayK-J"
      },
      "source": [
        "### If-statements\n",
        "\n",
        "We can create segments of code that only execute if a set of conditions is met. We use if-statements in conjunction with logical statements in order to create branches in our code. \n",
        "\n",
        "An `if` block gets entered when the condition is considered to be `True`. If condition is evaluated as `False`, the `if` block will simply be skipped unless there is an `else` block to accompany it. Conditions are made using either logical operators or by using the truthiness of values in Python. An if-statement is defined with a colon and a block of indented text."
      ]
    },
    {
      "cell_type": "code",
      "metadata": {
        "id": "VQA1CvXOyK-J",
        "colab": {
          "base_uri": "https://localhost:8080/"
        },
        "outputId": "633386d5-5f07-4d6b-ad37-7cbb50635a06"
      },
      "source": [
        "# This is the basic format of an if statement. This is a vacuous example. \n",
        "# The string \"Condition\" will always evaluated as True because it is a\n",
        "# non-empty string. The purpose of this code is to show the formatting of\n",
        "# an if-statement.\n",
        "if \"Condition\": \n",
        "    # This block of code will execute because the string is non-empty\n",
        "    # Everything on these indented lines\n",
        "    print(True)\n",
        "else:\n",
        "    # So if the condition that we examined with if is in fact False\n",
        "    # This block of code will execute INSTEAD of the first block of code\n",
        "    # Everything on these indented lines\n",
        "    print(False)\n",
        "# The else block here will never execute because \"Condition\" is a non-empty string."
      ],
      "execution_count": 76,
      "outputs": [
        {
          "output_type": "stream",
          "text": [
            "True\n"
          ],
          "name": "stdout"
        }
      ]
    },
    {
      "cell_type": "code",
      "metadata": {
        "id": "JzGM7QS-yK-J"
      },
      "source": [
        "i = 6\n",
        "if i == 5:\n",
        "    print('La variable i tiene un valor de 5')"
      ],
      "execution_count": 77,
      "outputs": []
    },
    {
      "cell_type": "markdown",
      "metadata": {
        "id": "vN2yaBabyK-J"
      },
      "source": [
        "Because in this example `i = 4` and the if-statement is only looking for whether `i` is equal to `5`, the print statement will never be executed. We can add in an `else` statement to create a contingency block of code in case the condition in the if-statement is not evaluated as `True`."
      ]
    },
    {
      "cell_type": "code",
      "metadata": {
        "id": "q7BxG6ktyK-J",
        "colab": {
          "base_uri": "https://localhost:8080/"
        },
        "outputId": "6a56b833-5cf4-47f3-8e43-ed3113446f4e"
      },
      "source": [
        "i = 5\n",
        "if i == 5:\n",
        "    print(\"Todas las líneas en este bloque indentado son parte de este bloque\")\n",
        "    print('La variable i es igual a 5')\n",
        "else:\n",
        "    print(\"Todas las líneas en este bloque indentado son parte de este bloque\")\n",
        "    print('La variable i es diferente de 5')"
      ],
      "execution_count": 78,
      "outputs": [
        {
          "output_type": "stream",
          "text": [
            "Todas las líneas en este bloque indentado son parte de este bloque\n",
            "La variable i es igual a 5\n"
          ],
          "name": "stdout"
        }
      ]
    },
    {
      "cell_type": "markdown",
      "metadata": {
        "id": "DUiHiuxgyK-J"
      },
      "source": [
        "We can implement other branches off of the same if-statement by using `elif`, an abbreviation of \"else if\". We can include as many `elifs` as we like until we have exhausted all the logical branches of a condition."
      ]
    },
    {
      "cell_type": "code",
      "metadata": {
        "id": "FcnpGCWDyK-J",
        "colab": {
          "base_uri": "https://localhost:8080/"
        },
        "outputId": "60fd3c09-e887-4203-e037-52cc32b568cc"
      },
      "source": [
        "i = 1\n",
        "if i == 1:\n",
        "    print('La variable i tiene un valor de 1')\n",
        "elif i == 2:\n",
        "    print('La variable i tiene un valor de 2')\n",
        "elif i == 3:\n",
        "    print('La variable i tiene un valor de 3')\n",
        "else:\n",
        "    print(\"No me importa lo que sea\")"
      ],
      "execution_count": 79,
      "outputs": [
        {
          "output_type": "stream",
          "text": [
            "La variable i tiene un valor de 1\n"
          ],
          "name": "stdout"
        }
      ]
    },
    {
      "cell_type": "markdown",
      "metadata": {
        "id": "wDTCvKxDyK-K"
      },
      "source": [
        "You can also nest if-statements within if-statements to check for further conditions."
      ]
    },
    {
      "cell_type": "code",
      "metadata": {
        "id": "fvEZZjR-yK-L",
        "colab": {
          "base_uri": "https://localhost:8080/"
        },
        "outputId": "bfdcaba5-3e08-4b90-d006-3d6930e232f4"
      },
      "source": [
        "i =9\n",
        "if i % 2 == 0:\n",
        "    if i % 4 == 0:\n",
        "        print('¡i es divisible por 2 y 4! ¡Wow!')\n",
        "    elif i % 7 == 0:\n",
        "        print('¡i es divisible por 2 y 7! ¡Wow!')\n",
        "    else:\n",
        "        print('i es divisible por 2, pero no por 4 ni por 7. Meh.')\n",
        "else:\n",
        "    print('Supongo que i en un número impar. Qué aburrido.')"
      ],
      "execution_count": 80,
      "outputs": [
        {
          "output_type": "stream",
          "text": [
            "Supongo que i en un número impar. Qué aburrido.\n"
          ],
          "name": "stdout"
        }
      ]
    },
    {
      "cell_type": "markdown",
      "metadata": {
        "id": "LwXd7-kfyK-L"
      },
      "source": [
        "Remember that we can group multiple conditions together by using the logical operators!"
      ]
    },
    {
      "cell_type": "code",
      "metadata": {
        "id": "mx_z_tpoyK-L",
        "colab": {
          "base_uri": "https://localhost:8080/"
        },
        "outputId": "df0c30f4-a963-4549-c18c-b1f72eb109e1"
      },
      "source": [
        "i = 50\n",
        "j = 35\n",
        "if i < 60 and j > 31:\n",
        "    print('¡{0} es menor que 60 y {1} es mayor que 31! ¡Qué interesante!'.format(i, j))"
      ],
      "execution_count": 81,
      "outputs": [
        {
          "output_type": "stream",
          "text": [
            "¡50 es menor que 60 y 35 es mayor que 31! ¡Qué interesante!\n"
          ],
          "name": "stdout"
        }
      ]
    },
    {
      "cell_type": "markdown",
      "metadata": {
        "id": "0m9T1hdUyK-L"
      },
      "source": [
        "You can use the logical comparators to compare strings!"
      ]
    },
    {
      "cell_type": "code",
      "metadata": {
        "id": "dyZiihQyyK-L",
        "colab": {
          "base_uri": "https://localhost:8080/"
        },
        "outputId": "a5d67c48-0cf9-4a6a-89a1-20667461cc33"
      },
      "source": [
        "my_string = \"Carthago delenda est\"\n",
        "if my_string == \"Carthago delenda est\":\n",
        "    print('¡Y así será! ¡Por la gloria de Roma!')\n",
        "else:\n",
        "    print('Los elefantes de guerra son ATERRADORES. Yo me quedo en casa.')"
      ],
      "execution_count": 82,
      "outputs": [
        {
          "output_type": "stream",
          "text": [
            "¡Y así será! ¡Por la gloria de Roma!\n"
          ],
          "name": "stdout"
        }
      ]
    },
    {
      "cell_type": "markdown",
      "metadata": {
        "id": "xt14bJ4nyK-L"
      },
      "source": [
        "As with other data types, `==` will check for whether the two things on either side of it have the same value. In this case, we compare whether the value of the strings are the same. Using `>` or `<` or any of the other comparators is not quite so intuitive, however, so we will stay from using comparators with strings in this lecture. Comparators will examine the [lexicographical order](https://en.wikipedia.org/wiki/Lexicographical_order) of the strings, which might be a bit more in-depth than you might like."
      ]
    },
    {
      "cell_type": "markdown",
      "metadata": {
        "id": "fFZfCgDQyK-L"
      },
      "source": [
        "Some built-in functions return a boolean value, so they can be used as conditions in an if-statement. User-defined functions can also be constructed so that they return a boolean value. This will be covered later with function definition!\n",
        "\n",
        "The `in` keyword is generally used to check membership of a value within another value. We can check memebership in the context of an if-statement and use it to output a truth value."
      ]
    },
    {
      "cell_type": "code",
      "metadata": {
        "id": "zMOUPiw-yK-M",
        "colab": {
          "base_uri": "https://localhost:8080/"
        },
        "outputId": "684c8809-6400-4c7b-ff78-8bb5e42c6784"
      },
      "source": [
        "if 'i' in my_string or 'o' in my_string:\n",
        "    print('¡Esas son mis vocales favoritas!')"
      ],
      "execution_count": 83,
      "outputs": [
        {
          "output_type": "stream",
          "text": [
            "¡Esas son mis vocales favoritas!\n"
          ],
          "name": "stdout"
        }
      ]
    },
    {
      "cell_type": "markdown",
      "metadata": {
        "id": "l_BJSvqtyK-M"
      },
      "source": [
        "Here we use `in` to check whether the variable `my_string` contains any particular letters. We will later use `in` to iterate through lists!"
      ]
    },
    {
      "cell_type": "markdown",
      "metadata": {
        "id": "6jt6wEZOyK-M"
      },
      "source": [
        "## Loop Structures\n",
        "\n",
        "Loop structures are one of the most important parts of programming. The `for` loop and the `while` loop provide a way to repeatedly run a block of code repeatedly. A `while` loop will iterate until a certain condition has been met. If at any point after an iteration that condition is no longer satisfied, the loop terminates. A `for` loop will iterate over a sequence of values and terminate when the sequence has ended. You can instead include conditions within the `for` loop to decide whether it should terminate early or you could simply let it run its course."
      ]
    },
    {
      "cell_type": "code",
      "metadata": {
        "id": "Vi_AOc2xyK-M",
        "colab": {
          "base_uri": "https://localhost:8080/"
        },
        "outputId": "c7e855e5-297a-4ef1-bbd2-1357d5af6398"
      },
      "source": [
        "i = 7\n",
        "while i > 0: # We can write this as 'while i:' because 0 is False!\n",
        "    i -= 1\n",
        "    print('¡Estoy en un bucle! ¡Faltan {0} para terminar!'.format(i))"
      ],
      "execution_count": 84,
      "outputs": [
        {
          "output_type": "stream",
          "text": [
            "¡Estoy en un bucle! ¡Faltan 6 para terminar!\n",
            "¡Estoy en un bucle! ¡Faltan 5 para terminar!\n",
            "¡Estoy en un bucle! ¡Faltan 4 para terminar!\n",
            "¡Estoy en un bucle! ¡Faltan 3 para terminar!\n",
            "¡Estoy en un bucle! ¡Faltan 2 para terminar!\n",
            "¡Estoy en un bucle! ¡Faltan 1 para terminar!\n",
            "¡Estoy en un bucle! ¡Faltan 0 para terminar!\n"
          ],
          "name": "stdout"
        }
      ]
    },
    {
      "cell_type": "markdown",
      "metadata": {
        "id": "dSya2BsJyK-M"
      },
      "source": [
        "\n",
        "With `while` loops we need to make sure that something actually changes from iteration to iteration so that that the loop actually terminates. In this case, we use the shorthand `i -= 1` (short for `i = i - 1`) so that the value of `i` gets smaller with each iteration. Eventually `i` will be reduced to `0`, rendering the condition `False` and exiting the loop."
      ]
    },
    {
      "cell_type": "markdown",
      "metadata": {
        "id": "oTD_OE7lyK-M"
      },
      "source": [
        "A `for` loop iterates a set number of times, determined when you state the entry into the loop. In this case we are iterating over the list returned from `range()`. The `for` loop selects a value from the list, in order, and temporarily assigns the value of `i` to it so that operations can be performed with the value."
      ]
    },
    {
      "cell_type": "code",
      "metadata": {
        "id": "S6qgocToyK-M",
        "colab": {
          "base_uri": "https://localhost:8080/"
        },
        "outputId": "857b0525-730b-45b3-b86d-676a17a79cdb"
      },
      "source": [
        "for i in range(8):\n",
        "    print('¡Estoy en un bucle! ¡Se ha repetido {0} veces!'.format(i + 1))"
      ],
      "execution_count": 85,
      "outputs": [
        {
          "output_type": "stream",
          "text": [
            "¡Estoy en un bucle! ¡Se ha repetido 1 veces!\n",
            "¡Estoy en un bucle! ¡Se ha repetido 2 veces!\n",
            "¡Estoy en un bucle! ¡Se ha repetido 3 veces!\n",
            "¡Estoy en un bucle! ¡Se ha repetido 4 veces!\n",
            "¡Estoy en un bucle! ¡Se ha repetido 5 veces!\n",
            "¡Estoy en un bucle! ¡Se ha repetido 6 veces!\n",
            "¡Estoy en un bucle! ¡Se ha repetido 7 veces!\n",
            "¡Estoy en un bucle! ¡Se ha repetido 8 veces!\n"
          ],
          "name": "stdout"
        }
      ]
    },
    {
      "cell_type": "markdown",
      "metadata": {
        "id": "Lfkb4rMlyK-M"
      },
      "source": [
        "Note that in this `for` loop we use the `in` keyword. Use of the `in` keyword is not limited to checking for membership as in the if-statement example. You can iterate over any collection with a `for` loop by using the `in` keyword.\n",
        "\n",
        "In this next example, we will iterate over a `set` because we want to check for containment and add to a new set."
      ]
    },
    {
      "cell_type": "code",
      "metadata": {
        "id": "fil_11pgyK-M",
        "colab": {
          "base_uri": "https://localhost:8080/"
        },
        "outputId": "af0648ff-4d04-44fb-8423-ca36a972cc47"
      },
      "source": [
        "mi_lista = {'gatos', 'perros', 'lagartos', 'vacas', 'murciélagos', 'esponjas', 'humanos'} # Lista de todos los animales del mundo\n",
        "lista_de_mamiferos = {'gatos', 'perros', 'vacas', 'murciélagos', 'humanos'} # Lista de todos los mamíferos del mundo\n",
        "mi_nueva_lista = set()\n",
        "for animal in mi_lista:\n",
        "    if animal in lista_de_mamiferos:\n",
        "        # Añade un animal que esté tanto en mi_lista como en lista_de_mamiferos a mi_nueva_lista\n",
        "        mi_nueva_lista.add(animal)\n",
        "        \n",
        "print(mi_nueva_lista)"
      ],
      "execution_count": 86,
      "outputs": [
        {
          "output_type": "stream",
          "text": [
            "{'perros', 'gatos', 'humanos', 'murciélagos', 'vacas'}\n"
          ],
          "name": "stdout"
        }
      ]
    },
    {
      "cell_type": "markdown",
      "metadata": {
        "id": "A3EjH1GUyK-M"
      },
      "source": [
        "There are two statements that are very helpful in dealing with both `for` and `while` loops. These are `break` and `continue`. If `break` is encountered at any point while a loop is executing, the loop will immediately end."
      ]
    },
    {
      "cell_type": "code",
      "metadata": {
        "id": "yKvxTwt0yK-M",
        "colab": {
          "base_uri": "https://localhost:8080/"
        },
        "outputId": "33ca9c29-96ed-4c7a-813d-96cfbc1243a3"
      },
      "source": [
        "i = 13\n",
        "while True:\n",
        "    if i == 19:\n",
        "        break\n",
        "    i += 1 # This is shorthand for i = i + 1. It increments i with each iteration.\n",
        "    print(i)"
      ],
      "execution_count": 87,
      "outputs": [
        {
          "output_type": "stream",
          "text": [
            "14\n",
            "15\n",
            "16\n",
            "17\n",
            "18\n",
            "19\n"
          ],
          "name": "stdout"
        }
      ]
    },
    {
      "cell_type": "code",
      "metadata": {
        "id": "6DM09IWVyK-M",
        "colab": {
          "base_uri": "https://localhost:8080/"
        },
        "outputId": "26f8a92c-7e02-4737-ea57-1c666f54bc97"
      },
      "source": [
        "for i in range(7):\n",
        "    if i == 3:\n",
        "        break\n",
        "    print(i)"
      ],
      "execution_count": 88,
      "outputs": [
        {
          "output_type": "stream",
          "text": [
            "0\n",
            "1\n",
            "2\n"
          ],
          "name": "stdout"
        }
      ]
    },
    {
      "cell_type": "markdown",
      "metadata": {
        "id": "v8mIrQttyK-M"
      },
      "source": [
        "The `continue` statement will tell the loop to immediately end this iteration and continue onto the next iteration of the loop."
      ]
    },
    {
      "cell_type": "code",
      "metadata": {
        "id": "_RcntK-1yK-N",
        "colab": {
          "base_uri": "https://localhost:8080/"
        },
        "outputId": "b7fb111f-4bb3-43ca-e29a-8a2768eaddfa"
      },
      "source": [
        "i = 0\n",
        "while i < 7:\n",
        "    i += 1\n",
        "    if i == 3:\n",
        "        continue\n",
        "    print(i)"
      ],
      "execution_count": 89,
      "outputs": [
        {
          "output_type": "stream",
          "text": [
            "1\n",
            "2\n",
            "4\n",
            "5\n",
            "6\n",
            "7\n"
          ],
          "name": "stdout"
        }
      ]
    },
    {
      "cell_type": "markdown",
      "metadata": {
        "id": "1pxm4datyK-N"
      },
      "source": [
        "This loop skips printing the number $3$ because of the `continue` statement that executes when we enter the if-statement. The code never sees the command to print the number $3$ because it has already moved to the next iteration. The `break` and `continue` statements are further tools to help you control the flow of your loops and, as a result, your code."
      ]
    },
    {
      "cell_type": "markdown",
      "metadata": {
        "id": "q63OGVQmyK-N"
      },
      "source": [
        "The variable that we use to iterate over a loop will retain its value when the loop exits. Similarly, any variables defined within the context of the loop will continue to exist outside of it."
      ]
    },
    {
      "cell_type": "code",
      "metadata": {
        "id": "qLO6qi0hyK-N",
        "colab": {
          "base_uri": "https://localhost:8080/"
        },
        "outputId": "392934e3-28ea-49b6-a5dc-52b37213d7b4"
      },
      "source": [
        "for i in range(7):\n",
        "    loop_string = '¡He trascendido el bucle!'\n",
        "    print('¡Soy eterno! ¡Soy el {0} y existo en todos lados!'.format(i))\n",
        "\n",
        "print('¡Persisto! Mi valor es {0}'.format(i))\n",
        "print(loop_string)"
      ],
      "execution_count": 90,
      "outputs": [
        {
          "output_type": "stream",
          "text": [
            "¡Soy eterno! ¡Soy el 0 y existo en todos lados!\n",
            "¡Soy eterno! ¡Soy el 1 y existo en todos lados!\n",
            "¡Soy eterno! ¡Soy el 2 y existo en todos lados!\n",
            "¡Soy eterno! ¡Soy el 3 y existo en todos lados!\n",
            "¡Soy eterno! ¡Soy el 4 y existo en todos lados!\n",
            "¡Soy eterno! ¡Soy el 5 y existo en todos lados!\n",
            "¡Soy eterno! ¡Soy el 6 y existo en todos lados!\n",
            "¡Persisto! Mi valor es 6\n",
            "¡He trascendido el bucle!\n"
          ],
          "name": "stdout"
        }
      ]
    },
    {
      "cell_type": "markdown",
      "metadata": {
        "id": "sBi3AsTZyK-N"
      },
      "source": [
        "We can also iterate over a dictionary!"
      ]
    },
    {
      "cell_type": "code",
      "metadata": {
        "id": "k0AdW_YLyK-N"
      },
      "source": [
        "my_dict = {'nombre' : 'Santiago', 'apellido' : 'Díaz', 'nemesis' : 'Staaars'}"
      ],
      "execution_count": 91,
      "outputs": []
    },
    {
      "cell_type": "code",
      "metadata": {
        "id": "rMg06dh6yK-N",
        "colab": {
          "base_uri": "https://localhost:8080/"
        },
        "outputId": "4ff0fa95-12e4-4625-a872-46b1f5d022c8"
      },
      "source": [
        "for key in my_dict:\n",
        "    print(key)"
      ],
      "execution_count": 92,
      "outputs": [
        {
          "output_type": "stream",
          "text": [
            "nombre\n",
            "apellido\n",
            "nemesis\n"
          ],
          "name": "stdout"
        }
      ]
    },
    {
      "cell_type": "markdown",
      "metadata": {
        "id": "VlhohEa1yK-N"
      },
      "source": [
        "If we just iterate over a dictionary without doing anything else, we will only get the keys. We can either use the keys to get the values, like so:"
      ]
    },
    {
      "cell_type": "code",
      "metadata": {
        "id": "07Po_QEryK-O",
        "colab": {
          "base_uri": "https://localhost:8080/"
        },
        "outputId": "54b41443-613a-4a2c-a8fc-fde05c0af55b"
      },
      "source": [
        "for key in my_dict:\n",
        "    print(my_dict[key])"
      ],
      "execution_count": 93,
      "outputs": [
        {
          "output_type": "stream",
          "text": [
            "Santiago\n",
            "Díaz\n",
            "Staaars\n"
          ],
          "name": "stdout"
        }
      ]
    },
    {
      "cell_type": "markdown",
      "metadata": {
        "id": "Nw7YMCXfyK-O"
      },
      "source": [
        "Or we can use the `items()` function to get both key and value at the same time."
      ]
    },
    {
      "cell_type": "code",
      "metadata": {
        "id": "UPWyZ7tOyK-O",
        "colab": {
          "base_uri": "https://localhost:8080/"
        },
        "outputId": "ccd66945-9fe8-4414-9bb4-42f96769dce5"
      },
      "source": [
        "for key, value in my_dict.items():\n",
        "    print(key, ':', value)"
      ],
      "execution_count": 94,
      "outputs": [
        {
          "output_type": "stream",
          "text": [
            "nombre : Santiago\n",
            "apellido : Díaz\n",
            "nemesis : Staaars\n"
          ],
          "name": "stdout"
        }
      ]
    },
    {
      "cell_type": "markdown",
      "metadata": {
        "id": "WYgx7I9byK-O"
      },
      "source": [
        "The `items()` function creates a tuple of each key-value pair and the for loop unpacks that tuple into `key, value` on each separate execution of the loop!"
      ]
    },
    {
      "cell_type": "markdown",
      "metadata": {
        "id": "5mhDip1NyK-P"
      },
      "source": [
        "## Functions\n",
        "\n",
        "A function is a reusable block of code that you can call repeatedly to make calculations, output data, or really do anything that you want. This is one of the key aspects of using a programming language. To add to the built-in functions in Python, you can define your own!"
      ]
    },
    {
      "cell_type": "code",
      "metadata": {
        "id": "0Rp2vqPSyK-Q",
        "colab": {
          "base_uri": "https://localhost:8080/"
        },
        "outputId": "ef026b4f-cee9-4885-a5b1-996d261e71c4"
      },
      "source": [
        "def hola_mundo():\n",
        "    \"\"\" Imprime Hola, mundo! \"\"\"\n",
        "    print('Hola, mundo!')\n",
        "\n",
        "hola_mundo()"
      ],
      "execution_count": 95,
      "outputs": [
        {
          "output_type": "stream",
          "text": [
            "Hola, mundo!\n"
          ],
          "name": "stdout"
        }
      ]
    },
    {
      "cell_type": "code",
      "metadata": {
        "id": "QkdM-oQ4yK-Q",
        "colab": {
          "base_uri": "https://localhost:8080/"
        },
        "outputId": "dac9c68f-35a3-4586-dee9-7d52cc927a9c"
      },
      "source": [
        "for i in range(7):\n",
        "    hola_mundo()"
      ],
      "execution_count": 96,
      "outputs": [
        {
          "output_type": "stream",
          "text": [
            "Hola, mundo!\n",
            "Hola, mundo!\n",
            "Hola, mundo!\n",
            "Hola, mundo!\n",
            "Hola, mundo!\n",
            "Hola, mundo!\n",
            "Hola, mundo!\n"
          ],
          "name": "stdout"
        }
      ]
    },
    {
      "cell_type": "markdown",
      "metadata": {
        "id": "n2o0piomyK-Q"
      },
      "source": [
        "Functions are defined with `def`, a function name, a list of parameters, and a colon. Everything indented below the colon will be included in the definition of the function.\n",
        "\n",
        "We can have our functions do anything that you can do with a normal block of code. For example, our `hello_world()` function prints a string every time it is called. If we want to keep a value that a function calculates, we can define the function so that it will `return` the value we want. This is a very important feature of functions, as any variable defined purely within a function will not exist outside of it."
      ]
    },
    {
      "cell_type": "code",
      "metadata": {
        "id": "9oe4JGrhyK-Q",
        "colab": {
          "base_uri": "https://localhost:8080/",
          "height": 209
        },
        "outputId": "4a691e1f-f9f9-4b0b-d64f-df48b38c8017"
      },
      "source": [
        "def see_the_scope():\n",
        "    in_function_string = \"¡Estoy atrapado!\"\n",
        "\n",
        "see_the_scope()\n",
        "print(in_function_string)"
      ],
      "execution_count": 97,
      "outputs": [
        {
          "output_type": "error",
          "ename": "NameError",
          "evalue": "ignored",
          "traceback": [
            "\u001b[0;31m---------------------------------------------------------------------------\u001b[0m",
            "\u001b[0;31mNameError\u001b[0m                                 Traceback (most recent call last)",
            "\u001b[0;32m<ipython-input-97-524693df1c6c>\u001b[0m in \u001b[0;36m<module>\u001b[0;34m()\u001b[0m\n\u001b[1;32m      3\u001b[0m \u001b[0;34m\u001b[0m\u001b[0m\n\u001b[1;32m      4\u001b[0m \u001b[0msee_the_scope\u001b[0m\u001b[0;34m(\u001b[0m\u001b[0;34m)\u001b[0m\u001b[0;34m\u001b[0m\u001b[0;34m\u001b[0m\u001b[0m\n\u001b[0;32m----> 5\u001b[0;31m \u001b[0mprint\u001b[0m\u001b[0;34m(\u001b[0m\u001b[0min_function_string\u001b[0m\u001b[0;34m)\u001b[0m\u001b[0;34m\u001b[0m\u001b[0;34m\u001b[0m\u001b[0m\n\u001b[0m",
            "\u001b[0;31mNameError\u001b[0m: name 'in_function_string' is not defined"
          ]
        }
      ]
    },
    {
      "cell_type": "markdown",
      "metadata": {
        "id": "j0D_gIBCyK-Q"
      },
      "source": [
        " The **scope** of a variable is the part of a block of code where that variable is tied to a particular value. Functions in Python have an enclosed scope, making it so that variables defined within them can only be accessed directly within them. If we pass those values to a return statement we can get them out of the function. This makes it so that the function call returns values so that you can store them in variables that have a greater scope.\n",
        " \n",
        "In this case specifically, including a return statement allows us to keep the string value that we define in the function."
      ]
    },
    {
      "cell_type": "code",
      "metadata": {
        "id": "WQmrhY7zyK-Q",
        "colab": {
          "base_uri": "https://localhost:8080/"
        },
        "outputId": "68903535-b2a6-4866-8ede-d341c4c84287"
      },
      "source": [
        "def free_the_scope():\n",
        "    in_function_string = \"¡Hago lo mismo que tú, pero mejor!\"\n",
        "    return in_function_string\n",
        "my_string = free_the_scope()\n",
        "print(my_string)"
      ],
      "execution_count": 98,
      "outputs": [
        {
          "output_type": "stream",
          "text": [
            "¡Hago lo mismo que tú, pero mejor!\n"
          ],
          "name": "stdout"
        }
      ]
    },
    {
      "cell_type": "markdown",
      "metadata": {
        "id": "LEJWsJgsyK-Q"
      },
      "source": [
        "Just as we can get values out of a function, we can also put values into a function. We do this by defining our function with parameters."
      ]
    },
    {
      "cell_type": "code",
      "metadata": {
        "id": "L-RlQrDRyK-Q",
        "colab": {
          "base_uri": "https://localhost:8080/"
        },
        "outputId": "11cb6d23-c04a-489e-cca4-21635d341add"
      },
      "source": [
        "def multiplicar_por_siete(x):\n",
        "    \"\"\" Multiplica una entrada por 7 \"\"\"\n",
        "    return x * 7\n",
        "\n",
        "n = 4\n",
        "print(n)\n",
        "print(multiplicar_por_siete(n))"
      ],
      "execution_count": 99,
      "outputs": [
        {
          "output_type": "stream",
          "text": [
            "4\n",
            "28\n"
          ],
          "name": "stdout"
        }
      ]
    },
    {
      "cell_type": "markdown",
      "metadata": {
        "id": "gNMJHrbpyK-R"
      },
      "source": [
        "In this example we only had one parameter for our function, `x`. We can easily add more parameters, separating everything with a comma."
      ]
    },
    {
      "cell_type": "code",
      "metadata": {
        "id": "mAu05pKwyK-R"
      },
      "source": [
        "def calcular_area(largo, ancho):\n",
        "    \"\"\" Calcula el área de un rectángulo \"\"\"\n",
        "    return largo * ancho\n",
        "\n",
        "def calcular_area_triangulo(base, altura):\n",
        "    \"\"\" Calcula el área de un triángulo \"\"\"\n",
        "    return (base * altura)/2"
      ],
      "execution_count": 100,
      "outputs": []
    },
    {
      "cell_type": "code",
      "metadata": {
        "id": "li_5z_qRyK-S",
        "colab": {
          "base_uri": "https://localhost:8080/"
        },
        "outputId": "5e194e78-5172-4285-a00f-8fe11247f3f1"
      },
      "source": [
        "l = 6\n",
        "w = 11\n",
        "b = 3\n",
        "h = 12\n",
        "print('Area: ', calcular_area(l, w))\n",
        "print('Largo: ', l)\n",
        "print('Ancho: ', w)\n",
        "\n",
        "print('Area: ', calcular_area_triangulo(b, h))\n",
        "print('Largo: ', b)\n",
        "print('Ancho: ', h)"
      ],
      "execution_count": 101,
      "outputs": [
        {
          "output_type": "stream",
          "text": [
            "Area:  66\n",
            "Largo:  6\n",
            "Ancho:  11\n",
            "Area:  18.0\n",
            "Largo:  3\n",
            "Ancho:  12\n"
          ],
          "name": "stdout"
        }
      ]
    },
    {
      "cell_type": "code",
      "metadata": {
        "id": "8Qx3QW9EyK-S"
      },
      "source": [
        "def calcular_volumen(largo, ancho, profundidad):\n",
        "    \"\"\" Calcula el volumen de un prisma rectangular \"\"\"\n",
        "    return largo * ancho * profundidad"
      ],
      "execution_count": 102,
      "outputs": []
    },
    {
      "cell_type": "markdown",
      "metadata": {
        "id": "NWBj0y_HyK-S"
      },
      "source": [
        "If we want to, we can define a function so that it takes an arbitrary number of parameters. We tell Python that we want this by using an asterisk (`*`)."
      ]
    },
    {
      "cell_type": "code",
      "metadata": {
        "id": "K8Y9IoTXyK-S"
      },
      "source": [
        "def suma_valores(*args):\n",
        "    sum_val = 0\n",
        "    for i in args:\n",
        "        sum_val += i\n",
        "    return sum_val"
      ],
      "execution_count": 103,
      "outputs": []
    },
    {
      "cell_type": "code",
      "metadata": {
        "id": "emP5J2UmyK-S",
        "colab": {
          "base_uri": "https://localhost:8080/"
        },
        "outputId": "4beb1fe2-caf5-4d5c-9646-0b11b5114f04"
      },
      "source": [
        "print(suma_valores(1, 2, 3,4))\n",
        "print(suma_valores(10, 21, 23, 45, 50, 12))\n",
        "print(suma_valores(4, -2, 5, 1, -10, 249, -25, -24, -13, 6, -4))"
      ],
      "execution_count": 104,
      "outputs": [
        {
          "output_type": "stream",
          "text": [
            "10\n",
            "161\n",
            "187\n"
          ],
          "name": "stdout"
        }
      ]
    },
    {
      "cell_type": "markdown",
      "metadata": {
        "id": "9BMzJI8jyK-S"
      },
      "source": [
        "The time to use `*args` as a parameter for your function is when you do not know how many values may be passed to it, as in the case of our sum function. The asterisk in this case is the syntax that tells Python that you are going to pass an arbitrary number of parameters into your function. These parameters are stored in the form of a tuple."
      ]
    },
    {
      "cell_type": "code",
      "metadata": {
        "id": "vyEtnJ_AyK-S",
        "colab": {
          "base_uri": "https://localhost:8080/"
        },
        "outputId": "4427ce5a-14cb-4cc1-9952-9d0fa9ad4510"
      },
      "source": [
        "def test_args(*args):\n",
        "    print(type(args))\n",
        "\n",
        "test_args(1, 2, 3, 4, 5, 6)"
      ],
      "execution_count": 105,
      "outputs": [
        {
          "output_type": "stream",
          "text": [
            "<class 'tuple'>\n"
          ],
          "name": "stdout"
        }
      ]
    },
    {
      "cell_type": "markdown",
      "metadata": {
        "id": "LQwpNUGHyK-T"
      },
      "source": [
        "We can put as many elements into the `args` tuple as we want to when we call the function. However, because `args` is a tuple, we cannot modify it after it has been created.\n",
        "\n",
        "The `args` name of the variable is purely by convention. You could just as easily name your parameter `*vars` or `*things`. You can treat the `args` tuple like you would any other tuple, easily accessing `arg`'s values and iterating over it, as in the above `sum_values(*args)` function."
      ]
    },
    {
      "cell_type": "markdown",
      "metadata": {
        "id": "JNyubnfnyK-T"
      },
      "source": [
        "Our functions can return any data type. This makes it easy for us to create functions that check for conditions that we might want to monitor.\n",
        "\n",
        "Here we define a function that returns a boolean value. We can easily use this in conjunction with if-statements and  other situations that require a boolean."
      ]
    },
    {
      "cell_type": "code",
      "metadata": {
        "id": "OyeXMk_NyK-T"
      },
      "source": [
        "def tiene_vocal(word):\n",
        "    \"\"\" \n",
        "    Revisa si una palabra contiene una vocal \n",
        "    Si no contiene una vocal convencional,\n",
        "    revisa si hay una 'y' o 'w'.\n",
        "    No revisa si sirven como vocal para esa palabra.\n",
        "    \"\"\"\n",
        "    lista_de_vocales = ['a', 'e', 'i', 'o', 'u']\n",
        "    \n",
        "    for vocal in lista_de_vocales:\n",
        "        if vocal in word:\n",
        "            return True\n",
        "    # Si hay una vocal en la palabra, la función retorna, lo que previene que cualquier cosa después del bucle se ejecute\n",
        "    return False"
      ],
      "execution_count": 106,
      "outputs": []
    },
    {
      "cell_type": "code",
      "metadata": {
        "id": "E5X4iM_EyK-T",
        "colab": {
          "base_uri": "https://localhost:8080/"
        },
        "outputId": "e2e466cc-6751-441e-dd83-98a5662eb0af"
      },
      "source": [
        "my_word = 'Aguanile'\n",
        "if tiene_vocal(my_word):\n",
        "    print('Qué sorpresa, una palabra en español tiene una vocal.')\n",
        "else:\n",
        "    print('Esto sí es una sorpresa.')"
      ],
      "execution_count": 107,
      "outputs": [
        {
          "output_type": "stream",
          "text": [
            "Qué sorpresa, una palabra en español tiene una vocal.\n"
          ],
          "name": "stdout"
        }
      ]
    },
    {
      "cell_type": "code",
      "metadata": {
        "id": "p-i7Yk8WyK-T"
      },
      "source": [
        "def point_maker(x, y):\n",
        "    \"\"\" Agrupa valores x & y como un punto, técnicamente es una tupla \"\"\"\n",
        "    return x, y"
      ],
      "execution_count": 108,
      "outputs": []
    },
    {
      "cell_type": "markdown",
      "metadata": {
        "id": "ue8z9OBWyK-T"
      },
      "source": [
        "This above function returns an ordered pair of the input parameters, stored as a tuple."
      ]
    },
    {
      "cell_type": "code",
      "metadata": {
        "id": "joSioTB7yK-T",
        "scrolled": true,
        "colab": {
          "base_uri": "https://localhost:8080/"
        },
        "outputId": "fe16a48b-0635-4e16-a1ab-7cdf31ab8cee"
      },
      "source": [
        "a = point_maker(0, 10)\n",
        "b = point_maker(5, 3)\n",
        "def calcular_pendiente(point_a, point_b):\n",
        "    \"\"\" Calcula la pendiente entre dos puntos \"\"\"\n",
        "    return (point_b[1] - point_a[1])/(point_b[0] - point_a[0])\n",
        "print(\"La pendiente de la recta que pasa por a y b es {0}\".format(calcular_pendiente(a, b)))"
      ],
      "execution_count": 109,
      "outputs": [
        {
          "output_type": "stream",
          "text": [
            "La pendiente de la recta que pasa por a y b es -1.4\n"
          ],
          "name": "stdout"
        }
      ]
    },
    {
      "cell_type": "markdown",
      "metadata": {
        "id": "W0-M0UniyK-U"
      },
      "source": [
        "And that one calculates the slope between two points!"
      ]
    },
    {
      "cell_type": "code",
      "metadata": {
        "id": "OesK2ltSyK-U",
        "colab": {
          "base_uri": "https://localhost:8080/"
        },
        "outputId": "35c9d539-edd9-45ac-ea4a-2f39cff17f91"
      },
      "source": [
        "print(\"La ecuación de la recta que pasa por a y b, usando el punto a, es: y - {0} = {2}(x - {1})\".format(a[1], a[0], calcular_pendiente(a, b)))"
      ],
      "execution_count": 111,
      "outputs": [
        {
          "output_type": "stream",
          "text": [
            "La ecuación de la recta que pasa por a y b, usando el punto a, es: y - 10 = -1.4(x - 0)\n"
          ],
          "name": "stdout"
        }
      ]
    },
    {
      "cell_type": "markdown",
      "metadata": {
        "id": "VLQmngEayK-U"
      },
      "source": [
        "With the proper syntax, you can define functions to do whatever calculations you want. This makes them an indispensible part of programming in any language."
      ]
    },
    {
      "cell_type": "markdown",
      "metadata": {
        "id": "uGOZTlOUyK-U"
      },
      "source": [
        "## Next Steps\n",
        "\n",
        "This was a lot of material and there is still even more to cover! Make sure you play around with the cells in each notebook to accustom yourself to the syntax featured here and to figure out any limitations. If you want to delve even deeper into the material, the [documentation for Python](https://docs.python.org/2/) is all available online. We are in the process of developing a second part to this Python tutorial, designed to provide you with even more programming knowledge, so keep an eye on the [Quantopian Lectures Page](quantopian.com/lectures) and the [forums](quantopian.com/posts) for any new lectures."
      ]
    },
    {
      "cell_type": "markdown",
      "metadata": {
        "id": "SHyuykbAyK-U"
      },
      "source": [
        "*This presentation is for informational purposes only and does not constitute an offer to sell, a solicitation to buy, or a recommendation for any security; nor does it constitute an offer to provide investment advisory or other services by Quantopian, Inc. (\"Quantopian\"). Nothing contained herein constitutes investment advice or offers any opinion with respect to the suitability of any security, and any views expressed herein should not be taken as advice to buy, sell, or hold any security or as an endorsement of any security or company.  In preparing the information contained herein, Quantopian, Inc. has not taken into account the investment needs, objectives, and financial circumstances of any particular investor. Any views expressed and data illustrated herein were prepared based upon information, believed to be reliable, available to Quantopian, Inc. at the time of publication. Quantopian makes no guarantees as to their accuracy or completeness. All information is subject to change and may quickly become unreliable for various reasons, including changes in market conditions or economic circumstances.*"
      ]
    }
  ]
}