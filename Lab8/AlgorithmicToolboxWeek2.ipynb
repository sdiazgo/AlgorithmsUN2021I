{
  "nbformat": 4,
  "nbformat_minor": 0,
  "metadata": {
    "colab": {
      "name": "AlgorithmicToolboxWeek2.ipynb",
      "provenance": []
    },
    "kernelspec": {
      "name": "python3",
      "display_name": "Python 3"
    },
    "language_info": {
      "name": "python"
    }
  },
  "cells": [
    {
      "cell_type": "markdown",
      "metadata": {
        "id": "uCOD0E-mtmvJ"
      },
      "source": [
        "##**ALGORITHMIC TOOLBOX: SEMANA 2**"
      ]
    },
    {
      "cell_type": "markdown",
      "metadata": {
        "id": "v2pMNxuIudWz"
      },
      "source": [
        "###**Número de Fibonacci**"
      ]
    },
    {
      "cell_type": "code",
      "metadata": {
        "colab": {
          "base_uri": "https://localhost:8080/"
        },
        "id": "j4_KwXCzskc7",
        "outputId": "f7e837e9-be23-49be-9977-0ee1ccf046a0"
      },
      "source": [
        "%%writefile fiboN.cpp\n",
        "#include <iostream>\n",
        "\n",
        "int main(){\n",
        "\tint n;\n",
        "\tstd::cin>>n;\n",
        "\n",
        "\tint fib0 = 0;\n",
        "\tint fib1 = 1;\n",
        "\tint fibN = 0;\n",
        "\n",
        "\tif(n==0){\n",
        "\t\tstd::cout << fib0;\n",
        "\t}\n",
        "\n",
        "\telse if(n==1){\n",
        "\t\tstd::cout << fib1;\n",
        "\t}\n",
        "\n",
        "\telse{\n",
        "\t\tfor(int i = 0; i <= n-2; i++){\n",
        "\t\t\tfibN = fib0 + fib1;\n",
        "\t\t\tfib0 = fib1;\n",
        "\t\t\tfib1 = fibN;\n",
        "\t\t}\n",
        "\t\tstd::cout << fibN;\n",
        "\t}\n",
        "\n",
        "\treturn 0;\n",
        "}"
      ],
      "execution_count": 1,
      "outputs": [
        {
          "output_type": "stream",
          "text": [
            "Writing fiboN.cpp\n"
          ],
          "name": "stdout"
        }
      ]
    },
    {
      "cell_type": "code",
      "metadata": {
        "colab": {
          "base_uri": "https://localhost:8080/"
        },
        "id": "dylgbGBP33CX",
        "outputId": "9d420a6b-431f-48e4-a56e-e692f68932b9"
      },
      "source": [
        "!g++ fiboN.cpp -o fiboN\n",
        "!./fiboN"
      ],
      "execution_count": 3,
      "outputs": [
        {
          "output_type": "stream",
          "text": [
            "6\n",
            "8"
          ],
          "name": "stdout"
        }
      ]
    },
    {
      "cell_type": "markdown",
      "metadata": {
        "id": "7F6_ouWQumiX"
      },
      "source": [
        "###**Último dígito de un número de Fibonacci grande**"
      ]
    },
    {
      "cell_type": "code",
      "metadata": {
        "colab": {
          "base_uri": "https://localhost:8080/"
        },
        "id": "iML8rOQrvXSD",
        "outputId": "45897732-defd-4abd-e9f5-eb799fc52500"
      },
      "source": [
        "%%writefile fiboLD.cpp\n",
        "#include <iostream>\n",
        "\n",
        "int main(){\n",
        "\tint n;\n",
        "\tstd::cin>>n;\n",
        "\n",
        "\tlong long fib0 = 0;\n",
        "\tlong long fib1 = 1;\n",
        "\tlong long fibN = 0;\n",
        "\n",
        "\tif(n==0){\n",
        "\t\tstd::cout << fib0;\n",
        "\t}\n",
        "\n",
        "\telse if(n==1){\n",
        "\t\tstd::cout << fib1;\n",
        "\t}\n",
        "\n",
        "\telse{\n",
        "\t\tfor(int i = 0; i <= n-2; i++){\n",
        "\t\t\tfibN = fib0 + fib1;\n",
        "\t\t\tfib0 = fib1;\n",
        "\t\t\tfib1 = fibN;\n",
        "\t\t}\n",
        "\t\tint lastD = abs(fibN % 10);\n",
        "\t\tstd::cout << lastD;\n",
        "\t}\n",
        "\n",
        "\treturn 0;\n",
        "}"
      ],
      "execution_count": 11,
      "outputs": [
        {
          "output_type": "stream",
          "text": [
            "Writing fiboLD.cpp\n"
          ],
          "name": "stdout"
        }
      ]
    },
    {
      "cell_type": "code",
      "metadata": {
        "colab": {
          "base_uri": "https://localhost:8080/"
        },
        "id": "M4y3lqbt6HM_",
        "outputId": "4c849290-e304-4f73-e4f2-bda8dedf28ce"
      },
      "source": [
        "!g++ fiboLD.cpp -o fiboLD\n",
        "!./fiboLD"
      ],
      "execution_count": 24,
      "outputs": [
        {
          "output_type": "stream",
          "text": [
            "239\n",
            "1"
          ],
          "name": "stdout"
        }
      ]
    },
    {
      "cell_type": "markdown",
      "metadata": {
        "id": "Ol4Grp2wumsf"
      },
      "source": [
        "###**Máximo común divisor**"
      ]
    },
    {
      "cell_type": "code",
      "metadata": {
        "colab": {
          "base_uri": "https://localhost:8080/"
        },
        "id": "gMNvOmgZvXsV",
        "outputId": "c8270b67-f4e2-4c7c-ab2d-edba72452e29"
      },
      "source": [
        "%%writefile mcd.cpp\n",
        "#include <iostream>\n",
        "\n",
        "int mcd(int a, int b){\n",
        "    if(b == 0){\n",
        "        return a;\n",
        "    }\n",
        "    return mcd(b, a%b);\n",
        "}\n",
        "int main()\n",
        "{\n",
        "    int a, b;\n",
        "    std::cin >> a;\n",
        "    std::cin >> b;\n",
        "    std::cout << mcd(a, b);\n",
        "    return 0;\n",
        "}"
      ],
      "execution_count": 5,
      "outputs": [
        {
          "output_type": "stream",
          "text": [
            "Writing mcd.cpp\n"
          ],
          "name": "stdout"
        }
      ]
    },
    {
      "cell_type": "code",
      "metadata": {
        "colab": {
          "base_uri": "https://localhost:8080/"
        },
        "id": "ajn45FQG4TrT",
        "outputId": "cabadda9-2398-4e50-ac57-5b287ce2a33b"
      },
      "source": [
        "!g++ mcd.cpp -o mcd\n",
        "!./mcd"
      ],
      "execution_count": 8,
      "outputs": [
        {
          "output_type": "stream",
          "text": [
            "169\n",
            "52\n",
            "13"
          ],
          "name": "stdout"
        }
      ]
    },
    {
      "cell_type": "markdown",
      "metadata": {
        "id": "UJT55F84un0Q"
      },
      "source": [
        "###**Mínimo común múltiplo**"
      ]
    },
    {
      "cell_type": "code",
      "metadata": {
        "colab": {
          "base_uri": "https://localhost:8080/"
        },
        "id": "0GYyLUAQvYF6",
        "outputId": "9f15de5f-87e2-4176-bdb8-078d27b7a09c"
      },
      "source": [
        "%%writefile mcm.cpp\n",
        "#include <iostream>\n",
        "\n",
        "long long mcd(long long a, long long b){\n",
        "    if(b == 0){\n",
        "        return a;\n",
        "    }\n",
        "    return mcd(b, a%b);\n",
        "}\n",
        "int main()\n",
        "{\n",
        "    long long a, b;\n",
        "    std::cin >> a;\n",
        "    std::cin >> b;\n",
        "    std::cout << a * b / mcd(a, b);\n",
        "    return 0;\n",
        "}"
      ],
      "execution_count": 9,
      "outputs": [
        {
          "output_type": "stream",
          "text": [
            "Writing mcm.cpp\n"
          ],
          "name": "stdout"
        }
      ]
    },
    {
      "cell_type": "code",
      "metadata": {
        "colab": {
          "base_uri": "https://localhost:8080/"
        },
        "id": "8y7eeHxN4qZK",
        "outputId": "e6244996-d942-4ae0-b2a1-c3aaab0023a8"
      },
      "source": [
        "!g++ mcm.cpp -o mcm\n",
        "!./mcm"
      ],
      "execution_count": 10,
      "outputs": [
        {
          "output_type": "stream",
          "text": [
            "7\n",
            "4\n",
            "28"
          ],
          "name": "stdout"
        }
      ]
    }
  ]
}